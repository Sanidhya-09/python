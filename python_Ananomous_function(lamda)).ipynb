{
 "cells": [
  {
   "cell_type": "code",
   "execution_count": 1,
   "id": "a4fb0506-a00e-4f74-8845-4c52875cbac6",
   "metadata": {},
   "outputs": [],
   "source": [
    "def sum(x,y):\n",
    "    z=x+y\n",
    "    return z"
   ]
  },
  {
   "cell_type": "code",
   "execution_count": 2,
   "id": "7fe3011f-1fe9-4e9f-8f90-341a4a01085c",
   "metadata": {},
   "outputs": [
    {
     "data": {
      "text/plain": [
       "65"
      ]
     },
     "execution_count": 2,
     "metadata": {},
     "output_type": "execute_result"
    }
   ],
   "source": [
    "sum(20,45)"
   ]
  },
  {
   "cell_type": "code",
   "execution_count": 6,
   "id": "517b4b0b-3cb6-49a7-991e-41ddc94fd93a",
   "metadata": {},
   "outputs": [],
   "source": [
    "#so here we use lamda function\n",
    "\n",
    "var=lambda x,y:x+y                 #lambda parameter:function body"
   ]
  },
  {
   "cell_type": "code",
   "execution_count": 7,
   "id": "61e639ef-8ab7-4a10-892d-c8068736c8cd",
   "metadata": {},
   "outputs": [
    {
     "data": {
      "text/plain": [
       "85"
      ]
     },
     "execution_count": 7,
     "metadata": {},
     "output_type": "execute_result"
    }
   ],
   "source": [
    "var(20,65)"
   ]
  },
  {
   "cell_type": "code",
   "execution_count": null,
   "id": "30eaacb3-20f7-49ae-95b5-7792d23f7b4a",
   "metadata": {},
   "outputs": [],
   "source": []
  },
  {
   "cell_type": "code",
   "execution_count": 1,
   "id": "648066ee-e99f-460c-93ce-af16237bda27",
   "metadata": {},
   "outputs": [
    {
     "data": {
      "text/plain": [
       "<filter at 0x250e36084c0>"
      ]
     },
     "execution_count": 1,
     "metadata": {},
     "output_type": "execute_result"
    }
   ],
   "source": [
    "#first order function (function who takes function as a input)\n",
    "\n",
    "list(filter(lambda x:x%5==0,[10,25,14,27,78,64,19,32,55,75]))"
   ]
  },
  {
   "cell_type": "code",
   "execution_count": null,
   "id": "0e4d4a75-838b-4c07-bfcc-1461de37ee49",
   "metadata": {},
   "outputs": [],
   "source": []
  },
  {
   "cell_type": "code",
   "execution_count": 9,
   "id": "1a9036f3-ff4d-4b16-b527-5df8cb8981ec",
   "metadata": {},
   "outputs": [],
   "source": [
    "mylist=[\"sanidhya145@gmail.com\",\"pramod@gmail.com\",\"prem@yahoo.com\",\"rohit@lw.com\"]"
   ]
  },
  {
   "cell_type": "code",
   "execution_count": 10,
   "id": "6ceaa17c-1711-4426-8d7a-0fcd43ba17f3",
   "metadata": {},
   "outputs": [
    {
     "data": {
      "text/plain": [
       "['sanidhya145@gmail.com', 'pramod@gmail.com']"
      ]
     },
     "execution_count": 10,
     "metadata": {},
     "output_type": "execute_result"
    }
   ],
   "source": [
    "list(filter(lambda email:email.split(\"@\")[1]==\"gmail.com\",mylist))"
   ]
  },
  {
   "cell_type": "code",
   "execution_count": null,
   "id": "a3fb6eb2-ef2b-4016-b4d3-13002587ccb7",
   "metadata": {},
   "outputs": [],
   "source": []
  },
  {
   "cell_type": "code",
   "execution_count": 11,
   "id": "5024eaa5-fead-467e-842f-9fd0dcec9e42",
   "metadata": {},
   "outputs": [
    {
     "data": {
      "text/plain": [
       "['sanidhya145@gmail.com', 'pramod@gmail.com']"
      ]
     },
     "execution_count": 11,
     "metadata": {},
     "output_type": "execute_result"
    }
   ],
   "source": [
    "list(filter(lambda email:email.endswith(\"@gmail.com\"),mylist))"
   ]
  },
  {
   "cell_type": "code",
   "execution_count": null,
   "id": "36c39430-99cd-47ae-8bf9-6bf0367f35da",
   "metadata": {},
   "outputs": [],
   "source": []
  },
  {
   "cell_type": "code",
   "execution_count": 12,
   "id": "6d390f93-50e1-42ca-bfcc-6f62337da5d7",
   "metadata": {},
   "outputs": [],
   "source": [
    "database={\n",
    "    \"name\":[\"sanidhya\",\"prem\",\"om\",\"rohit\"],\n",
    "    \"e_id\":[10,20,30,40]\n",
    "}"
   ]
  },
  {
   "cell_type": "code",
   "execution_count": 13,
   "id": "df39d770-f3a1-4f98-96fa-d6d06487f42b",
   "metadata": {},
   "outputs": [],
   "source": [
    "import pandas as pd"
   ]
  },
  {
   "cell_type": "code",
   "execution_count": 14,
   "id": "19cf04f1-e30e-41cc-890f-3c7c0edfabad",
   "metadata": {},
   "outputs": [],
   "source": [
    "db=pd.DataFrame(database)"
   ]
  },
  {
   "cell_type": "code",
   "execution_count": 15,
   "id": "7c6db360-781d-4b27-bda8-72c8be491295",
   "metadata": {},
   "outputs": [
    {
     "data": {
      "text/html": [
       "<div>\n",
       "<style scoped>\n",
       "    .dataframe tbody tr th:only-of-type {\n",
       "        vertical-align: middle;\n",
       "    }\n",
       "\n",
       "    .dataframe tbody tr th {\n",
       "        vertical-align: top;\n",
       "    }\n",
       "\n",
       "    .dataframe thead th {\n",
       "        text-align: right;\n",
       "    }\n",
       "</style>\n",
       "<table border=\"1\" class=\"dataframe\">\n",
       "  <thead>\n",
       "    <tr style=\"text-align: right;\">\n",
       "      <th></th>\n",
       "      <th>name</th>\n",
       "      <th>e_id</th>\n",
       "    </tr>\n",
       "  </thead>\n",
       "  <tbody>\n",
       "    <tr>\n",
       "      <th>0</th>\n",
       "      <td>sanidhya</td>\n",
       "      <td>10</td>\n",
       "    </tr>\n",
       "    <tr>\n",
       "      <th>1</th>\n",
       "      <td>prem</td>\n",
       "      <td>20</td>\n",
       "    </tr>\n",
       "    <tr>\n",
       "      <th>2</th>\n",
       "      <td>om</td>\n",
       "      <td>30</td>\n",
       "    </tr>\n",
       "    <tr>\n",
       "      <th>3</th>\n",
       "      <td>rohit</td>\n",
       "      <td>40</td>\n",
       "    </tr>\n",
       "  </tbody>\n",
       "</table>\n",
       "</div>"
      ],
      "text/plain": [
       "       name  e_id\n",
       "0  sanidhya    10\n",
       "1      prem    20\n",
       "2        om    30\n",
       "3     rohit    40"
      ]
     },
     "execution_count": 15,
     "metadata": {},
     "output_type": "execute_result"
    }
   ],
   "source": [
    "db"
   ]
  },
  {
   "cell_type": "code",
   "execution_count": 16,
   "id": "15dae3b7-be0b-4787-98b0-89dda45dd5f0",
   "metadata": {},
   "outputs": [],
   "source": [
    "res=list(db[\"name\"].apply(lambda x:x+\"@lw.com\"))"
   ]
  },
  {
   "cell_type": "code",
   "execution_count": 17,
   "id": "64e489d9-2dd6-41e7-991f-6dbd6e6dca61",
   "metadata": {},
   "outputs": [
    {
     "data": {
      "text/plain": [
       "['sanidhya@lw.com', 'prem@lw.com', 'om@lw.com', 'rohit@lw.com']"
      ]
     },
     "execution_count": 17,
     "metadata": {},
     "output_type": "execute_result"
    }
   ],
   "source": [
    "res"
   ]
  },
  {
   "cell_type": "code",
   "execution_count": null,
   "id": "edcc4e5c-3983-452d-8185-a7e05ea70196",
   "metadata": {},
   "outputs": [],
   "source": []
  }
 ],
 "metadata": {
  "kernelspec": {
   "display_name": "Python 3 (ipykernel)",
   "language": "python",
   "name": "python3"
  },
  "language_info": {
   "codemirror_mode": {
    "name": "ipython",
    "version": 3
   },
   "file_extension": ".py",
   "mimetype": "text/x-python",
   "name": "python",
   "nbconvert_exporter": "python",
   "pygments_lexer": "ipython3",
   "version": "3.12.3"
  }
 },
 "nbformat": 4,
 "nbformat_minor": 5
}
