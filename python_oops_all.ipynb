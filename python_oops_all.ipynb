{
 "cells": [
  {
   "cell_type": "code",
   "execution_count": 1,
   "id": "893d925a-9154-4d81-94f1-781be27a8569",
   "metadata": {},
   "outputs": [],
   "source": [
    "class Student():\n",
    "    def __init__(self,name,age,yearOfEngineering,percentage):\n",
    "        self.name=name\n",
    "        self.age=age\n",
    "        self.yearOfEngineering=yearOfEngineering\n",
    "        self.__percentage=percentage            #Encapsulation\n",
    "\n",
    "    def showPercentage(self):\n",
    "        return f\"Percentage is {self.__percentage}\"    #method Encapsulation...\n",
    "        \n",
    "    def greeting(self):\n",
    "        return f\"{self.name},welcome to Aissms-ioit\"\n",
    "        \n",
    "    def studentDetails(self):\n",
    "        return f\"{self.name} is {self.age} years old and in {self.yearOfEngineering} year of engineering.\"    #Abstraction "
   ]
  },
  {
   "cell_type": "code",
   "execution_count": 2,
   "id": "3d2070c1-83d0-4799-8530-084f42e28436",
   "metadata": {},
   "outputs": [],
   "source": [
    "std_1=Student(\"sanidhya\",22,\"last\",90)"
   ]
  },
  {
   "cell_type": "code",
   "execution_count": 3,
   "id": "ed8bc0af-765b-4b8f-a9e0-389c82a69edf",
   "metadata": {},
   "outputs": [
    {
     "data": {
      "text/plain": [
       "{'name': 'sanidhya',\n",
       " 'age': 22,\n",
       " 'yearOfEngineering': 'last',\n",
       " '_Student__percentage': 90}"
      ]
     },
     "execution_count": 3,
     "metadata": {},
     "output_type": "execute_result"
    }
   ],
   "source": [
    "std_1.__dict__"
   ]
  },
  {
   "cell_type": "code",
   "execution_count": 4,
   "id": "58d3ddc4-6f8b-4a25-8254-6e57b73d319a",
   "metadata": {},
   "outputs": [],
   "source": [
    "# std_1.name=\"pramod\""
   ]
  },
  {
   "cell_type": "code",
   "execution_count": 5,
   "id": "b3da8cd6-8133-4784-999f-e14b249ff822",
   "metadata": {},
   "outputs": [
    {
     "data": {
      "text/plain": [
       "'sanidhya is 22 years old and in last year of engineering.'"
      ]
     },
     "execution_count": 5,
     "metadata": {},
     "output_type": "execute_result"
    }
   ],
   "source": [
    "std_1.studentDetails()   #here we used abstraction..."
   ]
  },
  {
   "cell_type": "code",
   "execution_count": null,
   "id": "44e3e03f-1281-45f7-946c-dc6461ca881f",
   "metadata": {},
   "outputs": [],
   "source": []
  },
  {
   "cell_type": "code",
   "execution_count": 6,
   "id": "22154a45-e3d9-45c4-b1ff-5d0621379fb5",
   "metadata": {},
   "outputs": [],
   "source": [
    "# std_1.percentage    we cant access it directly... gives error"
   ]
  },
  {
   "cell_type": "code",
   "execution_count": 7,
   "id": "35a504ad-a867-41aa-8fa9-9c09aafe9210",
   "metadata": {},
   "outputs": [
    {
     "data": {
      "text/plain": [
       "'Percentage is 90'"
      ]
     },
     "execution_count": 7,
     "metadata": {},
     "output_type": "execute_result"
    }
   ],
   "source": [
    "std_1.showPercentage()"
   ]
  },
  {
   "cell_type": "code",
   "execution_count": null,
   "id": "2f90884c-7a1a-45a1-b775-31939aa3ca68",
   "metadata": {},
   "outputs": [],
   "source": []
  },
  {
   "cell_type": "code",
   "execution_count": 8,
   "id": "5feb877f-074f-402d-9c69-43a0c10744d3",
   "metadata": {},
   "outputs": [],
   "source": [
    "std_2=Student(\"Siddhant\",23,\"third\",88)"
   ]
  },
  {
   "cell_type": "code",
   "execution_count": 9,
   "id": "8e0d11a5-6396-4ead-af5b-77a0c2438eb6",
   "metadata": {},
   "outputs": [
    {
     "data": {
      "text/plain": [
       "{'name': 'Siddhant',\n",
       " 'age': 23,\n",
       " 'yearOfEngineering': 'third',\n",
       " '_Student__percentage': 88}"
      ]
     },
     "execution_count": 9,
     "metadata": {},
     "output_type": "execute_result"
    }
   ],
   "source": [
    "std_2.__dict__"
   ]
  },
  {
   "cell_type": "code",
   "execution_count": null,
   "id": "0f9e8249-d151-4991-9845-1f9b7ff03e55",
   "metadata": {},
   "outputs": [],
   "source": []
  },
  {
   "cell_type": "code",
   "execution_count": 10,
   "id": "9654e79c-0cf9-454e-97e3-2c065d4f0279",
   "metadata": {},
   "outputs": [],
   "source": [
    "#inheritance..."
   ]
  },
  {
   "cell_type": "code",
   "execution_count": 11,
   "id": "1d056680-8e79-4f45-8178-ebef18bf9899",
   "metadata": {},
   "outputs": [],
   "source": [
    "class PassoutStudent(Student):    #inheritance...\n",
    "    def __init__(self,name,age,yearOfEngineering,percentage,passoutYear):\n",
    "        super().__init__(name,age,yearOfEngineering,percentage,)\n",
    "        self.passoutYear=passoutYear\n",
    "        \n",
    "    def sendoff(self):\n",
    "        return f\"{self.name},Thank you for your memories...!\"\n",
    "\n",
    "    def studentDetails(self):      #polymorphism...\n",
    "        return f\"{self.name} is passout student.\"\n",
    "\n",
    "    "
   ]
  },
  {
   "cell_type": "code",
   "execution_count": 12,
   "id": "98dfa3fd-db74-4294-84e3-a521f3c9fffc",
   "metadata": {},
   "outputs": [],
   "source": [
    "obj_1=PassoutStudent(\"Prem\",23,\"passout\",88,2025)"
   ]
  },
  {
   "cell_type": "code",
   "execution_count": 13,
   "id": "de983d06-022f-4136-9e65-521a0eca4b28",
   "metadata": {},
   "outputs": [
    {
     "data": {
      "text/plain": [
       "{'name': 'Prem',\n",
       " 'age': 23,\n",
       " 'yearOfEngineering': 'passout',\n",
       " '_Student__percentage': 88,\n",
       " 'passoutYear': 2025}"
      ]
     },
     "execution_count": 13,
     "metadata": {},
     "output_type": "execute_result"
    }
   ],
   "source": [
    "obj_1.__dict__"
   ]
  },
  {
   "cell_type": "code",
   "execution_count": 14,
   "id": "b08c6c1a-6cb0-4923-a107-c073310bb4c6",
   "metadata": {},
   "outputs": [
    {
     "data": {
      "text/plain": [
       "'Prem,Thank you for your memories...!'"
      ]
     },
     "execution_count": 14,
     "metadata": {},
     "output_type": "execute_result"
    }
   ],
   "source": [
    "obj_1.sendoff()"
   ]
  },
  {
   "cell_type": "code",
   "execution_count": 15,
   "id": "90fc8fbb-660d-4004-bafc-361f2551275a",
   "metadata": {},
   "outputs": [
    {
     "data": {
      "text/plain": [
       "'Prem is passout student.'"
      ]
     },
     "execution_count": 15,
     "metadata": {},
     "output_type": "execute_result"
    }
   ],
   "source": [
    "obj_1.studentDetails()         #here polymorphism is used..."
   ]
  },
  {
   "cell_type": "code",
   "execution_count": 16,
   "id": "bba0b44a-97cb-4e6c-ac2c-1d1a5f9dea49",
   "metadata": {},
   "outputs": [
    {
     "data": {
      "text/plain": [
       "'Siddhant is 23 years old and in third year of engineering.'"
      ]
     },
     "execution_count": 16,
     "metadata": {},
     "output_type": "execute_result"
    }
   ],
   "source": [
    "std_2.studentDetails()         #here polymorphism is used..."
   ]
  },
  {
   "cell_type": "code",
   "execution_count": null,
   "id": "a18c995b-f34e-4a2e-8e4b-4266628eedca",
   "metadata": {},
   "outputs": [],
   "source": []
  }
 ],
 "metadata": {
  "kernelspec": {
   "display_name": "Python 3 (ipykernel)",
   "language": "python",
   "name": "python3"
  },
  "language_info": {
   "codemirror_mode": {
    "name": "ipython",
    "version": 3
   },
   "file_extension": ".py",
   "mimetype": "text/x-python",
   "name": "python",
   "nbconvert_exporter": "python",
   "pygments_lexer": "ipython3",
   "version": "3.12.3"
  }
 },
 "nbformat": 4,
 "nbformat_minor": 5
}
