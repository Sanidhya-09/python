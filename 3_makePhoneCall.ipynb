{
 "cells": [
  {
   "cell_type": "code",
   "execution_count": 1,
   "id": "b69f70aa-4816-4c47-a092-da3915e11c97",
   "metadata": {},
   "outputs": [],
   "source": [
    "from twilio.rest import Client\n",
    "import schedule\n",
    "import time\n",
    "\n",
    "myAccountId=\"ACd8b400a7b51d442b8895bc770d933aae\"\n",
    "authToken=\"88b2e1b5d27808ff7a9559537cdac8fe\"\n",
    "\n",
    "client=Client(myAccountId,authToken)\n",
    "\n",
    "def makePhoneCall():\n",
    "\n",
    "    def phoneCall(reciversPhoneNumber):\n",
    "        call=client.calls.create(\n",
    "            to=reciversPhoneNumber,\n",
    "            from_=\"+17742284646\",\n",
    "            url=\"http://demo.twilio.com/docs/voice.xml\"\n",
    "        )\n",
    "        print(f\"callerId:{call.sid}\")\n",
    "        return schedule.CancelJob\n",
    "\n",
    "    reciversPhoneNumber=input(\"Enter recivers phone number with (+91):\")\n",
    "    userTime=input(\"Enter sheduled time in (HH:MM) format:\")\n",
    "    \n",
    "    schedule.every().day.at(userTime).do(phoneCall,reciversPhoneNumber=reciversPhoneNumber)\n",
    "\n",
    "\n",
    "    while True:\n",
    "        schedule.run_pending()\n",
    "        time.sleep(1)"
   ]
  },
  {
   "cell_type": "code",
   "execution_count": null,
   "id": "355d4f78-98c1-4764-8606-b31dcd220f56",
   "metadata": {},
   "outputs": [
    {
     "name": "stdin",
     "output_type": "stream",
     "text": [
      "Enter recivers phone number with (+91): +918055242696\n",
      "Enter sheduled time in (HH:MM) format: 13:09\n"
     ]
    },
    {
     "name": "stdout",
     "output_type": "stream",
     "text": [
      "callerId:CA55aa4aa9642834c10dcc0f71a846f713\n"
     ]
    }
   ],
   "source": [
    "makePhoneCall()"
   ]
  },
  {
   "cell_type": "code",
   "execution_count": null,
   "id": "63e47392-fdb7-4316-87ae-ed36e818cece",
   "metadata": {},
   "outputs": [],
   "source": []
  }
 ],
 "metadata": {
  "kernelspec": {
   "display_name": "Python 3 (ipykernel)",
   "language": "python",
   "name": "python3"
  },
  "language_info": {
   "codemirror_mode": {
    "name": "ipython",
    "version": 3
   },
   "file_extension": ".py",
   "mimetype": "text/x-python",
   "name": "python",
   "nbconvert_exporter": "python",
   "pygments_lexer": "ipython3",
   "version": "3.12.3"
  }
 },
 "nbformat": 4,
 "nbformat_minor": 5
}
