{
 "cells": [
  {
   "cell_type": "code",
   "execution_count": 3,
   "id": "e33057bd-400a-4442-aaae-81e760b9b392",
   "metadata": {},
   "outputs": [],
   "source": [
    "import cv2\n",
    "import mediapipe as mp\n",
    "from pycaw.pycaw import AudioUtilities, IAudioEndpointVolume\n",
    "from comtypes import CLSCTX_ALL\n",
    "import math\n",
    "import numpy as np\n",
    "\n",
    "# Initialize Mediapipe and pycaw\n",
    "mp_hands = mp.solutions.hands\n",
    "hands = mp_hands.Hands()\n",
    "mp_drawing = mp.solutions.drawing_utils\n",
    "\n",
    "# Volume control setup using pycaw\n",
    "devices = AudioUtilities.GetSpeakers()\n",
    "interface = devices.Activate(IAudioEndpointVolume._iid_, CLSCTX_ALL, None)\n",
    "volume = interface.QueryInterface(IAudioEndpointVolume)\n",
    "\n",
    "vol_range = volume.GetVolumeRange()\n",
    "min_vol = vol_range[0]\n",
    "max_vol = vol_range[1]\n",
    "\n",
    "# Start video capture\n",
    "cap = cv2.VideoCapture(0)\n",
    "\n",
    "while True:\n",
    "    ret, frame = cap.read()\n",
    "    frame_rgb = cv2.cvtColor(frame, cv2.COLOR_BGR2RGB)\n",
    "    results = hands.process(frame_rgb)\n",
    "\n",
    "    if results.multi_hand_landmarks:\n",
    "        for hand_landmarks in results.multi_hand_landmarks:\n",
    "            mp_drawing.draw_landmarks(frame, hand_landmarks, mp_hands.HAND_CONNECTIONS)\n",
    "\n",
    "            # Get coordinates of thumb and index finger tips\n",
    "            thumb_tip = hand_landmarks.landmark[4]\n",
    "            index_tip = hand_landmarks.landmark[8]\n",
    "\n",
    "            # Convert to pixel coordinates\n",
    "            x1, y1 = int(thumb_tip.x * frame.shape[1]), int(thumb_tip.y * frame.shape[0])\n",
    "            x2, y2 = int(index_tip.x * frame.shape[1]), int(index_tip.y * frame.shape[0])\n",
    "\n",
    "            # Calculate distance between thumb and index finger\n",
    "            distance = math.hypot(x2 - x1, y2 - y1)\n",
    "\n",
    "            # Map the distance to the volume range\n",
    "            vol = np.interp(distance, [50, 300], [min_vol, max_vol])\n",
    "            volume.SetMasterVolumeLevel(vol, None)\n",
    "\n",
    "    # Display the webcam feed\n",
    "    cv2.imshow('Hand Gesture Volume Control', frame)\n",
    "\n",
    "    # Press 'q' to quit\n",
    "    if cv2.waitKey(1) & 0xFF == ord('q'):\n",
    "        break\n",
    "\n",
    "cap.release()\n",
    "cv2.destroyAllWindows()\n"
   ]
  },
  {
   "cell_type": "code",
   "execution_count": null,
   "id": "967e783b-ac37-4161-9905-98fd4025ade0",
   "metadata": {},
   "outputs": [],
   "source": []
  }
 ],
 "metadata": {
  "kernelspec": {
   "display_name": "Python 3 (ipykernel)",
   "language": "python",
   "name": "python3"
  },
  "language_info": {
   "codemirror_mode": {
    "name": "ipython",
    "version": 3
   },
   "file_extension": ".py",
   "mimetype": "text/x-python",
   "name": "python",
   "nbconvert_exporter": "python",
   "pygments_lexer": "ipython3",
   "version": "3.12.3"
  }
 },
 "nbformat": 4,
 "nbformat_minor": 5
}
