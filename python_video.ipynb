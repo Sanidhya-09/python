{
 "cells": [
  {
   "cell_type": "code",
   "execution_count": 1,
   "id": "46eb4030-8a9d-4912-b4f9-4cc5a72037be",
   "metadata": {},
   "outputs": [],
   "source": [
    "import cv2"
   ]
  },
  {
   "cell_type": "code",
   "execution_count": 2,
   "id": "bca1d1d8-085f-4945-ba7c-b0a8e1364e72",
   "metadata": {},
   "outputs": [],
   "source": [
    "camera=cv2.VideoCapture(0)\n",
    "# camera12=cv2.VideoCapture(\"http://10.15.231.126:8080/video\")"
   ]
  },
  {
   "cell_type": "code",
   "execution_count": 3,
   "id": "2fa287c2-5569-4d26-8b5d-9ce601dd629f",
   "metadata": {},
   "outputs": [],
   "source": [
    "while True:\n",
    "    status,photo=camera.read()\n",
    "    cv2.imshow(\"sanidhya_video\",photo)\n",
    "    if cv2.waitKey(10)==13:\n",
    "        break\n",
    "        \n",
    "cv2.destroyAllWindows()\n",
    "camera.release()"
   ]
  },
  {
   "cell_type": "code",
   "execution_count": null,
   "id": "4f24a103-1f47-4357-a8ea-42b6eca72bce",
   "metadata": {},
   "outputs": [],
   "source": []
  },
  {
   "cell_type": "code",
   "execution_count": null,
   "id": "41c7b182-eb4f-4e4a-9b2e-544b224ad07c",
   "metadata": {},
   "outputs": [],
   "source": []
  },
  {
   "cell_type": "code",
   "execution_count": null,
   "id": "bf9f7abe-67e1-432a-9c46-2011a384ed75",
   "metadata": {},
   "outputs": [],
   "source": []
  },
  {
   "cell_type": "code",
   "execution_count": null,
   "id": "b631148e-1c23-4046-8564-ebb03694b4a3",
   "metadata": {},
   "outputs": [],
   "source": []
  },
  {
   "cell_type": "code",
   "execution_count": null,
   "id": "4eecd87e-b4fd-4810-b655-02a7c03fb1fb",
   "metadata": {},
   "outputs": [],
   "source": []
  },
  {
   "cell_type": "code",
   "execution_count": null,
   "id": "0af06254-37b1-4e5c-b673-79da5bdc4766",
   "metadata": {},
   "outputs": [],
   "source": []
  },
  {
   "cell_type": "code",
   "execution_count": null,
   "id": "4b38d6ab-a3e5-4734-b59e-88fbb5139868",
   "metadata": {},
   "outputs": [],
   "source": []
  },
  {
   "cell_type": "code",
   "execution_count": null,
   "id": "6a3d223d-3e26-4205-90e5-7e6c965262e0",
   "metadata": {},
   "outputs": [],
   "source": []
  },
  {
   "cell_type": "code",
   "execution_count": null,
   "id": "9ac0a1d6-8b3f-4ec9-9e85-4203b543089a",
   "metadata": {},
   "outputs": [],
   "source": []
  },
  {
   "cell_type": "code",
   "execution_count": null,
   "id": "fc2cd877-dcda-448d-b853-b6502a2fc4f5",
   "metadata": {},
   "outputs": [],
   "source": [
    "\n",
    "\n",
    "# while True:\n",
    "#     status,photo=camera12.read()\n",
    "#     cv2.imshow(\"sanidhya\",photo)\n",
    "\n",
    "#     if cv2.waitKey(10)==13:\n",
    "#         break\n",
    "        \n",
    "# cv2.destroyAllWindows()"
   ]
  },
  {
   "cell_type": "code",
   "execution_count": null,
   "id": "4d54919b-39e0-4a46-adfc-2608df899dc6",
   "metadata": {},
   "outputs": [],
   "source": [
    "camera.release()"
   ]
  },
  {
   "cell_type": "code",
   "execution_count": null,
   "id": "19a34056-3ef9-4b56-854c-5b33ab6e287e",
   "metadata": {},
   "outputs": [],
   "source": []
  }
 ],
 "metadata": {
  "kernelspec": {
   "display_name": "Python 3 (ipykernel)",
   "language": "python",
   "name": "python3"
  },
  "language_info": {
   "codemirror_mode": {
    "name": "ipython",
    "version": 3
   },
   "file_extension": ".py",
   "mimetype": "text/x-python",
   "name": "python",
   "nbconvert_exporter": "python",
   "pygments_lexer": "ipython3",
   "version": "3.12.3"
  }
 },
 "nbformat": 4,
 "nbformat_minor": 5
}
