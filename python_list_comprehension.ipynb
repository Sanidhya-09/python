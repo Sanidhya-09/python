{
 "cells": [
  {
   "cell_type": "code",
   "execution_count": null,
   "id": "f18b0f09-d2ae-409a-97cc-f8b76f631390",
   "metadata": {},
   "outputs": [],
   "source": [
    "a=[]"
   ]
  },
  {
   "cell_type": "code",
   "execution_count": null,
   "id": "de1ea455-0649-4466-bbd4-8547b8e63f28",
   "metadata": {},
   "outputs": [],
   "source": [
    "for i in [10,20,50,40,60]:\n",
    "    a.append(i)"
   ]
  },
  {
   "cell_type": "code",
   "execution_count": null,
   "id": "154cc2f9-5610-4dcc-b70f-88fc37f64219",
   "metadata": {},
   "outputs": [],
   "source": [
    "print(a)"
   ]
  },
  {
   "cell_type": "code",
   "execution_count": null,
   "id": "795435b9-dfd8-4a39-85cc-0351a94edf71",
   "metadata": {},
   "outputs": [],
   "source": []
  },
  {
   "cell_type": "code",
   "execution_count": null,
   "id": "287509fb-3999-47e1-909a-c465ee2d5c6c",
   "metadata": {},
   "outputs": [],
   "source": [
    "#list comprehension...\n",
    "\n",
    "res=[i*2 for i in [11,22,33,44,55]]"
   ]
  },
  {
   "cell_type": "code",
   "execution_count": null,
   "id": "a3fa185f-5315-4602-a905-504d09bc4e2e",
   "metadata": {},
   "outputs": [],
   "source": [
    "res"
   ]
  },
  {
   "cell_type": "code",
   "execution_count": null,
   "id": "ee53f2f8-06d7-4c23-821e-59369b1a1632",
   "metadata": {},
   "outputs": [],
   "source": []
  },
  {
   "cell_type": "code",
   "execution_count": null,
   "id": "bc28525e-6ff4-4aa4-b131-6d8e0d04dd7c",
   "metadata": {},
   "outputs": [],
   "source": []
  },
  {
   "cell_type": "code",
   "execution_count": null,
   "id": "06ef2ef3-da60-40fc-ac1c-6ffef45f159b",
   "metadata": {},
   "outputs": [],
   "source": [
    "name=[\"sanidhya\",\"pramod\",\"om\",\"prem\"]"
   ]
  },
  {
   "cell_type": "code",
   "execution_count": null,
   "id": "218e469b-bf9e-4689-a5ad-3f50665ef4b5",
   "metadata": {},
   "outputs": [],
   "source": [
    "for i in name:\n",
    "    x=name[i]+\"123@gmail.com\"   # we can't give name[i], \" i \" must be integer\n",
    "    print(x)"
   ]
  },
  {
   "cell_type": "code",
   "execution_count": null,
   "id": "3ba5bb14-5637-454c-ae32-31fa89ccf5cc",
   "metadata": {},
   "outputs": [],
   "source": []
  },
  {
   "cell_type": "code",
   "execution_count": null,
   "id": "f2c8fbe0-7998-4f87-a040-f65ac6f54832",
   "metadata": {},
   "outputs": [],
   "source": [
    "gmail=[i+\"123@gmail.com\" for i in name if len(i)>=4]         #[ 1.)ans(with its operation)  2.) for i in \"list\"  3.) condition ]"
   ]
  },
  {
   "cell_type": "code",
   "execution_count": null,
   "id": "783bc36e-1121-4be2-8bef-20da7f3a8d0e",
   "metadata": {},
   "outputs": [],
   "source": [
    "gmail"
   ]
  },
  {
   "cell_type": "code",
   "execution_count": null,
   "id": "6ed8dca1-08d2-43e8-b7ee-fe786ef2068e",
   "metadata": {},
   "outputs": [],
   "source": []
  },
  {
   "cell_type": "code",
   "execution_count": null,
   "id": "3fe1adf1-cf54-41cf-8615-304f1ff5a257",
   "metadata": {},
   "outputs": [],
   "source": [
    "# dictionary comprehension\n",
    "\n",
    "mydict={i:f\"item{i}\" for i in range (1,50) if i%2==0}\n",
    "print(mydict)"
   ]
  },
  {
   "cell_type": "code",
   "execution_count": null,
   "id": "2059faa6-2ba1-450e-b95f-083c6b1a19b6",
   "metadata": {},
   "outputs": [],
   "source": []
  },
  {
   "cell_type": "code",
   "execution_count": null,
   "id": "41ecd141-09e7-4b4a-9798-9daf1a2f918c",
   "metadata": {},
   "outputs": [],
   "source": []
  },
  {
   "cell_type": "code",
   "execution_count": null,
   "id": "14843da5-5eab-4b96-91d2-84d3dae8319d",
   "metadata": {},
   "outputs": [],
   "source": [
    "# generator comprehension\n",
    "\n",
    "mylist=(i**2 for i in range(1000000000000000000000000000000000000000000000000))"
   ]
  },
  {
   "cell_type": "code",
   "execution_count": null,
   "id": "0e0191fd-7ef2-4aed-9893-7cd1db273b95",
   "metadata": {},
   "outputs": [],
   "source": [
    "print(next(mylist))"
   ]
  },
  {
   "cell_type": "code",
   "execution_count": null,
   "id": "220c1272-70b1-4fd1-af3e-ff4f37be85b1",
   "metadata": {},
   "outputs": [],
   "source": []
  },
  {
   "cell_type": "code",
   "execution_count": null,
   "id": "66df8cf3-0994-4fc4-b245-a1e7aa28ab97",
   "metadata": {},
   "outputs": [],
   "source": []
  },
  {
   "cell_type": "code",
   "execution_count": null,
   "id": "04235481-947d-4434-8210-201c49d51e26",
   "metadata": {},
   "outputs": [],
   "source": [
    "# else with for loop\n",
    "# else works only when list ends normally,without break\n",
    "\n",
    "list=[10,20,30,4050]\n",
    "for i in list:\n",
    "    print(i)\n",
    "else:\n",
    "    print(\"loop ended successfully\")\n"
   ]
  },
  {
   "cell_type": "code",
   "execution_count": null,
   "id": "b5baa60e-2bb5-4a77-b520-5c7e12f5f252",
   "metadata": {},
   "outputs": [],
   "source": []
  },
  {
   "cell_type": "code",
   "execution_count": null,
   "id": "c7f816a3-1872-4106-88e6-c46b71403450",
   "metadata": {},
   "outputs": [],
   "source": []
  },
  {
   "cell_type": "code",
   "execution_count": null,
   "id": "a47f7bc9-5d50-42af-80f2-8b3bb3379d77",
   "metadata": {},
   "outputs": [],
   "source": []
  },
  {
   "cell_type": "code",
   "execution_count": 4,
   "id": "40ec57a4-60bc-419d-a2e3-da6cc08948f8",
   "metadata": {},
   "outputs": [
    {
     "ename": "SyntaxError",
     "evalue": "invalid non-printable character U+00A0 (1657468650.py, line 10)",
     "output_type": "error",
     "traceback": [
      "\u001b[1;36m  Cell \u001b[1;32mIn[4], line 10\u001b[1;36m\u001b[0m\n\u001b[1;33m    file.close()\u001b[0m\n\u001b[1;37m    ^\u001b[0m\n\u001b[1;31mSyntaxError\u001b[0m\u001b[1;31m:\u001b[0m invalid non-printable character U+00A0\n"
     ]
    }
   ],
   "source": [
    "from contextlib import contextmanager\n",
    "\n",
    "@contextmanager\n",
    "def filehandling(filename,mode):\n",
    "    try:\n",
    "        file=open(filename,mode)\n",
    "        yield file\n",
    "    finally:\n",
    "        if file:\n",
    "            fie\n",
    "with filehandling(\"my_file.txt\", \"w\") as fh:\n",
    "    fh.write(\"1234567udbdjdkdghrj454545\\n\") #added a new line character\n",
    "    print(\"data appended successfully...\")"
   ]
  },
  {
   "cell_type": "code",
   "execution_count": null,
   "id": "4cc2597d-2155-42ed-ac11-ae8da8f54bce",
   "metadata": {},
   "outputs": [],
   "source": []
  }
 ],
 "metadata": {
  "kernelspec": {
   "display_name": "Python 3 (ipykernel)",
   "language": "python",
   "name": "python3"
  },
  "language_info": {
   "codemirror_mode": {
    "name": "ipython",
    "version": 3
   },
   "file_extension": ".py",
   "mimetype": "text/x-python",
   "name": "python",
   "nbconvert_exporter": "python",
   "pygments_lexer": "ipython3",
   "version": "3.12.3"
  }
 },
 "nbformat": 4,
 "nbformat_minor": 5
}
