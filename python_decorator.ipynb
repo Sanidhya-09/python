{
 "cells": [
  {
   "cell_type": "markdown",
   "id": "a9901b15-b8db-4ff5-8cde-e3c24829efb6",
   "metadata": {},
   "source": [
    "Python Decorator"
   ]
  },
  {
   "cell_type": "code",
   "execution_count": null,
   "id": "2d1d38bd-5209-4707-ba7c-a102f06ed665",
   "metadata": {},
   "outputs": [],
   "source": [
    "# generally decorators are used to add additional features,functionalities in existing function(like printer)\n",
    "\n",
    "def decor(func):\n",
    "    def inner():\n",
    "        func()\n",
    "        print(\"Welcome...!\")\n",
    "    return inner"
   ]
  },
  {
   "cell_type": "code",
   "execution_count": null,
   "id": "166ec241-c4b1-467b-87d9-cb6ae634d5ca",
   "metadata": {},
   "outputs": [],
   "source": []
  },
  {
   "cell_type": "code",
   "execution_count": null,
   "id": "53299b56-938a-4ce3-a80b-de92237d535d",
   "metadata": {},
   "outputs": [],
   "source": [
    "@decor\n",
    "def printer():\n",
    "    print(\"Welcome...!\")\n",
    "    print(\"Welcome...!\")"
   ]
  },
  {
   "cell_type": "code",
   "execution_count": null,
   "id": "7f5db690-7328-4463-8d22-ad9345c7f906",
   "metadata": {},
   "outputs": [],
   "source": [
    "printer=decor(printer())"
   ]
  },
  {
   "cell_type": "code",
   "execution_count": null,
   "id": "45653611-a1a1-496b-8893-a4421afec818",
   "metadata": {},
   "outputs": [],
   "source": []
  },
  {
   "cell_type": "code",
   "execution_count": null,
   "id": "24fb824e-6adf-4576-9f3e-38e72f0417d0",
   "metadata": {},
   "outputs": [],
   "source": []
  },
  {
   "cell_type": "code",
   "execution_count": null,
   "id": "248fa759-c7a4-40c4-a6d6-bae5f1b986b7",
   "metadata": {},
   "outputs": [],
   "source": [
    "def decor(addition):\n",
    "    def inner():\n",
    "        res=addition()\n",
    "        num3=int(input(\"Enter third number:\"))\n",
    "        res=res+num3\n",
    "        return res\n",
    "    return inner"
   ]
  },
  {
   "cell_type": "code",
   "execution_count": null,
   "id": "c8944be8-56fe-4983-955f-b9f2df026165",
   "metadata": {},
   "outputs": [],
   "source": []
  },
  {
   "cell_type": "code",
   "execution_count": null,
   "id": "3cab3b88-29e3-4e80-9ee0-ce5188bd477b",
   "metadata": {},
   "outputs": [],
   "source": [
    "@decor\n",
    "def addition():\n",
    "    num1=int(input(\"Enter first number:\"))\n",
    "    num2=int(input(\"Enter second number:\"))\n",
    "    result=num1+num2\n",
    "    return result"
   ]
  },
  {
   "cell_type": "code",
   "execution_count": null,
   "id": "8681d311-31fb-46f0-a7d6-15e2037950a3",
   "metadata": {},
   "outputs": [],
   "source": [
    "print(\"Addition is\",addition())"
   ]
  },
  {
   "cell_type": "code",
   "execution_count": null,
   "id": "de670eb1-4903-4219-aa0c-6043f07e05ce",
   "metadata": {},
   "outputs": [],
   "source": []
  },
  {
   "cell_type": "code",
   "execution_count": null,
   "id": "a1a73c37-c8d6-484a-8cae-0e44676183b2",
   "metadata": {},
   "outputs": [],
   "source": []
  },
  {
   "cell_type": "code",
   "execution_count": null,
   "id": "a8647a41-a2fe-4cb9-a270-584d592683a3",
   "metadata": {},
   "outputs": [],
   "source": [
    "# multiple decrators on single function"
   ]
  },
  {
   "cell_type": "code",
   "execution_count": null,
   "id": "6c4f450f-7fbb-4197-afe8-b7fb2afdfa3c",
   "metadata": {},
   "outputs": [],
   "source": [
    "def decor1(getName):\n",
    "    def inner():\n",
    "        return getName().upper()\n",
    "    return inner"
   ]
  },
  {
   "cell_type": "code",
   "execution_count": null,
   "id": "465056e3-39e9-4101-9dea-447d261d440e",
   "metadata": {},
   "outputs": [],
   "source": [
    "def decor2(getName):\n",
    "    def inner():\n",
    "        return getName().split()\n",
    "    return inner"
   ]
  },
  {
   "cell_type": "code",
   "execution_count": null,
   "id": "e3dabfbe-5443-4cc9-9e92-0375857c676f",
   "metadata": {},
   "outputs": [],
   "source": []
  },
  {
   "cell_type": "code",
   "execution_count": null,
   "id": "e0335914-8006-4c44-a788-8e85401f37b0",
   "metadata": {},
   "outputs": [],
   "source": [
    "@decor2\n",
    "@decor1\n",
    "def getName():\n",
    "    firstName=input(\"Enter first name:\")\n",
    "    lastName=input(\"Enter first name:\")\n",
    "    fullName=firstName+\" \"+lastName\n",
    "    return fullName"
   ]
  },
  {
   "cell_type": "code",
   "execution_count": null,
   "id": "1a109fd1-45e1-4378-a728-5c9e4d635c64",
   "metadata": {},
   "outputs": [],
   "source": [
    "print(getName())"
   ]
  },
  {
   "cell_type": "code",
   "execution_count": null,
   "id": "d7a6a3fd-d917-412a-b3db-7b0b808753b1",
   "metadata": {},
   "outputs": [],
   "source": []
  },
  {
   "cell_type": "code",
   "execution_count": null,
   "id": "9a212cd7-f448-4439-99ba-f3c394179891",
   "metadata": {},
   "outputs": [],
   "source": []
  },
  {
   "cell_type": "code",
   "execution_count": null,
   "id": "15a61041-e37d-4275-ae23-8e1728ec239c",
   "metadata": {},
   "outputs": [],
   "source": [
    "# single decrators on multiple function"
   ]
  },
  {
   "cell_type": "code",
   "execution_count": null,
   "id": "d4ea9240-9d8e-4ba8-9804-855a8da25333",
   "metadata": {},
   "outputs": [],
   "source": []
  },
  {
   "cell_type": "code",
   "execution_count": null,
   "id": "90878dab-d913-4103-b92d-d45922fc43ab",
   "metadata": {},
   "outputs": [],
   "source": [
    "def decor(func):\n",
    "    def inner(*arg):\n",
    "        for i in arg[1:]:\n",
    "            if i==0:\n",
    "                return \"can not perform division\"\n",
    "        return func(*arg)\n",
    "    return inner"
   ]
  },
  {
   "cell_type": "code",
   "execution_count": null,
   "id": "8d9c3a82-d230-4de9-91df-a328728d3c2b",
   "metadata": {},
   "outputs": [],
   "source": [
    "@decor\n",
    "def div1(a,b):\n",
    "    return a/b"
   ]
  },
  {
   "cell_type": "code",
   "execution_count": null,
   "id": "ac5aa832-51aa-4648-9971-5dfe9c011186",
   "metadata": {},
   "outputs": [],
   "source": [
    "@decor\n",
    "def div2(a,b,c):\n",
    "    return a/b/c"
   ]
  },
  {
   "cell_type": "code",
   "execution_count": null,
   "id": "311d626d-a0c0-407b-9d1a-f4c67f283ca5",
   "metadata": {},
   "outputs": [],
   "source": [
    "print(div1(10,5))\n",
    "print(div2(15,0,1))"
   ]
  },
  {
   "cell_type": "code",
   "execution_count": null,
   "id": "ce698267-9569-4cec-9d96-35daf996704c",
   "metadata": {},
   "outputs": [],
   "source": []
  },
  {
   "cell_type": "code",
   "execution_count": null,
   "id": "969beb8e-291b-4672-8d2e-7a9f9d75c0b0",
   "metadata": {},
   "outputs": [],
   "source": []
  },
  {
   "cell_type": "code",
   "execution_count": null,
   "id": "4d066c7d-db54-4a31-afb1-e214317ce20d",
   "metadata": {},
   "outputs": [],
   "source": [
    "# function decorator...\n",
    "def function_decorator(func):\n",
    "    def inner(*args, **kwargs):\n",
    "        result = func(*args, **kwargs)\n",
    "        return result\n",
    "    return inner\n",
    "\n",
    "@function_decorator\n",
    "def greet(name):\n",
    "    print(f\"Hello, {name}!\")\n",
    "\n",
    "greet({\"sanidhya\":45})\n"
   ]
  },
  {
   "cell_type": "code",
   "execution_count": null,
   "id": "d21a853d-dc7c-4fb1-861f-d1f9c318516d",
   "metadata": {},
   "outputs": [],
   "source": []
  },
  {
   "cell_type": "code",
   "execution_count": null,
   "id": "92dbba80-9697-4364-8991-f9bcea6b6d8c",
   "metadata": {},
   "outputs": [],
   "source": []
  },
  {
   "cell_type": "code",
   "execution_count": null,
   "id": "bfff5c7e-9ea3-49ad-bb96-8ca44cf3f09c",
   "metadata": {},
   "outputs": [],
   "source": [
    "def decor(multiplication):\n",
    "    def inner():\n",
    "        res=multiplication()\n",
    "        num3=int(input(\"Enter third number:\"))\n",
    "        res=res*num3\n",
    "        return f\"multiplication is:{res}\"\n",
    "    return inner\n",
    "\n",
    "\n",
    "@decor\n",
    "def multiplication():\n",
    "    n1=int(input(\"Enter your number:\"))\n",
    "    n2=int(input(\"Enter your number:\"))\n",
    "    mul=n1*n2\n",
    "    return mul\n",
    "\n",
    "final_Ans=(multiplication())\n",
    "print(final_Ans)\n"
   ]
  },
  {
   "cell_type": "code",
   "execution_count": null,
   "id": "3a7daf36-b73a-4e9d-8407-474da3f3bfb7",
   "metadata": {},
   "outputs": [],
   "source": []
  },
  {
   "cell_type": "code",
   "execution_count": null,
   "id": "b6659d38-ad37-4d32-aa70-001dbc6935e2",
   "metadata": {},
   "outputs": [],
   "source": [
    "import time\n",
    "\n",
    "def timer(func):\n",
    "    def wrapper(*arg,**kwarg):\n",
    "        start=time.perf_counter()\n",
    "        result=func(*arg,**kwarg)\n",
    "        end=time.perf_counter()\n",
    "        print(f\"the {func.__name__} function take {(end-start):.4f}'s to complete.\")\n",
    "        return result\n",
    "    return wrapper\n",
    "\n",
    "@timer\n",
    "def addition(x,y):\n",
    "    \n",
    "    time.sleep(2)\n",
    "    return f\"Addition is {x+y}\"\n",
    "\n",
    "n10=int(input(\"Enter your number:\"))\n",
    "n20=int(input(\"Enter your number:\"))\n",
    "\n",
    "addition(n10,n20)"
   ]
  },
  {
   "cell_type": "code",
   "execution_count": null,
   "id": "6648bf66-f5fe-43a5-9e33-3400be049872",
   "metadata": {},
   "outputs": [],
   "source": []
  },
  {
   "cell_type": "code",
   "execution_count": null,
   "id": "1ed947b9-fe6a-446c-9480-c93c3d806dbf",
   "metadata": {},
   "outputs": [],
   "source": []
  },
  {
   "cell_type": "code",
   "execution_count": null,
   "id": "2c800e30-4717-4e0e-897d-0873bee1daf1",
   "metadata": {},
   "outputs": [],
   "source": [
    "def decor(func):\n",
    "    \n",
    "    cache_value={}\n",
    "    print(cache_value)\n",
    "    \n",
    "    def wrapper(*arg,**Kwarg):\n",
    "        if arg in cache_value:\n",
    "            return cache_value[arg]\n",
    "        result=func(*arg,**Kwarg)\n",
    "        cache_value[arg]=result\n",
    "        return result\n",
    "    return wrapper\n",
    "\n",
    "@decor\n",
    "def sum123(x,y):\n",
    "    time.sleep(10)\n",
    "    return x+y\n",
    "\n",
    "sum123(10,25)\n",
    "sum123(10,25)\n",
    "    "
   ]
  },
  {
   "cell_type": "code",
   "execution_count": null,
   "id": "ac091c44-207b-48d3-ab29-3cd466107743",
   "metadata": {},
   "outputs": [],
   "source": [
    "sum123(10,25)"
   ]
  },
  {
   "cell_type": "code",
   "execution_count": null,
   "id": "a295382d-0115-40b0-bcbc-35eb11d05436",
   "metadata": {},
   "outputs": [],
   "source": [
    "sum123(10,88)"
   ]
  },
  {
   "cell_type": "code",
   "execution_count": null,
   "id": "a47793fa-cfc0-4beb-8737-447cc6277611",
   "metadata": {},
   "outputs": [],
   "source": [
    "sum123(10,88)"
   ]
  },
  {
   "cell_type": "code",
   "execution_count": null,
   "id": "5bdb2927-8876-4274-8ac2-6b265b923df0",
   "metadata": {},
   "outputs": [],
   "source": []
  },
  {
   "cell_type": "code",
   "execution_count": null,
   "id": "def9a784-ec5c-4824-bb26-52d33b62f0f5",
   "metadata": {},
   "outputs": [],
   "source": []
  },
  {
   "cell_type": "code",
   "execution_count": null,
   "id": "97d518ad-e5b3-4a97-b8f5-135001d9bc2c",
   "metadata": {},
   "outputs": [],
   "source": []
  },
  {
   "cell_type": "code",
   "execution_count": null,
   "id": "093dc0d8-1685-4312-83bf-661e90fd15ec",
   "metadata": {},
   "outputs": [],
   "source": [
    "import time                                  #for this question we can use @lru_cache...\n",
    "\n",
    "def decor(func):\n",
    "    cache_value = {}\n",
    "    print(\"cache value at the time of defination\",cache_value)\n",
    "\n",
    "    def wrapper(*arg, **Kwarg):\n",
    "        print(\"cache value at the time of calling\",cache_value)\n",
    "        print(\"arguments passed are\",arg)\n",
    "        if arg in cache_value:\n",
    "            print(\"getting from cache\")\n",
    "            return cache_value[arg]\n",
    "        print(\"calculating value\")\n",
    "        result = func(*arg, **Kwarg)\n",
    "        cache_value[arg] = result\n",
    "        return result\n",
    "\n",
    "    return wrapper\n",
    "\n",
    "@decor\n",
    "def sum123(x, y):\n",
    "    time.sleep(10)\n",
    "    return x + y\n",
    "\n",
    "print(sum123(10, 25))  # First call\n",
    "# print(sum123(10, 25))  # Second call (cached)\n",
    "# print(sum123(5,30))"
   ]
  },
  {
   "cell_type": "code",
   "execution_count": null,
   "id": "4938fb09-3e7e-40e5-9edf-9381999a85c1",
   "metadata": {},
   "outputs": [],
   "source": [
    "print(sum123(10,30))"
   ]
  },
  {
   "cell_type": "code",
   "execution_count": null,
   "id": "a21c60bf-6eb1-45f6-9b13-415c585d42b4",
   "metadata": {},
   "outputs": [],
   "source": [
    "print(sum123(10, 25)) "
   ]
  },
  {
   "cell_type": "code",
   "execution_count": null,
   "id": "f42aab45-8139-4d24-a9b8-ad994a618e44",
   "metadata": {},
   "outputs": [],
   "source": []
  },
  {
   "cell_type": "code",
   "execution_count": null,
   "id": "798e09ab-c742-4d3e-b2be-e061d45b13ea",
   "metadata": {},
   "outputs": [],
   "source": []
  },
  {
   "cell_type": "code",
   "execution_count": null,
   "id": "13ab5c60-9b41-45cb-9b67-a6fbe5bbcf01",
   "metadata": {},
   "outputs": [],
   "source": []
  },
  {
   "cell_type": "code",
   "execution_count": null,
   "id": "a03eb4e0-931f-456a-80c4-77fedb1ac1d1",
   "metadata": {},
   "outputs": [],
   "source": []
  },
  {
   "cell_type": "code",
   "execution_count": null,
   "id": "8b710a6b-6dbd-4442-a69c-9344bf9bd42b",
   "metadata": {},
   "outputs": [],
   "source": []
  },
  {
   "cell_type": "code",
   "execution_count": null,
   "id": "7ad4ad9d-2b63-4e72-9162-d379d76222c7",
   "metadata": {},
   "outputs": [],
   "source": []
  },
  {
   "cell_type": "code",
   "execution_count": null,
   "id": "ade511d0-1a26-4300-83c1-0930ef500de4",
   "metadata": {},
   "outputs": [],
   "source": []
  },
  {
   "cell_type": "code",
   "execution_count": null,
   "id": "7e750650-4e5b-4adc-a315-cba807093491",
   "metadata": {},
   "outputs": [],
   "source": [
    "import time\n",
    "\n",
    "class Timer:\n",
    "    def __init__(self, func):\n",
    "        self.func = func\n",
    "\n",
    "    def __call__(self, *args, **kwargs):\n",
    "        start_time = time.perf_counter()\n",
    "        result = self.func(*args, **kwargs)\n",
    "        end_time = time.perf_counter()\n",
    "        print(f\"Function {self.func.__name__} took {end_time - start_time:.4f} seconds\")\n",
    "        return result\n",
    "\n",
    "@Timer  # Using the class as a decorator\n",
    "def my_function(x):\n",
    "    time.sleep(1)\n",
    "    return x * 2\n",
    "\n",
    "my_function(5)"
   ]
  },
  {
   "cell_type": "code",
   "execution_count": null,
   "id": "fde2ce2b-d676-423b-9a95-05815e3d8a61",
   "metadata": {},
   "outputs": [],
   "source": []
  },
  {
   "cell_type": "code",
   "execution_count": null,
   "id": "2e36c427-cca8-4258-a5eb-595ec0aa65de",
   "metadata": {},
   "outputs": [],
   "source": []
  },
  {
   "cell_type": "code",
   "execution_count": null,
   "id": "64e6e3c9-8794-44de-9177-675c01d9149d",
   "metadata": {},
   "outputs": [],
   "source": [
    "import time\n",
    "\n",
    "def timer(func):\n",
    "    def wrapper(*arg,**kwarg):\n",
    "        start=time.perf_counter()\n",
    "        result=func(*arg,**kwarg)\n",
    "        end=time.perf_counter()\n",
    "        print(f\"the {func.__name__} function take {(end-start):.4f}'s to complete.\")\n",
    "        return result\n",
    "    return wrapper\n",
    "\n",
    "@timer\n",
    "def addition(x,y):\n",
    "    \n",
    "    time.sleep(2)\n",
    "    return f\"Addition is {x+y}\"\n",
    "\n",
    "n10=int(input(\"Enter your number:\"))\n",
    "n20=int(input(\"Enter your number:\"))\n",
    "\n",
    "addition(n10,n20)"
   ]
  },
  {
   "cell_type": "code",
   "execution_count": null,
   "id": "2d994ce3-caa8-44fc-b0fe-28811a62f50a",
   "metadata": {},
   "outputs": [],
   "source": []
  },
  {
   "cell_type": "code",
   "execution_count": 15,
   "id": "b366f425-48de-4a2c-89e8-4d2fe033091e",
   "metadata": {},
   "outputs": [],
   "source": [
    "from functools import lru_cache\n",
    "import time"
   ]
  },
  {
   "cell_type": "code",
   "execution_count": 23,
   "id": "79ba79d8-c296-4095-89b7-9594f52d3979",
   "metadata": {},
   "outputs": [
    {
     "name": "stdin",
     "output_type": "stream",
     "text": [
      "enter the value of cache 5\n"
     ]
    }
   ],
   "source": [
    "x=int(input(\"enter the value of cache\"))\n",
    "\n",
    "@lru_cache(x)\n",
    "def addition(n,t):\n",
    "    time.sleep(2)\n",
    "    return n+t"
   ]
  },
  {
   "cell_type": "code",
   "execution_count": 24,
   "id": "3230bcb7-ae6f-43c2-861a-594a57152485",
   "metadata": {},
   "outputs": [
    {
     "data": {
      "text/plain": [
       "45"
      ]
     },
     "execution_count": 24,
     "metadata": {},
     "output_type": "execute_result"
    }
   ],
   "source": [
    "addition(20,25)"
   ]
  },
  {
   "cell_type": "code",
   "execution_count": 25,
   "id": "997fa30d-f38b-429d-a064-7d897c92ab4c",
   "metadata": {},
   "outputs": [
    {
     "data": {
      "text/plain": [
       "118"
      ]
     },
     "execution_count": 25,
     "metadata": {},
     "output_type": "execute_result"
    }
   ],
   "source": [
    "addition(55,63)"
   ]
  },
  {
   "cell_type": "code",
   "execution_count": 26,
   "id": "0f8efaf6-da73-4ab4-9eea-5a7b4b9e8e7e",
   "metadata": {},
   "outputs": [
    {
     "data": {
      "text/plain": [
       "110"
      ]
     },
     "execution_count": 26,
     "metadata": {},
     "output_type": "execute_result"
    }
   ],
   "source": [
    "addition(55,55)"
   ]
  },
  {
   "cell_type": "code",
   "execution_count": 27,
   "id": "e7f9803a-b3c8-4135-8187-b30815c425db",
   "metadata": {},
   "outputs": [
    {
     "data": {
      "text/plain": [
       "118"
      ]
     },
     "execution_count": 27,
     "metadata": {},
     "output_type": "execute_result"
    }
   ],
   "source": [
    "addition(55,63)"
   ]
  },
  {
   "cell_type": "code",
   "execution_count": 28,
   "id": "db8e79d1-a9b4-4217-a59f-4d5cfb60d109",
   "metadata": {},
   "outputs": [
    {
     "data": {
      "text/plain": [
       "62"
      ]
     },
     "execution_count": 28,
     "metadata": {},
     "output_type": "execute_result"
    }
   ],
   "source": [
    "addition(55,7)"
   ]
  },
  {
   "cell_type": "code",
   "execution_count": 29,
   "id": "d069e864-2189-45eb-9b2b-640a5c046bdf",
   "metadata": {},
   "outputs": [
    {
     "data": {
      "text/plain": [
       "45"
      ]
     },
     "execution_count": 29,
     "metadata": {},
     "output_type": "execute_result"
    }
   ],
   "source": [
    "addition(20,25)"
   ]
  },
  {
   "cell_type": "code",
   "execution_count": 30,
   "id": "e38b13f9-2b2a-4a4f-923b-207daf2f1422",
   "metadata": {},
   "outputs": [
    {
     "data": {
      "text/plain": [
       "22"
      ]
     },
     "execution_count": 30,
     "metadata": {},
     "output_type": "execute_result"
    }
   ],
   "source": [
    "addition(20,2)"
   ]
  },
  {
   "cell_type": "code",
   "execution_count": 31,
   "id": "27d73921-3e28-4704-8e32-0d533cd5ab15",
   "metadata": {},
   "outputs": [
    {
     "data": {
      "text/plain": [
       "56"
      ]
     },
     "execution_count": 31,
     "metadata": {},
     "output_type": "execute_result"
    }
   ],
   "source": [
    "addition(55,1)"
   ]
  },
  {
   "cell_type": "code",
   "execution_count": 32,
   "id": "d8a2b467-9abf-4cb9-83b2-1a158928c88c",
   "metadata": {},
   "outputs": [
    {
     "data": {
      "text/plain": [
       "133"
      ]
     },
     "execution_count": 32,
     "metadata": {},
     "output_type": "execute_result"
    }
   ],
   "source": [
    "addition(70,63)"
   ]
  },
  {
   "cell_type": "code",
   "execution_count": 33,
   "id": "4dd41192-a585-45d2-be88-d1f701a8aff4",
   "metadata": {},
   "outputs": [
    {
     "data": {
      "text/plain": [
       "118"
      ]
     },
     "execution_count": 33,
     "metadata": {},
     "output_type": "execute_result"
    }
   ],
   "source": [
    "addition(55,63)"
   ]
  },
  {
   "cell_type": "code",
   "execution_count": null,
   "id": "db979251-feda-4acd-a46f-628372c3b102",
   "metadata": {},
   "outputs": [],
   "source": []
  }
 ],
 "metadata": {
  "kernelspec": {
   "display_name": "Python 3 (ipykernel)",
   "language": "python",
   "name": "python3"
  },
  "language_info": {
   "codemirror_mode": {
    "name": "ipython",
    "version": 3
   },
   "file_extension": ".py",
   "mimetype": "text/x-python",
   "name": "python",
   "nbconvert_exporter": "python",
   "pygments_lexer": "ipython3",
   "version": "3.12.3"
  }
 },
 "nbformat": 4,
 "nbformat_minor": 5
}
