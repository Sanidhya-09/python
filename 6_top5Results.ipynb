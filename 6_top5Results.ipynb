{
 "cells": [
  {
   "cell_type": "code",
   "execution_count": 1,
   "id": "a98a1c2c-f7a7-407c-9297-d3259dd90d0f",
   "metadata": {},
   "outputs": [],
   "source": [
    "from googlesearch import search\n",
    "\n",
    "def showResults():\n",
    "    query=input(\"Enter your query to be searched:\")\n",
    "    print(f\"top 5 result for {query} are as follows:\")\n",
    "    \n",
    "    for index,result in enumerate(search(query,num_results=5),start=1):\n",
    "        print(f\"{index}.{result}\")"
   ]
  },
  {
   "cell_type": "code",
   "execution_count": 2,
   "id": "5ac4c368-ee7f-4f38-81f7-38269138c04b",
   "metadata": {},
   "outputs": [
    {
     "name": "stdin",
     "output_type": "stream",
     "text": [
      "Enter your query to be searched: rohit shrama \n"
     ]
    },
    {
     "name": "stdout",
     "output_type": "stream",
     "text": [
      "top 5 result for rohit shrama  are as follows:\n",
      "1.https://www.cricbuzz.com/profiles/576/rohit-sharma\n",
      "2.https://www.instagram.com/rohitsharma45/?hl=en\n"
     ]
    }
   ],
   "source": [
    "showResults()"
   ]
  },
  {
   "cell_type": "code",
   "execution_count": null,
   "id": "b7e3e598-5d52-44ba-9656-a672fa955267",
   "metadata": {},
   "outputs": [],
   "source": []
  }
 ],
 "metadata": {
  "kernelspec": {
   "display_name": "Python 3 (ipykernel)",
   "language": "python",
   "name": "python3"
  },
  "language_info": {
   "codemirror_mode": {
    "name": "ipython",
    "version": 3
   },
   "file_extension": ".py",
   "mimetype": "text/x-python",
   "name": "python",
   "nbconvert_exporter": "python",
   "pygments_lexer": "ipython3",
   "version": "3.12.3"
  }
 },
 "nbformat": 4,
 "nbformat_minor": 5
}
