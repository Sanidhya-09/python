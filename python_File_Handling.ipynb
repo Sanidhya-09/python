{
 "cells": [
  {
   "cell_type": "code",
   "execution_count": 1,
   "id": "d0bcd799-4ee0-4150-91a9-7551dbd6617b",
   "metadata": {},
   "outputs": [],
   "source": [
    "file=open(\"my_file.txt\" ,\"r\" )"
   ]
  },
  {
   "cell_type": "code",
   "execution_count": 2,
   "id": "ddf78495-d05d-4ffd-82fb-5169d93fe584",
   "metadata": {},
   "outputs": [
    {
     "data": {
      "text/plain": [
       "0"
      ]
     },
     "execution_count": 2,
     "metadata": {},
     "output_type": "execute_result"
    }
   ],
   "source": [
    "file.tell()"
   ]
  },
  {
   "cell_type": "code",
   "execution_count": 3,
   "id": "bd44a288-bfd2-4a42-98fa-63135fa79e5f",
   "metadata": {},
   "outputs": [
    {
     "data": {
      "text/plain": [
       "'1234567udb'"
      ]
     },
     "execution_count": 3,
     "metadata": {},
     "output_type": "execute_result"
    }
   ],
   "source": [
    "file.read(10)"
   ]
  },
  {
   "cell_type": "code",
   "execution_count": 4,
   "id": "eb451bc2-eb48-4b2d-aad2-47866f4de07a",
   "metadata": {},
   "outputs": [
    {
     "data": {
      "text/plain": [
       "10"
      ]
     },
     "execution_count": 4,
     "metadata": {},
     "output_type": "execute_result"
    }
   ],
   "source": [
    "file.tell()"
   ]
  },
  {
   "cell_type": "code",
   "execution_count": 5,
   "id": "0e17b0a3-9759-498b-b293-0c848e76f4c7",
   "metadata": {},
   "outputs": [
    {
     "data": {
      "text/plain": [
       "'djdkdghrj4'"
      ]
     },
     "execution_count": 5,
     "metadata": {},
     "output_type": "execute_result"
    }
   ],
   "source": [
    "file.read(10)"
   ]
  },
  {
   "cell_type": "code",
   "execution_count": 6,
   "id": "6eb041cf-d207-4317-ad2e-cf3641ec7889",
   "metadata": {},
   "outputs": [
    {
     "data": {
      "text/plain": [
       "20"
      ]
     },
     "execution_count": 6,
     "metadata": {},
     "output_type": "execute_result"
    }
   ],
   "source": [
    "file.tell()"
   ]
  },
  {
   "cell_type": "code",
   "execution_count": 7,
   "id": "f35d89f8-a8c1-4824-ad1a-fefd91dc2dbd",
   "metadata": {},
   "outputs": [],
   "source": [
    "file.close()"
   ]
  },
  {
   "cell_type": "code",
   "execution_count": null,
   "id": "613b079d-8ebc-410a-8224-631cbe2421ef",
   "metadata": {},
   "outputs": [],
   "source": []
  },
  {
   "cell_type": "code",
   "execution_count": null,
   "id": "6a4087cb-0816-4451-b070-b2f62bcf2c4f",
   "metadata": {},
   "outputs": [],
   "source": []
  },
  {
   "cell_type": "code",
   "execution_count": null,
   "id": "1fd4479e-468a-4c5b-a114-3da64a5882d9",
   "metadata": {},
   "outputs": [],
   "source": []
  },
  {
   "cell_type": "code",
   "execution_count": 8,
   "id": "316ef45a-df9c-4472-964d-a8a5b709ee64",
   "metadata": {},
   "outputs": [],
   "source": [
    "new_file=open(\"my_new_file.txt\",\"r+b\")   #read + Binary"
   ]
  },
  {
   "cell_type": "code",
   "execution_count": 9,
   "id": "ad0e626f-c024-4f56-bb49-cddce53b806f",
   "metadata": {},
   "outputs": [
    {
     "data": {
      "text/plain": [
       "0"
      ]
     },
     "execution_count": 9,
     "metadata": {},
     "output_type": "execute_result"
    }
   ],
   "source": [
    "new_file.tell()"
   ]
  },
  {
   "cell_type": "code",
   "execution_count": 10,
   "id": "29832187-c21b-4e09-ab63-5a4fa3107715",
   "metadata": {},
   "outputs": [
    {
     "data": {
      "text/plain": [
       "b'1234567udbdjdkdghrj454545'"
      ]
     },
     "execution_count": 10,
     "metadata": {},
     "output_type": "execute_result"
    }
   ],
   "source": [
    "new_file.read()"
   ]
  },
  {
   "cell_type": "code",
   "execution_count": 11,
   "id": "9c0287e0-35c9-4a90-9b38-f7ac0ff493c9",
   "metadata": {},
   "outputs": [
    {
     "data": {
      "text/plain": [
       "25"
      ]
     },
     "execution_count": 11,
     "metadata": {},
     "output_type": "execute_result"
    }
   ],
   "source": [
    "new_file.tell()"
   ]
  },
  {
   "cell_type": "code",
   "execution_count": 12,
   "id": "59d2cd0b-0446-4d02-9aba-f7062e196172",
   "metadata": {},
   "outputs": [
    {
     "data": {
      "text/plain": [
       "20"
      ]
     },
     "execution_count": 12,
     "metadata": {},
     "output_type": "execute_result"
    }
   ],
   "source": [
    "new_file.seek(20,0)"
   ]
  },
  {
   "cell_type": "code",
   "execution_count": 13,
   "id": "44abc0d7-3edc-4f19-91d8-577a2ec69ded",
   "metadata": {},
   "outputs": [
    {
     "data": {
      "text/plain": [
       "20"
      ]
     },
     "execution_count": 13,
     "metadata": {},
     "output_type": "execute_result"
    }
   ],
   "source": [
    "new_file.tell()"
   ]
  },
  {
   "cell_type": "code",
   "execution_count": 14,
   "id": "293544d8-3c98-4f65-b49c-6e9406787517",
   "metadata": {},
   "outputs": [
    {
     "data": {
      "text/plain": [
       "30"
      ]
     },
     "execution_count": 14,
     "metadata": {},
     "output_type": "execute_result"
    }
   ],
   "source": [
    "new_file.seek(10,1)"
   ]
  },
  {
   "cell_type": "code",
   "execution_count": 15,
   "id": "24647023-b9c3-41ed-ba05-d244c63243b3",
   "metadata": {},
   "outputs": [
    {
     "data": {
      "text/plain": [
       "30"
      ]
     },
     "execution_count": 15,
     "metadata": {},
     "output_type": "execute_result"
    }
   ],
   "source": [
    "new_file.tell()"
   ]
  },
  {
   "cell_type": "code",
   "execution_count": 16,
   "id": "cd6f4fc2-fac2-4da1-a699-b3bb2a5d79fb",
   "metadata": {},
   "outputs": [
    {
     "data": {
      "text/plain": [
       "15"
      ]
     },
     "execution_count": 16,
     "metadata": {},
     "output_type": "execute_result"
    }
   ],
   "source": [
    "new_file.seek(-10,2)"
   ]
  },
  {
   "cell_type": "code",
   "execution_count": 17,
   "id": "96fc1836-5592-43bd-9e83-1685d3776032",
   "metadata": {},
   "outputs": [
    {
     "data": {
      "text/plain": [
       "15"
      ]
     },
     "execution_count": 17,
     "metadata": {},
     "output_type": "execute_result"
    }
   ],
   "source": [
    "new_file.tell()"
   ]
  },
  {
   "cell_type": "code",
   "execution_count": 18,
   "id": "e186f683-28f6-44a2-9111-f323c824f7f4",
   "metadata": {},
   "outputs": [],
   "source": [
    "new_file.close()"
   ]
  },
  {
   "cell_type": "code",
   "execution_count": null,
   "id": "01367e80-ae30-4bc9-844f-e8a615d9e367",
   "metadata": {},
   "outputs": [],
   "source": []
  },
  {
   "cell_type": "code",
   "execution_count": 19,
   "id": "29aae8ad-b32b-4178-8504-445ca561c75a",
   "metadata": {},
   "outputs": [],
   "source": [
    "info=open(\"info.txt\")      #by default read mode ..."
   ]
  },
  {
   "cell_type": "code",
   "execution_count": 20,
   "id": "695a744f-0153-4684-9ad6-01bce31157fa",
   "metadata": {},
   "outputs": [
    {
     "data": {
      "text/plain": [
       "'SANIDHYA 2004 25000 21\\nSIDDHANT 2003 20000 22\\nRAJ 2002 15000 25\\nTOM 1999 30500 27\\n'"
      ]
     },
     "execution_count": 20,
     "metadata": {},
     "output_type": "execute_result"
    }
   ],
   "source": [
    "info.read()"
   ]
  },
  {
   "cell_type": "code",
   "execution_count": 21,
   "id": "572054cd-3c83-4f34-a545-40cdb00ca05b",
   "metadata": {},
   "outputs": [
    {
     "data": {
      "text/plain": [
       "0"
      ]
     },
     "execution_count": 21,
     "metadata": {},
     "output_type": "execute_result"
    }
   ],
   "source": [
    "info.seek(0,0)"
   ]
  },
  {
   "cell_type": "code",
   "execution_count": 22,
   "id": "9e0644a7-28f5-481b-96ae-d03ef5f3052d",
   "metadata": {},
   "outputs": [
    {
     "name": "stdout",
     "output_type": "stream",
     "text": [
      "SANIDHYA 2004 25000 21\n",
      "SIDDHANT 2003 20000 22\n",
      "RAJ 2002 15000 25\n",
      "TOM 1999 30500 27\n"
     ]
    }
   ],
   "source": [
    "for line in info:\n",
    "    print(line,end=\"\")"
   ]
  },
  {
   "cell_type": "code",
   "execution_count": 23,
   "id": "5377dcb7-72bb-4d37-ac1e-3e4e3e451d28",
   "metadata": {},
   "outputs": [
    {
     "data": {
      "text/plain": [
       "0"
      ]
     },
     "execution_count": 23,
     "metadata": {},
     "output_type": "execute_result"
    }
   ],
   "source": [
    "info.seek(0,0)"
   ]
  },
  {
   "cell_type": "code",
   "execution_count": 24,
   "id": "a35ab9e4-0403-4f4f-a000-414013a38f68",
   "metadata": {},
   "outputs": [
    {
     "name": "stdout",
     "output_type": "stream",
     "text": [
      "['SANIDHYA', '2004', '25000', '21']\n",
      "['SIDDHANT', '2003', '20000', '22']\n",
      "['RAJ', '2002', '15000', '25']\n",
      "['TOM', '1999', '30500', '27']\n"
     ]
    }
   ],
   "source": [
    "for line in info:\n",
    "    print(line.split())"
   ]
  },
  {
   "cell_type": "code",
   "execution_count": 25,
   "id": "d82c4806-b531-4f49-876f-6dc247a0a84f",
   "metadata": {},
   "outputs": [
    {
     "data": {
      "text/plain": [
       "0"
      ]
     },
     "execution_count": 25,
     "metadata": {},
     "output_type": "execute_result"
    }
   ],
   "source": [
    "info.seek(0,0)"
   ]
  },
  {
   "cell_type": "code",
   "execution_count": 26,
   "id": "e9cd69cd-0b43-481e-b13f-c001da02ba9d",
   "metadata": {},
   "outputs": [
    {
     "name": "stdout",
     "output_type": "stream",
     "text": [
      "salary of employee\n",
      "25000\n",
      "20000\n",
      "15000\n",
      "30500\n"
     ]
    }
   ],
   "source": [
    "print(\"salary of employee\")\n",
    "for line in info:\n",
    "    print(line.split()[2],end=\"\\n\")\n"
   ]
  },
  {
   "cell_type": "code",
   "execution_count": 27,
   "id": "2f5b6447-9e07-47d5-be1f-f55e538e481c",
   "metadata": {},
   "outputs": [],
   "source": [
    "info.close()"
   ]
  },
  {
   "cell_type": "code",
   "execution_count": null,
   "id": "27077813-eab2-45e3-bf40-7a628f0c0521",
   "metadata": {},
   "outputs": [],
   "source": []
  },
  {
   "cell_type": "code",
   "execution_count": null,
   "id": "3762cc75-70ed-4b4b-bded-1703bfff0b52",
   "metadata": {},
   "outputs": [],
   "source": []
  },
  {
   "cell_type": "code",
   "execution_count": 28,
   "id": "e3336f18-9f76-4fc0-a265-eaf6d9a84c6e",
   "metadata": {},
   "outputs": [],
   "source": [
    "add=open(\"my_file.txt\" ,\"w\")"
   ]
  },
  {
   "cell_type": "code",
   "execution_count": 29,
   "id": "7b1fde99-019b-4920-b841-7534e93d109e",
   "metadata": {},
   "outputs": [
    {
     "data": {
      "text/plain": [
       "35"
      ]
     },
     "execution_count": 29,
     "metadata": {},
     "output_type": "execute_result"
    }
   ],
   "source": [
    "add.write(\"ncdhuihuhvug\\ndhfugfyf\\nsanidhya\\nnaik\")"
   ]
  },
  {
   "cell_type": "code",
   "execution_count": 30,
   "id": "9bcd8e22-03a4-4d01-ac71-0898a26126b1",
   "metadata": {},
   "outputs": [],
   "source": [
    "# add.read()    only write mode..."
   ]
  },
  {
   "cell_type": "code",
   "execution_count": 31,
   "id": "2216244b-5db2-4dce-90b3-2c95c6863639",
   "metadata": {},
   "outputs": [],
   "source": [
    "add.close()"
   ]
  },
  {
   "cell_type": "code",
   "execution_count": null,
   "id": "ce0040cc-cf9d-43c5-9b07-08f819e2888b",
   "metadata": {},
   "outputs": [],
   "source": []
  },
  {
   "cell_type": "code",
   "execution_count": null,
   "id": "099d3394-21dc-4dc3-84e1-ffeb61a1c1e1",
   "metadata": {},
   "outputs": [],
   "source": []
  },
  {
   "cell_type": "code",
   "execution_count": 32,
   "id": "fca57800-8d18-4781-9ac2-afc9652e9fe9",
   "metadata": {},
   "outputs": [],
   "source": [
    "file_append=open(\"my_file.txt\" ,\"a\")"
   ]
  },
  {
   "cell_type": "code",
   "execution_count": 33,
   "id": "a3ffe43c-afad-41e5-87bd-bce06eb4c35f",
   "metadata": {},
   "outputs": [
    {
     "data": {
      "text/plain": [
       "38"
      ]
     },
     "execution_count": 33,
     "metadata": {},
     "output_type": "execute_result"
    }
   ],
   "source": [
    "file_append.tell()"
   ]
  },
  {
   "cell_type": "code",
   "execution_count": 34,
   "id": "65700134-bb51-4703-af73-703f93760fe3",
   "metadata": {},
   "outputs": [
    {
     "data": {
      "text/plain": [
       "26"
      ]
     },
     "execution_count": 34,
     "metadata": {},
     "output_type": "execute_result"
    }
   ],
   "source": [
    "file_append.write(\"siddhanyoza\\nsdnvdfnb\\nsdgf\\n\")"
   ]
  },
  {
   "cell_type": "code",
   "execution_count": 35,
   "id": "65260db6-da75-4583-8a3e-d25c02c3576e",
   "metadata": {},
   "outputs": [
    {
     "data": {
      "text/plain": [
       "67"
      ]
     },
     "execution_count": 35,
     "metadata": {},
     "output_type": "execute_result"
    }
   ],
   "source": [
    "file_append.tell()"
   ]
  },
  {
   "cell_type": "code",
   "execution_count": 36,
   "id": "68f3270d-bb85-4a3b-8eab-5d2b97da369e",
   "metadata": {},
   "outputs": [],
   "source": [
    "# file_append.read()   only append mode..."
   ]
  },
  {
   "cell_type": "code",
   "execution_count": 37,
   "id": "1195219b-6873-4f55-a35f-f10f429252f4",
   "metadata": {},
   "outputs": [],
   "source": [
    "file_append.close()"
   ]
  },
  {
   "cell_type": "code",
   "execution_count": null,
   "id": "6188757a-312b-43f4-af97-ae9d682eb1c3",
   "metadata": {},
   "outputs": [],
   "source": []
  },
  {
   "cell_type": "code",
   "execution_count": null,
   "id": "fd7504c8-eae7-4dbf-8df0-adf1a7986de2",
   "metadata": {},
   "outputs": [],
   "source": []
  },
  {
   "cell_type": "code",
   "execution_count": 38,
   "id": "d1cf8417-2a3d-4780-90f2-bf87a5527f8b",
   "metadata": {},
   "outputs": [],
   "source": [
    "write_read=open(\"my_new_file.txt\",\"r+\")"
   ]
  },
  {
   "cell_type": "code",
   "execution_count": 39,
   "id": "4e9ad123-c856-4f62-87e8-d273bac8335f",
   "metadata": {},
   "outputs": [
    {
     "data": {
      "text/plain": [
       "'1234567udbdjdkdghrj454545'"
      ]
     },
     "execution_count": 39,
     "metadata": {},
     "output_type": "execute_result"
    }
   ],
   "source": [
    "write_read.read()"
   ]
  },
  {
   "cell_type": "code",
   "execution_count": 40,
   "id": "669b3a89-4889-404f-ba39-568de311578b",
   "metadata": {},
   "outputs": [
    {
     "data": {
      "text/plain": [
       "10"
      ]
     },
     "execution_count": 40,
     "metadata": {},
     "output_type": "execute_result"
    }
   ],
   "source": [
    "write_read.write(\"#hvahu@bbj\")"
   ]
  },
  {
   "cell_type": "code",
   "execution_count": 41,
   "id": "81005e27-b13b-4873-aae4-7a94ee0ac58a",
   "metadata": {},
   "outputs": [],
   "source": [
    "# write_read.read()"
   ]
  },
  {
   "cell_type": "code",
   "execution_count": 42,
   "id": "edaeddd5-2528-42b3-92c9-756935a4401d",
   "metadata": {},
   "outputs": [],
   "source": [
    "write_read.close()"
   ]
  },
  {
   "cell_type": "code",
   "execution_count": null,
   "id": "4b51138c-9fe9-4007-9634-162b686c83f8",
   "metadata": {},
   "outputs": [],
   "source": []
  },
  {
   "cell_type": "code",
   "execution_count": null,
   "id": "f5d45a1b-e3fc-4a6c-9d89-29449e6c5731",
   "metadata": {},
   "outputs": [],
   "source": []
  },
  {
   "cell_type": "code",
   "execution_count": null,
   "id": "fca10d00-9552-4e86-9d1a-10ce283f3661",
   "metadata": {},
   "outputs": [],
   "source": []
  }
 ],
 "metadata": {
  "kernelspec": {
   "display_name": "Python 3 (ipykernel)",
   "language": "python",
   "name": "python3"
  },
  "language_info": {
   "codemirror_mode": {
    "name": "ipython",
    "version": 3
   },
   "file_extension": ".py",
   "mimetype": "text/x-python",
   "name": "python",
   "nbconvert_exporter": "python",
   "pygments_lexer": "ipython3",
   "version": "3.12.3"
  }
 },
 "nbformat": 4,
 "nbformat_minor": 5
}
