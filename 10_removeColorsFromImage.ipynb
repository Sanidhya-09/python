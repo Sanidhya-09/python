{
 "cells": [
  {
   "cell_type": "code",
   "execution_count": 11,
   "id": "e142d46a-4399-4458-9029-2eda481f0eb1",
   "metadata": {},
   "outputs": [],
   "source": [
    "import cv2\n",
    "import numpy as np"
   ]
  },
  {
   "cell_type": "code",
   "execution_count": 12,
   "id": "e292dd4d-4388-43b8-bccd-fb7d3fb38109",
   "metadata": {},
   "outputs": [],
   "source": [
    "lodedImage=cv2.imread(\"C:\\\\Users\\\\SANIDHYA\\\\OneDrive\\\\Pictures\\\\suri.jpg\")"
   ]
  },
  {
   "cell_type": "code",
   "execution_count": 13,
   "id": "89502e76-2265-4b26-9116-d64efefb656b",
   "metadata": {},
   "outputs": [
    {
     "data": {
      "text/plain": [
       "array([[[ 88, 166, 149],\n",
       "        [109, 184, 168],\n",
       "        [113, 187, 169],\n",
       "        ...,\n",
       "        [  1,  19,   6],\n",
       "        [  0,  13,   5],\n",
       "        [  0,  13,   5]],\n",
       "\n",
       "       [[ 79, 157, 140],\n",
       "        [103, 178, 162],\n",
       "        [112, 186, 168],\n",
       "        ...,\n",
       "        [  4,  21,  10],\n",
       "        [  4,  19,  11],\n",
       "        [  8,  23,  15]],\n",
       "\n",
       "       [[ 91, 169, 152],\n",
       "        [108, 183, 167],\n",
       "        [112, 186, 168],\n",
       "        ...,\n",
       "        [  0,  15,   4],\n",
       "        [  0,  12,   4],\n",
       "        [  5,  17,  11]],\n",
       "\n",
       "       ...,\n",
       "\n",
       "       [[ 41,  62,  89],\n",
       "        [ 43,  64,  91],\n",
       "        [ 44,  65,  92],\n",
       "        ...,\n",
       "        [ 28,  42,  70],\n",
       "        [ 25,  41,  70],\n",
       "        [ 23,  39,  68]],\n",
       "\n",
       "       [[ 44,  65,  92],\n",
       "        [ 45,  66,  93],\n",
       "        [ 45,  66,  93],\n",
       "        ...,\n",
       "        [ 28,  42,  70],\n",
       "        [ 26,  42,  71],\n",
       "        [ 24,  40,  69]],\n",
       "\n",
       "       [[ 43,  64,  91],\n",
       "        [ 44,  65,  92],\n",
       "        [ 44,  65,  92],\n",
       "        ...,\n",
       "        [ 31,  45,  73],\n",
       "        [ 27,  43,  72],\n",
       "        [ 24,  40,  69]]], dtype=uint8)"
      ]
     },
     "execution_count": 13,
     "metadata": {},
     "output_type": "execute_result"
    }
   ],
   "source": [
    "lodedImage"
   ]
  },
  {
   "cell_type": "code",
   "execution_count": 14,
   "id": "ba9c3072-eb36-4eb6-971e-ef7a4db92219",
   "metadata": {},
   "outputs": [],
   "source": [
    "hsv=cv2.cvtColor(lodedImage,cv2.COLOR_BGR2HSV)"
   ]
  },
  {
   "cell_type": "code",
   "execution_count": 15,
   "id": "5fd93488-b1e0-480a-99d5-603e4cf1ab03",
   "metadata": {},
   "outputs": [
    {
     "data": {
      "text/plain": [
       "array([[[ 37, 120, 166],\n",
       "        [ 36, 104, 184],\n",
       "        [ 37, 101, 187],\n",
       "        ...,\n",
       "        [ 52, 242,  19],\n",
       "        [ 48, 255,  13],\n",
       "        [ 48, 255,  13]],\n",
       "\n",
       "       [[ 37, 127, 157],\n",
       "        [ 36, 107, 178],\n",
       "        [ 37, 101, 186],\n",
       "        ...,\n",
       "        [ 49, 206,  21],\n",
       "        [ 46, 201,  19],\n",
       "        [ 46, 166,  23]],\n",
       "\n",
       "       [[ 37, 118, 169],\n",
       "        [ 36, 105, 183],\n",
       "        [ 37, 101, 186],\n",
       "        ...,\n",
       "        [ 52, 255,  15],\n",
       "        [ 50, 255,  12],\n",
       "        [ 45, 180,  17]],\n",
       "\n",
       "       ...,\n",
       "\n",
       "       [[ 13, 138,  89],\n",
       "        [ 13, 135,  91],\n",
       "        [ 13, 133,  92],\n",
       "        ...,\n",
       "        [ 10, 153,  70],\n",
       "        [ 11, 164,  70],\n",
       "        [ 11, 169,  68]],\n",
       "\n",
       "       [[ 13, 133,  92],\n",
       "        [ 13, 132,  93],\n",
       "        [ 13, 132,  93],\n",
       "        ...,\n",
       "        [ 10, 153,  70],\n",
       "        [ 11, 162,  71],\n",
       "        [ 11, 166,  69]],\n",
       "\n",
       "       [[ 13, 135,  91],\n",
       "        [ 13, 133,  92],\n",
       "        [ 13, 133,  92],\n",
       "        ...,\n",
       "        [ 10, 147,  73],\n",
       "        [ 11, 159,  72],\n",
       "        [ 11, 166,  69]]], dtype=uint8)"
      ]
     },
     "execution_count": 15,
     "metadata": {},
     "output_type": "execute_result"
    }
   ],
   "source": [
    "hsv"
   ]
  },
  {
   "cell_type": "code",
   "execution_count": 16,
   "id": "4504c95e-9b42-4387-9c0b-c4ff61dbf191",
   "metadata": {},
   "outputs": [],
   "source": [
    "lowerRangeOfGreen=np.array([36,25,25])\n",
    "upperRangeOfGreen=np.array([86,255,255])"
   ]
  },
  {
   "cell_type": "code",
   "execution_count": 21,
   "id": "ec7d7c7e-29e7-458a-8902-8aa7dddecf4a",
   "metadata": {},
   "outputs": [],
   "source": [
    "mask=cv2.inRange(hsv,lowerRangeOfGreen,upperRangeOfGreen)           #convert pixel into white which contain green color and other pixel into black color"
   ]
  },
  {
   "cell_type": "code",
   "execution_count": 22,
   "id": "dd69f3e2-88e4-4e98-a59e-d4e5bcea11ee",
   "metadata": {},
   "outputs": [],
   "source": [
    "# mask_inverse=cv2.bitwise_not(mask)"
   ]
  },
  {
   "cell_type": "code",
   "execution_count": 24,
   "id": "e3bf7db5-32a1-4428-8654-c255387b8a2d",
   "metadata": {},
   "outputs": [],
   "source": [
    "result=cv2.bitwise_and(lodedImage,lodedImage,mask=mask_inverse)"
   ]
  },
  {
   "cell_type": "code",
   "execution_count": 25,
   "id": "54349d27-5d2e-4246-875a-7cf71b152f05",
   "metadata": {},
   "outputs": [],
   "source": [
    "cv2.imshow(\"origional_image\",lodedImage)\n",
    "cv2.imshow(\"imageWithoutGreenColor\",result)\n",
    "cv2.waitKey()\n",
    "cv2.destroyAllWindows()"
   ]
  },
  {
   "cell_type": "code",
   "execution_count": null,
   "id": "cbe96018-f2f5-4c7a-9cb0-6db283f98a13",
   "metadata": {},
   "outputs": [],
   "source": []
  },
  {
   "cell_type": "code",
   "execution_count": null,
   "id": "2be170eb-77b2-4edd-a033-fe0c4c6297d4",
   "metadata": {},
   "outputs": [],
   "source": []
  },
  {
   "cell_type": "code",
   "execution_count": null,
   "id": "aa030797-f148-4f28-91b2-3c400a21b4b7",
   "metadata": {},
   "outputs": [],
   "source": []
  },
  {
   "cell_type": "code",
   "execution_count": null,
   "id": "8ebb6275-24af-4865-9079-23ca3c23a111",
   "metadata": {},
   "outputs": [],
   "source": []
  }
 ],
 "metadata": {
  "kernelspec": {
   "display_name": "Python 3 (ipykernel)",
   "language": "python",
   "name": "python3"
  },
  "language_info": {
   "codemirror_mode": {
    "name": "ipython",
    "version": 3
   },
   "file_extension": ".py",
   "mimetype": "text/x-python",
   "name": "python",
   "nbconvert_exporter": "python",
   "pygments_lexer": "ipython3",
   "version": "3.12.3"
  }
 },
 "nbformat": 4,
 "nbformat_minor": 5
}
