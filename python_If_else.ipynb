{
 "cells": [
  {
   "cell_type": "code",
   "execution_count": 1,
   "id": "9ab3bf2a-6c96-4b9e-a9e8-63498d2e8736",
   "metadata": {},
   "outputs": [],
   "source": [
    "seats=500"
   ]
  },
  {
   "cell_type": "code",
   "execution_count": 2,
   "id": "e4cb823b-d3a7-467a-965d-2bb6544318ec",
   "metadata": {},
   "outputs": [
    {
     "name": "stdout",
     "output_type": "stream",
     "text": [
      "We can go to inox\n"
     ]
    }
   ],
   "source": [
    "if seats>=200:\n",
    "    print(\"We can go to inox\")\n",
    "else:\n",
    "    print(\"We wont go\")"
   ]
  },
  {
   "cell_type": "code",
   "execution_count": null,
   "id": "ecd2c4b7-d3bb-4dd4-85de-5c7c253ceb7a",
   "metadata": {},
   "outputs": [],
   "source": []
  },
  {
   "cell_type": "code",
   "execution_count": null,
   "id": "fa3e0e7c-0482-4288-9d94-acd761fc106e",
   "metadata": {},
   "outputs": [],
   "source": []
  },
  {
   "cell_type": "code",
   "execution_count": 3,
   "id": "826be416-bada-453f-a4c4-c7ab01c2d554",
   "metadata": {},
   "outputs": [
    {
     "name": "stdout",
     "output_type": "stream",
     "text": [
      "world\n"
     ]
    }
   ],
   "source": [
    "if ():  \n",
    "    print(\"linux\")  \n",
    "else:\n",
    "    print(\"world\")\n"
   ]
  },
  {
   "cell_type": "code",
   "execution_count": null,
   "id": "7ac2cd20-a2a7-4958-a1bf-c1934f594dce",
   "metadata": {},
   "outputs": [],
   "source": []
  },
  {
   "cell_type": "code",
   "execution_count": null,
   "id": "9d14d227-aca3-4340-a1dd-14e22759e889",
   "metadata": {},
   "outputs": [],
   "source": []
  },
  {
   "cell_type": "code",
   "execution_count": 4,
   "id": "c1b4e1be-84a2-4568-8397-f8d0eb8c7138",
   "metadata": {},
   "outputs": [
    {
     "name": "stdout",
     "output_type": "stream",
     "text": [
      "linux\n",
      "world\n"
     ]
    }
   ],
   "source": [
    "\n",
    "# something new to understand......!\n",
    "# in python if any program runs successfully it gives \"none\" value at background\n",
    "# none==false\n",
    "\n",
    "if(print(\"linux\")):\n",
    "    print(\"linux\")\n",
    "else:\n",
    "    print(\"world\")\n",
    "    "
   ]
  },
  {
   "cell_type": "code",
   "execution_count": null,
   "id": "54f7595b-c770-4b3f-822f-3871d996b476",
   "metadata": {},
   "outputs": [],
   "source": []
  },
  {
   "cell_type": "code",
   "execution_count": null,
   "id": "0f8719a5-7cc2-44aa-acd8-3be114f5ca21",
   "metadata": {},
   "outputs": [],
   "source": []
  },
  {
   "cell_type": "code",
   "execution_count": null,
   "id": "7ed3d046-9b0a-4146-9a9c-406767de8910",
   "metadata": {},
   "outputs": [],
   "source": []
  }
 ],
 "metadata": {
  "kernelspec": {
   "display_name": "Python 3 (ipykernel)",
   "language": "python",
   "name": "python3"
  },
  "language_info": {
   "codemirror_mode": {
    "name": "ipython",
    "version": 3
   },
   "file_extension": ".py",
   "mimetype": "text/x-python",
   "name": "python",
   "nbconvert_exporter": "python",
   "pygments_lexer": "ipython3",
   "version": "3.12.3"
  }
 },
 "nbformat": 4,
 "nbformat_minor": 5
}
