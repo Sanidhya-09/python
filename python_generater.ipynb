{
 "cells": [
  {
   "cell_type": "code",
   "execution_count": 1,
   "id": "7437812b-28e4-4152-a8d7-df91b2d1ff5c",
   "metadata": {},
   "outputs": [],
   "source": [
    "# num=[i*2 for i in range(1000000000000000000000000000000000000000000000000000000000000000000000000000)]\n",
    "\n",
    "# here systeam get hang up dut the memory issue(take all the memoryspace)"
   ]
  },
  {
   "cell_type": "code",
   "execution_count": null,
   "id": "786028dc-cf6b-40f4-8320-385873117a92",
   "metadata": {},
   "outputs": [],
   "source": []
  },
  {
   "cell_type": "code",
   "execution_count": null,
   "id": "d86aeb0b-d6c6-4589-a6bd-f28826259087",
   "metadata": {},
   "outputs": [],
   "source": []
  },
  {
   "cell_type": "code",
   "execution_count": 2,
   "id": "07a7f81b-95bf-48fb-8b82-88bf6d4ad3cd",
   "metadata": {},
   "outputs": [],
   "source": [
    "#to avoid this we use generator concept\n",
    "\n",
    "num=( i*2 for i in range(1000000000000000000000000000000000000000000000000000000000000000000000000000) )   #here we create generator by using ()\n",
    "\n",
    "#the code is stored in RAM but not executed"
   ]
  },
  {
   "cell_type": "code",
   "execution_count": 3,
   "id": "0c5d81da-c7f0-4d1d-ba6a-e8004ead28b5",
   "metadata": {},
   "outputs": [
    {
     "data": {
      "text/plain": [
       "0"
      ]
     },
     "execution_count": 3,
     "metadata": {},
     "output_type": "execute_result"
    }
   ],
   "source": [
    "next(num)    #to execute this code we use next() function"
   ]
  },
  {
   "cell_type": "code",
   "execution_count": 4,
   "id": "e12c388d-4f59-4515-9fe8-d8ae429b6685",
   "metadata": {},
   "outputs": [
    {
     "data": {
      "text/plain": [
       "2"
      ]
     },
     "execution_count": 4,
     "metadata": {},
     "output_type": "execute_result"
    }
   ],
   "source": [
    "next(num)"
   ]
  },
  {
   "cell_type": "code",
   "execution_count": 5,
   "id": "094d10aa-de55-4a04-a7f4-9794254cca7a",
   "metadata": {},
   "outputs": [
    {
     "data": {
      "text/plain": [
       "4"
      ]
     },
     "execution_count": 5,
     "metadata": {},
     "output_type": "execute_result"
    }
   ],
   "source": [
    "next(num)"
   ]
  },
  {
   "cell_type": "code",
   "execution_count": 6,
   "id": "db585dab-979f-4426-98e2-cf789d14ad69",
   "metadata": {},
   "outputs": [
    {
     "data": {
      "text/plain": [
       "6"
      ]
     },
     "execution_count": 6,
     "metadata": {},
     "output_type": "execute_result"
    }
   ],
   "source": [
    "next(num)"
   ]
  },
  {
   "cell_type": "code",
   "execution_count": 7,
   "id": "1dbc681a-e4a2-41e2-b5b1-d7a1b62f0e4f",
   "metadata": {},
   "outputs": [
    {
     "data": {
      "text/plain": [
       "8"
      ]
     },
     "execution_count": 7,
     "metadata": {},
     "output_type": "execute_result"
    }
   ],
   "source": [
    "next(num)"
   ]
  },
  {
   "cell_type": "code",
   "execution_count": null,
   "id": "7da25ebd-f9a9-4971-b4b1-713c11a21a76",
   "metadata": {},
   "outputs": [],
   "source": []
  },
  {
   "cell_type": "code",
   "execution_count": null,
   "id": "ac533ceb-43e4-4618-a9c4-0eb6b5a74d3e",
   "metadata": {},
   "outputs": [],
   "source": []
  },
  {
   "cell_type": "code",
   "execution_count": 8,
   "id": "edca1c84-102b-449e-b971-795d51df4f62",
   "metadata": {},
   "outputs": [],
   "source": [
    "#   iter\n",
    "\n",
    "d=[1,2,3,4,5,6,7,8,9]\n",
    "e=iter(d)\n",
    "\n",
    "#at background for loop works on  iter"
   ]
  },
  {
   "cell_type": "code",
   "execution_count": 9,
   "id": "b898bac9-f7be-4541-bcb5-a4803d23a19e",
   "metadata": {},
   "outputs": [
    {
     "data": {
      "text/plain": [
       "1"
      ]
     },
     "execution_count": 9,
     "metadata": {},
     "output_type": "execute_result"
    }
   ],
   "source": [
    "next(e)"
   ]
  },
  {
   "cell_type": "code",
   "execution_count": 10,
   "id": "12fdf9a7-38c3-4fac-97d6-1763e1db5e4b",
   "metadata": {},
   "outputs": [],
   "source": [
    "def myfun():\n",
    "    marks=[10,20,45,45,18,49,56]\n",
    "    for mark in marks:\n",
    "        yield mark"
   ]
  },
  {
   "cell_type": "code",
   "execution_count": 11,
   "id": "a2933176-9e74-49c0-b382-c807f5c1db0b",
   "metadata": {},
   "outputs": [],
   "source": [
    "res=myfun()"
   ]
  },
  {
   "cell_type": "code",
   "execution_count": 12,
   "id": "ae88bcc0-3f02-4033-b0ef-8321e370392d",
   "metadata": {},
   "outputs": [
    {
     "data": {
      "text/plain": [
       "10"
      ]
     },
     "execution_count": 12,
     "metadata": {},
     "output_type": "execute_result"
    }
   ],
   "source": [
    "next(res)"
   ]
  },
  {
   "cell_type": "code",
   "execution_count": 13,
   "id": "db5a51ac-d0ea-48e6-a226-c03ee65fd5e1",
   "metadata": {},
   "outputs": [
    {
     "data": {
      "text/plain": [
       "20"
      ]
     },
     "execution_count": 13,
     "metadata": {},
     "output_type": "execute_result"
    }
   ],
   "source": [
    "next(res)"
   ]
  },
  {
   "cell_type": "code",
   "execution_count": 14,
   "id": "db9eed27-254a-4573-8d32-dfd63ced5232",
   "metadata": {},
   "outputs": [
    {
     "data": {
      "text/plain": [
       "45"
      ]
     },
     "execution_count": 14,
     "metadata": {},
     "output_type": "execute_result"
    }
   ],
   "source": [
    "next(res)"
   ]
  },
  {
   "cell_type": "code",
   "execution_count": null,
   "id": "28e6fafc-1926-4eed-b3fe-cd733508f24e",
   "metadata": {},
   "outputs": [],
   "source": []
  }
 ],
 "metadata": {
  "kernelspec": {
   "display_name": "Python 3 (ipykernel)",
   "language": "python",
   "name": "python3"
  },
  "language_info": {
   "codemirror_mode": {
    "name": "ipython",
    "version": 3
   },
   "file_extension": ".py",
   "mimetype": "text/x-python",
   "name": "python",
   "nbconvert_exporter": "python",
   "pygments_lexer": "ipython3",
   "version": "3.12.3"
  }
 },
 "nbformat": 4,
 "nbformat_minor": 5
}
