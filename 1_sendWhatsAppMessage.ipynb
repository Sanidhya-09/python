{
 "cells": [
  {
   "cell_type": "code",
   "execution_count": 1,
   "id": "9947f36e-c60c-4a0d-a093-9daf45ca67c5",
   "metadata": {},
   "outputs": [],
   "source": [
    "# import pywhatkit as py\n",
    "\n",
    "try:\n",
    "    \n",
    "    def sendWhatsAppMessage():\n",
    "        \n",
    "        reciverNumber=\"+8010566988\"\n",
    "        message=\"Hi this is pythons message...!\"\n",
    "        schduledTimeInHours=int(input(\"Enter schduled time in hours:\"))\n",
    "        schduledTimeInMinutes=int(input(\"Enter schduled time in minutes:\"))\n",
    "        \n",
    "        (py.sendwhatmsg(reciverNumber,message,schduledTimeInHours,schduledTimeInMinutes))\n",
    "        print(\"message sent successfully.\")\n",
    "\n",
    "except ModuleNotFoundError:\n",
    "    print(\"module not loded successfully.\")\n",
    "except ValueError:\n",
    "        print(\"Give valid phone number.\")\n",
    "except Exception:\n",
    "        print(\"give correct time format.\")"
   ]
  },
  {
   "cell_type": "code",
   "execution_count": 2,
   "id": "77d630c7-07d4-4432-a064-1797c33bed9a",
   "metadata": {},
   "outputs": [
    {
     "name": "stdin",
     "output_type": "stream",
     "text": [
      "Enter schduled time in hours: 09\n",
      "Enter schduled time in minutes: 35\n"
     ]
    },
    {
     "ename": "NameError",
     "evalue": "name 'py' is not defined",
     "output_type": "error",
     "traceback": [
      "\u001b[1;31m---------------------------------------------------------------------------\u001b[0m",
      "\u001b[1;31mNameError\u001b[0m                                 Traceback (most recent call last)",
      "Cell \u001b[1;32mIn[2], line 1\u001b[0m\n\u001b[1;32m----> 1\u001b[0m \u001b[43msendWhatsAppMessage\u001b[49m\u001b[43m(\u001b[49m\u001b[43m)\u001b[49m\n",
      "Cell \u001b[1;32mIn[1], line 12\u001b[0m, in \u001b[0;36msendWhatsAppMessage\u001b[1;34m()\u001b[0m\n\u001b[0;32m      9\u001b[0m schduledTimeInHours\u001b[38;5;241m=\u001b[39m\u001b[38;5;28mint\u001b[39m(\u001b[38;5;28minput\u001b[39m(\u001b[38;5;124m\"\u001b[39m\u001b[38;5;124mEnter schduled time in hours:\u001b[39m\u001b[38;5;124m\"\u001b[39m))\n\u001b[0;32m     10\u001b[0m schduledTimeInMinutes\u001b[38;5;241m=\u001b[39m\u001b[38;5;28mint\u001b[39m(\u001b[38;5;28minput\u001b[39m(\u001b[38;5;124m\"\u001b[39m\u001b[38;5;124mEnter schduled time in minutes:\u001b[39m\u001b[38;5;124m\"\u001b[39m))\n\u001b[1;32m---> 12\u001b[0m (\u001b[43mpy\u001b[49m\u001b[38;5;241m.\u001b[39msendwhatmsg(reciverNumber,message,schduledTimeInHours,schduledTimeInMinutes))\n\u001b[0;32m     13\u001b[0m \u001b[38;5;28mprint\u001b[39m(\u001b[38;5;124m\"\u001b[39m\u001b[38;5;124mmessage sent successfully.\u001b[39m\u001b[38;5;124m\"\u001b[39m)\n",
      "\u001b[1;31mNameError\u001b[0m: name 'py' is not defined"
     ]
    }
   ],
   "source": [
    "sendWhatsAppMessage()"
   ]
  },
  {
   "cell_type": "code",
   "execution_count": null,
   "id": "7a731735-df6a-41ab-9ca6-542f9db8153e",
   "metadata": {},
   "outputs": [],
   "source": []
  }
 ],
 "metadata": {
  "kernelspec": {
   "display_name": "Python 3 (ipykernel)",
   "language": "python",
   "name": "python3"
  },
  "language_info": {
   "codemirror_mode": {
    "name": "ipython",
    "version": 3
   },
   "file_extension": ".py",
   "mimetype": "text/x-python",
   "name": "python",
   "nbconvert_exporter": "python",
   "pygments_lexer": "ipython3",
   "version": "3.12.3"
  }
 },
 "nbformat": 4,
 "nbformat_minor": 5
}
