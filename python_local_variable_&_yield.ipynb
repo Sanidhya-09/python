{
 "cells": [
  {
   "cell_type": "code",
   "execution_count": 1,
   "id": "97d92acd-2d01-4115-a246-3fe67acedfbc",
   "metadata": {},
   "outputs": [],
   "source": [
    "age=25   # is global variable"
   ]
  },
  {
   "cell_type": "code",
   "execution_count": 2,
   "id": "bfe54d20-5c20-4ffe-8c72-2241135ac269",
   "metadata": {},
   "outputs": [],
   "source": [
    "def hello():\n",
    "    marks=20   #it is local variable...\n",
    "    print(\"Hello,how are you?\")    #code present in code memeory...\n",
    "    print(marks)"
   ]
  },
  {
   "cell_type": "code",
   "execution_count": 3,
   "id": "8d13eb58-5717-4ea1-8ea4-a6e2e85ed43b",
   "metadata": {},
   "outputs": [
    {
     "name": "stdout",
     "output_type": "stream",
     "text": [
      "Hello,how are you?\n",
      "20\n"
     ]
    }
   ],
   "source": [
    "#after we execute this function call code shifts in stack memory \n",
    "hello()\n",
    "\n",
    "# after completing the function code will get vanished..."
   ]
  },
  {
   "cell_type": "code",
   "execution_count": 4,
   "id": "4c8307c5-1115-49c9-86b6-eb548e572507",
   "metadata": {},
   "outputs": [
    {
     "name": "stdout",
     "output_type": "stream",
     "text": [
      "25\n"
     ]
    },
    {
     "ename": "NameError",
     "evalue": "name 'marks' is not defined",
     "output_type": "error",
     "traceback": [
      "\u001b[1;31m---------------------------------------------------------------------------\u001b[0m",
      "\u001b[1;31mNameError\u001b[0m                                 Traceback (most recent call last)",
      "Cell \u001b[1;32mIn[4], line 2\u001b[0m\n\u001b[0;32m      1\u001b[0m \u001b[38;5;28mprint\u001b[39m(age)\n\u001b[1;32m----> 2\u001b[0m \u001b[38;5;28mprint\u001b[39m(\u001b[43mmarks\u001b[49m)\n",
      "\u001b[1;31mNameError\u001b[0m: name 'marks' is not defined"
     ]
    }
   ],
   "source": [
    "print(age)\n",
    "print(marks)"
   ]
  },
  {
   "cell_type": "code",
   "execution_count": null,
   "id": "a68dcbf0-cd8c-428e-9d89-27b4a4a78d7f",
   "metadata": {},
   "outputs": [],
   "source": []
  },
  {
   "cell_type": "code",
   "execution_count": null,
   "id": "66665e30-e24d-41c8-961e-cc2ccf14bf7d",
   "metadata": {},
   "outputs": [],
   "source": []
  },
  {
   "cell_type": "code",
   "execution_count": null,
   "id": "3d407719-af22-4e16-9222-767feb317cd0",
   "metadata": {},
   "outputs": [],
   "source": []
  },
  {
   "cell_type": "code",
   "execution_count": 5,
   "id": "6cc8dbde-a211-497b-8aa9-11200d562668",
   "metadata": {},
   "outputs": [],
   "source": [
    "# yield keyword...!"
   ]
  },
  {
   "cell_type": "code",
   "execution_count": 6,
   "id": "99411f7b-6444-452a-b8ac-03d54584de8b",
   "metadata": {},
   "outputs": [],
   "source": [
    "marks=[10,20,15,17,19]"
   ]
  },
  {
   "cell_type": "code",
   "execution_count": 7,
   "id": "2c2eac96-7e03-46e7-a28a-5e9002e2a696",
   "metadata": {},
   "outputs": [],
   "source": [
    "def mark():\n",
    "    for mark in marks:\n",
    "        return mark  "
   ]
  },
  {
   "cell_type": "code",
   "execution_count": 8,
   "id": "f562914a-acdb-48de-9bb1-1a83085722a8",
   "metadata": {},
   "outputs": [
    {
     "data": {
      "text/plain": [
       "10"
      ]
     },
     "execution_count": 8,
     "metadata": {},
     "output_type": "execute_result"
    }
   ],
   "source": [
    "mark()"
   ]
  },
  {
   "cell_type": "code",
   "execution_count": 10,
   "id": "1d18cc31-f30c-4a14-b55d-9764d92a81a4",
   "metadata": {},
   "outputs": [
    {
     "data": {
      "text/plain": [
       "10"
      ]
     },
     "execution_count": 10,
     "metadata": {},
     "output_type": "execute_result"
    }
   ],
   "source": [
    "mark()"
   ]
  },
  {
   "cell_type": "code",
   "execution_count": null,
   "id": "4e7294b2-9610-464a-83d6-f0795c723ea0",
   "metadata": {},
   "outputs": [],
   "source": []
  },
  {
   "cell_type": "code",
   "execution_count": null,
   "id": "f3342809-c412-4f18-b271-001e367adcaf",
   "metadata": {},
   "outputs": [],
   "source": []
  },
  {
   "cell_type": "code",
   "execution_count": 14,
   "id": "5ef8b421-0f6f-4fa1-9ce0-f347bf0bc5ba",
   "metadata": {},
   "outputs": [],
   "source": [
    "def mark():\n",
    "    for mark in marks:\n",
    "        yield mark                         #....yield convert this function into generator...(python generator..)"
   ]
  },
  {
   "cell_type": "code",
   "execution_count": 15,
   "id": "65b65eb0-df0c-4412-80ed-8d06b671109d",
   "metadata": {},
   "outputs": [],
   "source": [
    "var=mark()                       #...here it is a generator concept we will study it later"
   ]
  },
  {
   "cell_type": "code",
   "execution_count": 18,
   "id": "8130f659-8a5d-4f90-bbfc-86f374d63ed5",
   "metadata": {},
   "outputs": [
    {
     "data": {
      "text/plain": [
       "15"
      ]
     },
     "execution_count": 18,
     "metadata": {},
     "output_type": "execute_result"
    }
   ],
   "source": [
    "next(var)"
   ]
  },
  {
   "cell_type": "code",
   "execution_count": 19,
   "id": "9536eb97-9f99-4a12-b13d-9e07142b8dc4",
   "metadata": {},
   "outputs": [
    {
     "data": {
      "text/plain": [
       "17"
      ]
     },
     "execution_count": 19,
     "metadata": {},
     "output_type": "execute_result"
    }
   ],
   "source": [
    "next(var)"
   ]
  },
  {
   "cell_type": "code",
   "execution_count": null,
   "id": "56bfc99b-8e50-43d7-8103-d10edd04b3fd",
   "metadata": {},
   "outputs": [],
   "source": []
  },
  {
   "cell_type": "code",
   "execution_count": 20,
   "id": "22ffa0a9-a83a-4051-8d53-8cb37fad5a4c",
   "metadata": {},
   "outputs": [],
   "source": [
    "import sys"
   ]
  },
  {
   "cell_type": "code",
   "execution_count": 21,
   "id": "b3f22d4d-37e2-45b9-bc25-c26869422455",
   "metadata": {},
   "outputs": [],
   "source": [
    "x=5"
   ]
  },
  {
   "cell_type": "code",
   "execution_count": 22,
   "id": "fa04eb81-f1d1-400c-a8f2-2c98fcc77d97",
   "metadata": {},
   "outputs": [
    {
     "data": {
      "text/plain": [
       "['__breakpointhook__',\n",
       " '__displayhook__',\n",
       " '__doc__',\n",
       " '__excepthook__',\n",
       " '__interactivehook__',\n",
       " '__loader__',\n",
       " '__name__',\n",
       " '__package__',\n",
       " '__spec__',\n",
       " '__stderr__',\n",
       " '__stdin__',\n",
       " '__stdout__',\n",
       " '__unraisablehook__',\n",
       " '_base_executable',\n",
       " '_clear_type_cache',\n",
       " '_current_exceptions',\n",
       " '_current_frames',\n",
       " '_debugmallocstats',\n",
       " '_enablelegacywindowsfsencoding',\n",
       " '_framework',\n",
       " '_getframe',\n",
       " '_getframemodulename',\n",
       " '_git',\n",
       " '_home',\n",
       " '_setprofileallthreads',\n",
       " '_settraceallthreads',\n",
       " '_stdlib_dir',\n",
       " '_vpath',\n",
       " '_xoptions',\n",
       " 'activate_stack_trampoline',\n",
       " 'addaudithook',\n",
       " 'api_version',\n",
       " 'argv',\n",
       " 'audit',\n",
       " 'base_exec_prefix',\n",
       " 'base_prefix',\n",
       " 'breakpointhook',\n",
       " 'builtin_module_names',\n",
       " 'byteorder',\n",
       " 'call_tracing',\n",
       " 'copyright',\n",
       " 'deactivate_stack_trampoline',\n",
       " 'displayhook',\n",
       " 'dllhandle',\n",
       " 'dont_write_bytecode',\n",
       " 'exc_info',\n",
       " 'excepthook',\n",
       " 'exception',\n",
       " 'exec_prefix',\n",
       " 'executable',\n",
       " 'exit',\n",
       " 'flags',\n",
       " 'float_info',\n",
       " 'float_repr_style',\n",
       " 'get_asyncgen_hooks',\n",
       " 'get_coroutine_origin_tracking_depth',\n",
       " 'get_int_max_str_digits',\n",
       " 'getallocatedblocks',\n",
       " 'getdefaultencoding',\n",
       " 'getfilesystemencodeerrors',\n",
       " 'getfilesystemencoding',\n",
       " 'getprofile',\n",
       " 'getrecursionlimit',\n",
       " 'getrefcount',\n",
       " 'getsizeof',\n",
       " 'getswitchinterval',\n",
       " 'gettrace',\n",
       " 'getunicodeinternedsize',\n",
       " 'getwindowsversion',\n",
       " 'hash_info',\n",
       " 'hexversion',\n",
       " 'implementation',\n",
       " 'int_info',\n",
       " 'intern',\n",
       " 'is_finalizing',\n",
       " 'is_stack_trampoline_active',\n",
       " 'last_traceback',\n",
       " 'last_type',\n",
       " 'last_value',\n",
       " 'maxsize',\n",
       " 'maxunicode',\n",
       " 'meta_path',\n",
       " 'modules',\n",
       " 'monitoring',\n",
       " 'orig_argv',\n",
       " 'path',\n",
       " 'path_hooks',\n",
       " 'path_importer_cache',\n",
       " 'platform',\n",
       " 'platlibdir',\n",
       " 'prefix',\n",
       " 'ps1',\n",
       " 'ps2',\n",
       " 'ps3',\n",
       " 'pycache_prefix',\n",
       " 'set_asyncgen_hooks',\n",
       " 'set_coroutine_origin_tracking_depth',\n",
       " 'set_int_max_str_digits',\n",
       " 'setprofile',\n",
       " 'setrecursionlimit',\n",
       " 'setswitchinterval',\n",
       " 'settrace',\n",
       " 'stderr',\n",
       " 'stdin',\n",
       " 'stdlib_module_names',\n",
       " 'stdout',\n",
       " 'thread_info',\n",
       " 'unraisablehook',\n",
       " 'version',\n",
       " 'version_info',\n",
       " 'warnoptions',\n",
       " 'winver']"
      ]
     },
     "execution_count": 22,
     "metadata": {},
     "output_type": "execute_result"
    }
   ],
   "source": [
    "dir(sys)"
   ]
  },
  {
   "cell_type": "code",
   "execution_count": 26,
   "id": "7e1f8f37-c9b9-451a-80a3-87861eae589e",
   "metadata": {},
   "outputs": [
    {
     "data": {
      "text/plain": [
       "28"
      ]
     },
     "execution_count": 26,
     "metadata": {},
     "output_type": "execute_result"
    }
   ],
   "source": [
    "sys.getsizeof(x)"
   ]
  },
  {
   "cell_type": "code",
   "execution_count": 27,
   "id": "bb32358d-f6f2-4df3-9db3-3e39e0056627",
   "metadata": {},
   "outputs": [
    {
     "data": {
      "text/plain": [
       "104"
      ]
     },
     "execution_count": 27,
     "metadata": {},
     "output_type": "execute_result"
    }
   ],
   "source": [
    "sys.getsizeof(marks)"
   ]
  },
  {
   "cell_type": "code",
   "execution_count": null,
   "id": "312c4e6c-2508-446a-b78e-11a0cf0b4a31",
   "metadata": {},
   "outputs": [],
   "source": []
  }
 ],
 "metadata": {
  "kernelspec": {
   "display_name": "Python 3 (ipykernel)",
   "language": "python",
   "name": "python3"
  },
  "language_info": {
   "codemirror_mode": {
    "name": "ipython",
    "version": 3
   },
   "file_extension": ".py",
   "mimetype": "text/x-python",
   "name": "python",
   "nbconvert_exporter": "python",
   "pygments_lexer": "ipython3",
   "version": "3.12.3"
  }
 },
 "nbformat": 4,
 "nbformat_minor": 5
}
