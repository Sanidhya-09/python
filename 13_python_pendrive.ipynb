{
 "cells": [
  {
   "cell_type": "code",
   "execution_count": null,
   "id": "7491c4a8-6f32-41fa-b8a8-b4fe3f1d9b89",
   "metadata": {},
   "outputs": [],
   "source": [
    "import cv2\n",
    "import time\n",
    "import wmi"
   ]
  },
  {
   "cell_type": "code",
   "execution_count": null,
   "id": "cb23fd29-fa55-422c-9a2b-3ee7d8dbb5dc",
   "metadata": {},
   "outputs": [],
   "source": [
    "def takePhoto():\n",
    "    cam=cv2.VideoCapture(0)\n",
    "    status,photo=cam.read()\n",
    "\n",
    "    if status:\n",
    "        cv2.imwrite(\"hacker_image\",photo)\n",
    "        print(\"usb device connected\")\n",
    "    cam.release()"
   ]
  },
  {
   "cell_type": "code",
   "execution_count": null,
   "id": "b15e0148-3955-49a4-9c55-62f4fdcf51ec",
   "metadata": {},
   "outputs": [],
   "source": [
    "def monitor_usb():\n",
    "    c = wmi.WMI()\n",
    "    watcher = c.Win32_DeviceChangeEvent.watch_for()\n",
    "\n",
    "    while True:\n",
    "        device_event=watcher()\n",
    "        if device_event.EventType==2:\n",
    "            takePhoto()\n",
    "        print(\"photo saved.\")"
   ]
  },
  {
   "cell_type": "code",
   "execution_count": null,
   "id": "4ec3ba84-2127-441f-8aca-9f18d69bd617",
   "metadata": {},
   "outputs": [],
   "source": [
    "if __name__ == \"__main__\":\n",
    "    print(\"Monitoring USB connections...\")\n",
    "    monitor_usb()\n"
   ]
  },
  {
   "cell_type": "code",
   "execution_count": null,
   "id": "de3656ea-dbc2-48a8-bcbf-60d4a07f3350",
   "metadata": {},
   "outputs": [],
   "source": []
  }
 ],
 "metadata": {
  "kernelspec": {
   "display_name": "Python 3 (ipykernel)",
   "language": "python",
   "name": "python3"
  },
  "language_info": {
   "codemirror_mode": {
    "name": "ipython",
    "version": 3
   },
   "file_extension": ".py",
   "mimetype": "text/x-python",
   "name": "python",
   "nbconvert_exporter": "python",
   "pygments_lexer": "ipython3",
   "version": "3.12.3"
  }
 },
 "nbformat": 4,
 "nbformat_minor": 5
}
