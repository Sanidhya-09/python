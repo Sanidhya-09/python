{
 "cells": [
  {
   "cell_type": "code",
   "execution_count": null,
   "id": "52874624-379e-456b-b0e0-ff8b025a784a",
   "metadata": {},
   "outputs": [],
   "source": [
    "import speech_recognition as sr\n",
    "\n",
    "def speechToText():\n",
    "    recognizer=sr.Recognizer()\n",
    "\n",
    "    with sr.Microphone() as source:\n",
    "        print(\"Speak something...\")\n",
    "    \n",
    "        audio=recognizer.listen(source)\n",
    "        text=recognizer.recognize_google(audio)\n",
    "        print(f\"you spoke:{text}\")"
   ]
  },
  {
   "cell_type": "code",
   "execution_count": null,
   "id": "fcf2d71e-65aa-4f12-a58b-3fa56c779e51",
   "metadata": {},
   "outputs": [],
   "source": [
    "speechToText()"
   ]
  },
  {
   "cell_type": "code",
   "execution_count": null,
   "id": "c3e909f4-1b69-4330-8d69-21452c2833aa",
   "metadata": {},
   "outputs": [],
   "source": []
  }
 ],
 "metadata": {
  "kernelspec": {
   "display_name": "Python 3 (ipykernel)",
   "language": "python",
   "name": "python3"
  },
  "language_info": {
   "codemirror_mode": {
    "name": "ipython",
    "version": 3
   },
   "file_extension": ".py",
   "mimetype": "text/x-python",
   "name": "python",
   "nbconvert_exporter": "python",
   "pygments_lexer": "ipython3",
   "version": "3.12.3"
  }
 },
 "nbformat": 4,
 "nbformat_minor": 5
}
