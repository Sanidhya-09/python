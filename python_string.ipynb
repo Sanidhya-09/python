{
 "cells": [
  {
   "cell_type": "code",
   "execution_count": 5,
   "id": "e8d7767c-fb6e-4bc1-8a27-4467fa4e21ba",
   "metadata": {},
   "outputs": [
    {
     "name": "stdin",
     "output_type": "stream",
     "text": [
      "Enter your string: sanidhya\n"
     ]
    }
   ],
   "source": [
    "str1=input(\"Enter your string:\")"
   ]
  },
  {
   "cell_type": "code",
   "execution_count": 11,
   "id": "3a3ba976-fd95-4421-8fa0-5392e4c858f6",
   "metadata": {},
   "outputs": [
    {
     "name": "stdout",
     "output_type": "stream",
     "text": [
      "ayhdinas"
     ]
    }
   ],
   "source": [
    "reversed_string=list(reversed(str1))\n",
    "\n",
    "for i in reversed_string:\n",
    "    print(i,end=\"\")"
   ]
  },
  {
   "cell_type": "code",
   "execution_count": null,
   "id": "2324a2da-6391-4cfc-b792-5f5d1623ae3e",
   "metadata": {},
   "outputs": [],
   "source": [
    "element=int(input(\"Enter the index\"))"
   ]
  },
  {
   "cell_type": "code",
   "execution_count": null,
   "id": "7c9fb85f-0388-4077-93d5-ce3a9ba10728",
   "metadata": {},
   "outputs": [],
   "source": [
    "def access_element_at_k_index(str1,k):\n",
    "    return f\"element at {k}th index is {str1[k]}\""
   ]
  },
  {
   "cell_type": "code",
   "execution_count": null,
   "id": "86338a5e-310c-4f1d-a2be-c88e039585dd",
   "metadata": {},
   "outputs": [],
   "source": [
    "access_element_at_k_index(str1,element)"
   ]
  },
  {
   "cell_type": "code",
   "execution_count": null,
   "id": "98ed39b5-cca7-470a-8707-826ecde7a69b",
   "metadata": {},
   "outputs": [],
   "source": []
  },
  {
   "cell_type": "code",
   "execution_count": null,
   "id": "39e8467d-3ed0-4d01-97d3-394a2e990050",
   "metadata": {},
   "outputs": [],
   "source": []
  },
  {
   "cell_type": "code",
   "execution_count": null,
   "id": "850844d0-cbaa-4ac2-8a29-947f52935e07",
   "metadata": {},
   "outputs": [],
   "source": [
    "def addtion_in_string(str1,change,index):\n",
    "    modified_string=str1[0:index] + change + str1[index:]\n",
    "    return modified_string"
   ]
  },
  {
   "cell_type": "code",
   "execution_count": null,
   "id": "ab2f7775-7e60-4f8f-8f8a-4cf569da68ca",
   "metadata": {},
   "outputs": [],
   "source": [
    "addition_index=int(input(\"Enter the index at which you want to add string:\"))\n",
    "str2=input(\"Enter your new string:\")\n",
    "res=addtion_in_string(str1,str2,addition_index)\n",
    "print(res)"
   ]
  },
  {
   "cell_type": "code",
   "execution_count": null,
   "id": "b5914113-6f0f-4042-b3c0-2ca1c26ac78a",
   "metadata": {},
   "outputs": [],
   "source": []
  }
 ],
 "metadata": {
  "kernelspec": {
   "display_name": "Python 3 (ipykernel)",
   "language": "python",
   "name": "python3"
  },
  "language_info": {
   "codemirror_mode": {
    "name": "ipython",
    "version": 3
   },
   "file_extension": ".py",
   "mimetype": "text/x-python",
   "name": "python",
   "nbconvert_exporter": "python",
   "pygments_lexer": "ipython3",
   "version": "3.12.3"
  }
 },
 "nbformat": 4,
 "nbformat_minor": 5
}
