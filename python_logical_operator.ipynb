{
 "cells": [
  {
   "cell_type": "code",
   "execution_count": 10,
   "id": "2a243ea0-81ae-4ea1-a190-a2bb1562259d",
   "metadata": {},
   "outputs": [
    {
     "name": "stdin",
     "output_type": "stream",
     "text": [
      "enter your experience: 8\n"
     ]
    },
    {
     "name": "stdout",
     "output_type": "stream",
     "text": [
      "will get senior job post\n"
     ]
    }
   ],
   "source": [
    "exp=int(input(\"enter your experience:\"))\n",
    "if exp>2 and exp<=5:\n",
    "    (exp>2 or print(\"not job\")) and (exp>2 and print(\"will get executive job\"))  #lazy operation\n",
    "elif exp>5 and exp<=10:\n",
    "    (exp>2 or print(\"not job\")) and (exp>2 and print(\"will get senior job post\"))\n",
    "elif exp>10:\n",
    "    (exp>2 or print(\"not job\")) and (exp>2 and print(\"will get maneger job post\"))"
   ]
  },
  {
   "cell_type": "code",
   "execution_count": null,
   "id": "67ecaf58-6687-4ec0-8178-babd1ce1b4ec",
   "metadata": {},
   "outputs": [],
   "source": []
  }
 ],
 "metadata": {
  "kernelspec": {
   "display_name": "Python 3 (ipykernel)",
   "language": "python",
   "name": "python3"
  },
  "language_info": {
   "codemirror_mode": {
    "name": "ipython",
    "version": 3
   },
   "file_extension": ".py",
   "mimetype": "text/x-python",
   "name": "python",
   "nbconvert_exporter": "python",
   "pygments_lexer": "ipython3",
   "version": "3.12.3"
  }
 },
 "nbformat": 4,
 "nbformat_minor": 5
}
