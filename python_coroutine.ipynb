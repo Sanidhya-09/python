{
 "cells": [
  {
   "cell_type": "code",
   "execution_count": 18,
   "id": "9803f5e7-a913-4539-bf8c-61aa18c42e6c",
   "metadata": {},
   "outputs": [],
   "source": [
    "def searching_task():\n",
    "    import time\n",
    "    # here a task which take some time to excicute\n",
    "    book=\"Rohit Sharma, nicknamed 'Hitman' holds the record for the highest individual score in a One Day International (ODI) match with 264 runs. He is the only player to have scored three double centuries in ODIs. Besides his batting prowess, he also captains the Mumbai Indians in the IPL and has led them to multiple title wins.\"\n",
    "    time.sleep(5)\n",
    "\n",
    "    while True:\n",
    "        text=(yield)\n",
    "        if text in book:\n",
    "            print(f\"{text} is present in book.\")\n",
    "        else:\n",
    "            print(f\"{text} is not present in book.\")\n",
    "        "
   ]
  },
  {
   "cell_type": "code",
   "execution_count": 20,
   "id": "8516a567-e05d-40b9-9b31-c1564c4da5b3",
   "metadata": {},
   "outputs": [
    {
     "name": "stdout",
     "output_type": "stream",
     "text": [
      "Rohit is present in book.\n"
     ]
    }
   ],
   "source": [
    "search=searching_task()\n",
    "next(search)\n",
    "search.send(\"Rohit\")"
   ]
  },
  {
   "cell_type": "code",
   "execution_count": 21,
   "id": "7eac6dfe-8cf2-4b72-8303-d48152955152",
   "metadata": {},
   "outputs": [
    {
     "name": "stdout",
     "output_type": "stream",
     "text": [
      "Hitman is present in book.\n"
     ]
    }
   ],
   "source": [
    "search.send(\"Hitman\")"
   ]
  },
  {
   "cell_type": "code",
   "execution_count": null,
   "id": "6b6bb930-afd6-482e-a35d-ded1cadf636f",
   "metadata": {},
   "outputs": [],
   "source": []
  }
 ],
 "metadata": {
  "kernelspec": {
   "display_name": "Python 3 (ipykernel)",
   "language": "python",
   "name": "python3"
  },
  "language_info": {
   "codemirror_mode": {
    "name": "ipython",
    "version": 3
   },
   "file_extension": ".py",
   "mimetype": "text/x-python",
   "name": "python",
   "nbconvert_exporter": "python",
   "pygments_lexer": "ipython3",
   "version": "3.12.3"
  }
 },
 "nbformat": 4,
 "nbformat_minor": 5
}
