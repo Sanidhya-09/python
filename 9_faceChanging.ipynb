{
 "cells": [
  {
   "cell_type": "code",
   "execution_count": 4,
   "id": "61519aff-1707-4b4c-88e1-ff996d630c1d",
   "metadata": {},
   "outputs": [],
   "source": [
    "import cv2"
   ]
  },
  {
   "cell_type": "code",
   "execution_count": 5,
   "id": "be86a423-7112-4459-a98e-c987c24ed98c",
   "metadata": {},
   "outputs": [],
   "source": [
    "def changeFace():\n",
    "    \n",
    "    lodedImage = cv2.imread('C:\\\\Users\\\\SANIDHYA\\\\OneDrive\\\\Pictures\\\\suri.jpg', cv2.IMREAD_COLOR)\n",
    "    # cv2.imshow(\"loaded_image\",lodedImage)\n",
    "    # cv2.waitKey()\n",
    "    # cv2.destroyAllWindows()            # cv2.imshow(\"loaded_image\",lodedImage[60:210,200:315])\n",
    "\n",
    "    \n",
    "    lodedFlowerPot= cv2.imread('C:\\\\Users\\\\SANIDHYA\\\\OneDrive\\\\Pictures\\\\flower.jpeg', cv2.IMREAD_UNCHANGED)\n",
    "    # cv2.imshow(\"loaded_pot\",lodedFlowerPot)\n",
    "    # cv2.waitKey()\n",
    "    # cv2.destroyAllWindows()           # cv2.imshow(\"loaded_pot\",lodedFlowerPot[30:180,60:175])\n",
    "\n",
    "    lodedImage[60:205,200:335]=lodedFlowerPot[25:170,45:180]\n",
    "    \n",
    "    cv2.imshow(\"loaded_image\",lodedImage)\n",
    "    cv2.waitKey()\n",
    "    cv2.destroyAllWindows()"
   ]
  },
  {
   "cell_type": "code",
   "execution_count": 6,
   "id": "ab312383-a00a-47c3-8a6f-780dd85d247c",
   "metadata": {},
   "outputs": [],
   "source": [
    "changeFace()"
   ]
  },
  {
   "cell_type": "code",
   "execution_count": null,
   "id": "5c2bf9d8-b095-4781-8a7d-1ec921de0ce2",
   "metadata": {},
   "outputs": [],
   "source": []
  }
 ],
 "metadata": {
  "kernelspec": {
   "display_name": "Python 3 (ipykernel)",
   "language": "python",
   "name": "python3"
  },
  "language_info": {
   "codemirror_mode": {
    "name": "ipython",
    "version": 3
   },
   "file_extension": ".py",
   "mimetype": "text/x-python",
   "name": "python",
   "nbconvert_exporter": "python",
   "pygments_lexer": "ipython3",
   "version": "3.12.3"
  }
 },
 "nbformat": 4,
 "nbformat_minor": 5
}
