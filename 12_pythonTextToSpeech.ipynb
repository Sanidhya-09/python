{
 "cells": [
  {
   "cell_type": "code",
   "execution_count": 4,
   "id": "cd3bbdcf-5fd2-4ff5-b58b-4e1a1cd37aa4",
   "metadata": {},
   "outputs": [],
   "source": [
    "import pyttsx3"
   ]
  },
  {
   "cell_type": "code",
   "execution_count": 5,
   "id": "f0f9e883-19dc-47f2-b5dc-ed98f4ccf38d",
   "metadata": {},
   "outputs": [],
   "source": [
    "def convertTextToSpeech():\n",
    "    \n",
    "    speaker=pyttsx3.init()                         #helps to connects to speaker driver of  my laptop\n",
    "    \n",
    "    inputText=input(\"Enter your Text here:\")\n",
    "    \n",
    "    voice=speaker.getProperty(\"voices\")\n",
    "    # for index,voice in enumerate(voices):\n",
    "    #     print(f\"voice{index}:{voice.name}:{voice.id}\")\n",
    "    speaker.setProperty(\"voices\",voice[1].id)\n",
    "    \n",
    "    speaker.say(inputText)\n",
    "    speaker.runAndWait()"
   ]
  },
  {
   "cell_type": "code",
   "execution_count": 6,
   "id": "8463cdd8-7a16-47b8-b3f9-5596579626b6",
   "metadata": {},
   "outputs": [
    {
     "name": "stdin",
     "output_type": "stream",
     "text": [
      "Enter your Text here: hello sanidhya\n"
     ]
    }
   ],
   "source": [
    "convertTextToSpeech()"
   ]
  },
  {
   "cell_type": "code",
   "execution_count": null,
   "id": "04fb449b-ac18-434e-9379-09efe3dafe13",
   "metadata": {},
   "outputs": [],
   "source": []
  },
  {
   "cell_type": "code",
   "execution_count": null,
   "id": "91428376-ed51-4169-aa2d-70c4662ceaba",
   "metadata": {},
   "outputs": [],
   "source": [
    "from googletrans import Translator\n",
    "from gtts import gTTS\n",
    "import os"
   ]
  },
  {
   "cell_type": "code",
   "execution_count": null,
   "id": "65b0da54-46d9-4567-b99d-078654effcde",
   "metadata": {},
   "outputs": [],
   "source": [
    "def textToSpeech():\n",
    "    \n",
    "    translator=Translator()\n",
    "    \n",
    "    language_1=input(\"Enter your language code in which you want to give text:\")\n",
    "    inputText=input(\"Enter your text here:\")\n",
    "    language_2=input(\"Enter your language code in which you want to convert text:\")\n",
    "    \n",
    "    convertedText=translator.translate(inputText,src=language_1,dest=language_2)\n",
    "\n",
    "    audio=gTTS(convertedText.text,lang=language_2)\n",
    "\n",
    "    print(f\"Origional text:{inputText}\\n\\nResult:{convertedText.text}\")\n",
    "\n",
    "    audio.save(\"msg.mp3\")\n",
    "\n",
    "    os.system(\"start msg.mp3\")"
   ]
  },
  {
   "cell_type": "code",
   "execution_count": null,
   "id": "a07587f0-fc16-4e84-a86f-f9d14df73768",
   "metadata": {},
   "outputs": [],
   "source": [
    "textToSpeech()"
   ]
  },
  {
   "cell_type": "code",
   "execution_count": null,
   "id": "b7b33474-64de-4381-b286-39c316af0438",
   "metadata": {},
   "outputs": [],
   "source": []
  }
 ],
 "metadata": {
  "kernelspec": {
   "display_name": "Python 3 (ipykernel)",
   "language": "python",
   "name": "python3"
  },
  "language_info": {
   "codemirror_mode": {
    "name": "ipython",
    "version": 3
   },
   "file_extension": ".py",
   "mimetype": "text/x-python",
   "name": "python",
   "nbconvert_exporter": "python",
   "pygments_lexer": "ipython3",
   "version": "3.12.3"
  }
 },
 "nbformat": 4,
 "nbformat_minor": 5
}
