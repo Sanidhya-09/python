{
 "cells": [
  {
   "cell_type": "code",
   "execution_count": 1,
   "id": "b7e1d7f5-45ac-44ac-bad4-f6e62524cfb4",
   "metadata": {},
   "outputs": [],
   "source": [
    "import speech_recognition as sr\n",
    "import os"
   ]
  },
  {
   "cell_type": "code",
   "execution_count": 2,
   "id": "a3f28dd5-30d0-43ca-9e2f-e88cfa1e7115",
   "metadata": {},
   "outputs": [],
   "source": [
    "recognizer=sr.Recognizer()"
   ]
  },
  {
   "cell_type": "code",
   "execution_count": 3,
   "id": "7f853311-e88b-4895-964c-cabcab26097e",
   "metadata": {},
   "outputs": [],
   "source": [
    "def speak():\n",
    "    with sr.Microphone() as source:\n",
    "        print(\"speak something...\")\n",
    "    \n",
    "        audio=recognizer.listen(source)\n",
    "        text=recognizer.recognize_google(audio)\n",
    "        print(f\"You spoke:{text}\")\n",
    "\n",
    "    if (\"Notepad\" or \"notepad\" or\"Text editor\") in text:\n",
    "        os.system(\"notepad\")\n",
    "    elif (\"chrome\") in text:\n",
    "        os.system(\"chrome\")\n",
    "    else:\n",
    "        print(\"command not found\")"
   ]
  },
  {
   "cell_type": "code",
   "execution_count": 4,
   "id": "065ea988-c352-47a0-9463-5be76b5a14f4",
   "metadata": {},
   "outputs": [
    {
     "name": "stdout",
     "output_type": "stream",
     "text": [
      "speak something...\n",
      "You spoke:please open Notepad\n"
     ]
    }
   ],
   "source": [
    "speak()"
   ]
  },
  {
   "cell_type": "code",
   "execution_count": null,
   "id": "33a259a0-80af-4550-b587-4acad0843901",
   "metadata": {},
   "outputs": [],
   "source": []
  }
 ],
 "metadata": {
  "kernelspec": {
   "display_name": "Python 3 (ipykernel)",
   "language": "python",
   "name": "python3"
  },
  "language_info": {
   "codemirror_mode": {
    "name": "ipython",
    "version": 3
   },
   "file_extension": ".py",
   "mimetype": "text/x-python",
   "name": "python",
   "nbconvert_exporter": "python",
   "pygments_lexer": "ipython3",
   "version": "3.12.3"
  }
 },
 "nbformat": 4,
 "nbformat_minor": 5
}
