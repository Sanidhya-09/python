{
 "cells": [
  {
   "cell_type": "markdown",
   "id": "5a555632-befa-4fe9-854e-71d262766b0e",
   "metadata": {},
   "source": [
    "python Recursion\n",
    "(Direct recursion)"
   ]
  },
  {
   "cell_type": "code",
   "execution_count": 1,
   "id": "17aa8931-6dad-4485-9702-5f5c0b64c3c0",
   "metadata": {},
   "outputs": [
    {
     "name": "stdin",
     "output_type": "stream",
     "text": [
      "Enter your number: 5\n"
     ]
    },
    {
     "name": "stdout",
     "output_type": "stream",
     "text": [
      "5 4 3 2 1 "
     ]
    }
   ],
   "source": [
    "n=int(input(\"Enter your number:\"))\n",
    "def natural(n):\n",
    "    if n==0:                       #base condition\n",
    "        return 1                   #return \n",
    "    print(n,end=\" \")               #code\n",
    "    return natural(n-1)            #return [recursive function call]\n",
    "res=natural(n)"
   ]
  },
  {
   "cell_type": "code",
   "execution_count": null,
   "id": "7676db47-acae-46c1-8f55-32e64ae6fb38",
   "metadata": {},
   "outputs": [],
   "source": []
  },
  {
   "cell_type": "code",
   "execution_count": null,
   "id": "4dcb9da8-95f6-474a-8fb3-1f533441d254",
   "metadata": {},
   "outputs": [],
   "source": []
  },
  {
   "cell_type": "markdown",
   "id": "85355a28-cff8-4258-8e73-270b2670dc1f",
   "metadata": {},
   "source": [
    "python Recursion (Indirect recursion)"
   ]
  },
  {
   "cell_type": "code",
   "execution_count": 2,
   "id": "fe6f4f03-82ab-42d8-be8f-0263b30067d5",
   "metadata": {},
   "outputs": [],
   "source": [
    "def num(n2):\n",
    "    if n2<1:\n",
    "        return\n",
    "    print(n2)\n",
    "    return num1(n2-1)"
   ]
  },
  {
   "cell_type": "code",
   "execution_count": 3,
   "id": "16c41cad-ffe0-4cee-bada-e40329928b6f",
   "metadata": {},
   "outputs": [],
   "source": [
    "def num1(n):\n",
    "    if n==0:\n",
    "        return\n",
    "    print(n)\n",
    "    return num(n-1)"
   ]
  },
  {
   "cell_type": "code",
   "execution_count": 4,
   "id": "28b3691e-4e00-4ab7-b725-953547e92e63",
   "metadata": {},
   "outputs": [
    {
     "name": "stdout",
     "output_type": "stream",
     "text": [
      "17\n",
      "16\n",
      "15\n",
      "14\n",
      "13\n",
      "12\n",
      "11\n",
      "10\n",
      "9\n",
      "8\n",
      "7\n",
      "6\n",
      "5\n",
      "4\n",
      "3\n",
      "2\n",
      "1\n"
     ]
    }
   ],
   "source": [
    "num(17)"
   ]
  },
  {
   "cell_type": "code",
   "execution_count": null,
   "id": "e2da2ddc-9e9e-4f36-ad55-3a6cc6947b49",
   "metadata": {},
   "outputs": [],
   "source": []
  },
  {
   "cell_type": "code",
   "execution_count": null,
   "id": "a19ff26e-9797-4c17-8d79-a995985a4207",
   "metadata": {},
   "outputs": [],
   "source": []
  },
  {
   "cell_type": "code",
   "execution_count": 5,
   "id": "54e83ed2-f7c9-4117-a313-ea540ee535ce",
   "metadata": {},
   "outputs": [
    {
     "name": "stdin",
     "output_type": "stream",
     "text": [
      "Enter your number: 5\n"
     ]
    },
    {
     "name": "stdout",
     "output_type": "stream",
     "text": [
      "factorial of 5 is 120\n"
     ]
    }
   ],
   "source": [
    "#factorial of number...\n",
    "num=int(input(\"Enter your number:\"))\n",
    "def fact(num):\n",
    "    if num==0:\n",
    "        return 1\n",
    "    else:\n",
    "        return num*fact(num-1)\n",
    "\n",
    "result=fact(num)\n",
    "print(f\"factorial of {num} is {result}\")"
   ]
  },
  {
   "cell_type": "code",
   "execution_count": null,
   "id": "d7ad7607-c595-4cc0-a2d8-7b3cd5ced56e",
   "metadata": {},
   "outputs": [],
   "source": []
  },
  {
   "cell_type": "code",
   "execution_count": null,
   "id": "04033a5c-b342-4390-a96d-86b6e5afce85",
   "metadata": {},
   "outputs": [],
   "source": []
  },
  {
   "cell_type": "code",
   "execution_count": 6,
   "id": "77b26e11-a8ed-47a1-baa6-8b4186392262",
   "metadata": {},
   "outputs": [],
   "source": [
    "#interview Question\n",
    "counter=1\n",
    "def printName(name):\n",
    "    global counter\n",
    "    if counter<=10:\n",
    "        print(f\"{counter}..{name}\")\n",
    "        counter+=1\n",
    "        return printName(name)"
   ]
  },
  {
   "cell_type": "code",
   "execution_count": 7,
   "id": "9cfb1c79-9b89-4783-8f2b-4694e7490e05",
   "metadata": {},
   "outputs": [
    {
     "name": "stdout",
     "output_type": "stream",
     "text": [
      "1..sanidhya\n",
      "2..sanidhya\n",
      "3..sanidhya\n",
      "4..sanidhya\n",
      "5..sanidhya\n",
      "6..sanidhya\n",
      "7..sanidhya\n",
      "8..sanidhya\n",
      "9..sanidhya\n",
      "10..sanidhya\n"
     ]
    }
   ],
   "source": [
    "printName(\"sanidhya\")"
   ]
  },
  {
   "cell_type": "code",
   "execution_count": null,
   "id": "fd2726ea-a9d0-4ac8-98da-4fcc958b838f",
   "metadata": {},
   "outputs": [],
   "source": []
  },
  {
   "cell_type": "code",
   "execution_count": null,
   "id": "a3d756db-dc97-4dc7-84ff-bfdf56743eca",
   "metadata": {},
   "outputs": [],
   "source": []
  },
  {
   "cell_type": "code",
   "execution_count": 8,
   "id": "7c2f5b0d-761f-4a9b-ab46-cb3bd89d57e4",
   "metadata": {},
   "outputs": [
    {
     "name": "stdin",
     "output_type": "stream",
     "text": [
      "Enter base value: 5\n",
      "Enter power value: 5\n"
     ]
    },
    {
     "name": "stdout",
     "output_type": "stream",
     "text": [
      "answer is 3125\n"
     ]
    }
   ],
   "source": [
    "# power of number using recursion....\n",
    "\n",
    "b=int(input(\"Enter base value:\"))\n",
    "p=int(input(\"Enter power value:\"))\n",
    "\n",
    "def power(b,p):\n",
    "    if p==0:\n",
    "        return 1\n",
    "    else:\n",
    "        return b*power(b,p-1)\n",
    "\n",
    "ans=power(b,p)\n",
    "print(f\"answer is {ans}\")"
   ]
  },
  {
   "cell_type": "code",
   "execution_count": null,
   "id": "38ee7f53-b9ec-43e5-bdac-4199a380e6a7",
   "metadata": {},
   "outputs": [],
   "source": []
  },
  {
   "cell_type": "code",
   "execution_count": null,
   "id": "f6b611be-8c2f-42c1-b3a4-95156e9ef10c",
   "metadata": {},
   "outputs": [],
   "source": []
  },
  {
   "cell_type": "code",
   "execution_count": 10,
   "id": "e3dbf12a-735f-4ed4-9e36-7320cd7cd3bd",
   "metadata": {},
   "outputs": [
    {
     "name": "stdin",
     "output_type": "stream",
     "text": [
      "Enter your number: 12\n"
     ]
    },
    {
     "name": "stdout",
     "output_type": "stream",
     "text": [
      "12 is not prime\n"
     ]
    }
   ],
   "source": [
    "#prime number identification using recursion...\n",
    "\n",
    "num=int(input(\"Enter your number:\"))\n",
    "def prime(n,i):\n",
    "    if i==1:\n",
    "        return 1\n",
    "    if n%i==0:\n",
    "        return 0\n",
    "    return prime(n,i-1)\n",
    "    \n",
    "indicator=prime(num,num-1)\n",
    "\n",
    "if indicator==1:\n",
    "    print(f\"{num} is prime\")\n",
    "else:\n",
    "    print(f\"{num} is not prime\")"
   ]
  },
  {
   "cell_type": "code",
   "execution_count": null,
   "id": "80d2eb94-a8c3-4374-afd1-5790411a3dba",
   "metadata": {},
   "outputs": [],
   "source": []
  },
  {
   "cell_type": "code",
   "execution_count": null,
   "id": "16b41c74-749c-40b5-b9da-e19c07c96a63",
   "metadata": {},
   "outputs": [],
   "source": []
  },
  {
   "cell_type": "code",
   "execution_count": 12,
   "id": "c1c8b524-fabc-442c-9bef-7255cedfcbbd",
   "metadata": {},
   "outputs": [
    {
     "name": "stdin",
     "output_type": "stream",
     "text": [
      "Enter your number: 5454\n"
     ]
    },
    {
     "name": "stdout",
     "output_type": "stream",
     "text": [
      "4\n"
     ]
    }
   ],
   "source": [
    "def count_of(m):\n",
    "    if m<10:\n",
    "        return 1\n",
    "    else:\n",
    "        return 1 + count_of(m//10)\n",
    "number=int(input(\"Enter your number:\"))\n",
    "q=count_of(number)\n",
    "print(q)"
   ]
  },
  {
   "cell_type": "code",
   "execution_count": null,
   "id": "86132403-5c2b-471e-bc2c-adc393175900",
   "metadata": {},
   "outputs": [],
   "source": []
  },
  {
   "cell_type": "code",
   "execution_count": null,
   "id": "a8384d4e-466a-401c-a2d5-b0bc353b8bb7",
   "metadata": {},
   "outputs": [],
   "source": []
  },
  {
   "cell_type": "code",
   "execution_count": 15,
   "id": "0f4a0cdd-13ea-4841-b434-7b50e562c6ef",
   "metadata": {},
   "outputs": [
    {
     "name": "stdin",
     "output_type": "stream",
     "text": [
      "Enter your number: 10\n"
     ]
    },
    {
     "name": "stdout",
     "output_type": "stream",
     "text": [
      "0 1 1 2 3 5 8 13 21 34 \n",
      "element at 10th position in fibonacci series is 34\n"
     ]
    }
   ],
   "source": [
    "#fibonacci series\n",
    "number123=int(input(\"Enter your number:\"))\n",
    "def fibonacci(z):\n",
    "    if z==1:\n",
    "        return 0\n",
    "    if z==2:\n",
    "        return 1\n",
    "    return (fibonacci(z-1)+fibonacci(z-2))\n",
    "# p=fibonacci(number123)\n",
    "# print(f\"element at {number123}th position in fibonacci series is {p}\")\n",
    "\n",
    "for i in range(1,number123+1):\n",
    "    print(fibonacci(i),end=\" \")\n",
    "\n",
    "print(f\"\\nelement at {number123}th position in fibonacci series is {fibonacci(number123)}\")"
   ]
  },
  {
   "cell_type": "code",
   "execution_count": null,
   "id": "84c364a1-c024-4d22-9b49-e38665f723bf",
   "metadata": {},
   "outputs": [],
   "source": []
  },
  {
   "cell_type": "code",
   "execution_count": null,
   "id": "4ddc310a-576c-4951-9acc-5c920cba0932",
   "metadata": {},
   "outputs": [],
   "source": []
  },
  {
   "cell_type": "code",
   "execution_count": 16,
   "id": "2cb166f8-15b5-40e6-89b5-57218b2db893",
   "metadata": {},
   "outputs": [
    {
     "name": "stdin",
     "output_type": "stream",
     "text": [
      "Enter your number: 5\n"
     ]
    },
    {
     "name": "stdout",
     "output_type": "stream",
     "text": [
      "15\n"
     ]
    }
   ],
   "source": [
    "# sum of n natural numbers\n",
    "def sum(r):\n",
    "    if r==0:\n",
    "        return 0\n",
    "    return r+sum(r-1)\n",
    "u=int(input(\"Enter your number:\"))\n",
    "output=sum(u)\n",
    "print(output)"
   ]
  },
  {
   "cell_type": "code",
   "execution_count": null,
   "id": "09cc3a3f-6aec-4675-8038-bfda31c04e6a",
   "metadata": {},
   "outputs": [],
   "source": []
  },
  {
   "cell_type": "code",
   "execution_count": null,
   "id": "0d2788c6-15cf-41ee-8f2c-a11fd617ed3c",
   "metadata": {},
   "outputs": [],
   "source": []
  }
 ],
 "metadata": {
  "kernelspec": {
   "display_name": "Python 3 (ipykernel)",
   "language": "python",
   "name": "python3"
  },
  "language_info": {
   "codemirror_mode": {
    "name": "ipython",
    "version": 3
   },
   "file_extension": ".py",
   "mimetype": "text/x-python",
   "name": "python",
   "nbconvert_exporter": "python",
   "pygments_lexer": "ipython3",
   "version": "3.12.3"
  }
 },
 "nbformat": 4,
 "nbformat_minor": 5
}
