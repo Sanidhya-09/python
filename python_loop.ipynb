{
 "cells": [
  {
   "cell_type": "code",
   "execution_count": 1,
   "id": "ea3df9c1-4485-4a09-8e8b-d93370ba66af",
   "metadata": {},
   "outputs": [
    {
     "name": "stdout",
     "output_type": "stream",
     "text": [
      "1,15,42,10,36,84,51,20,16,41,"
     ]
    }
   ],
   "source": [
    "# for loop                                                  for fixed count,time\n",
    "\n",
    "ages=[1,15,42,10,36,84,51,20,16,41]\n",
    "\n",
    "for age in ages:\n",
    "    print(age,end=\",\")"
   ]
  },
  {
   "cell_type": "code",
   "execution_count": 2,
   "id": "1fde327b-8e4b-44fe-8f37-ca9362ab3993",
   "metadata": {},
   "outputs": [
    {
     "name": "stdout",
     "output_type": "stream",
     "text": [
      "1:sunny\n",
      "2:sunny\n",
      "3:sunny\n",
      "4:sunny\n",
      "5:sunny\n",
      "6:sunny\n",
      "7:sunny\n",
      "8:sunny\n",
      "9:sunny\n",
      "10:sunny\n"
     ]
    }
   ],
   "source": [
    "# while loop                                                  for unfixed count,time\n",
    "\n",
    "page=1\n",
    "\n",
    "while page <=10:\n",
    "    print(f\"{page}:sunny\")\n",
    "    page+=1"
   ]
  },
  {
   "cell_type": "code",
   "execution_count": null,
   "id": "f0621696-a115-45ce-a6dd-2ef3b7c50adc",
   "metadata": {},
   "outputs": [],
   "source": []
  }
 ],
 "metadata": {
  "kernelspec": {
   "display_name": "Python 3 (ipykernel)",
   "language": "python",
   "name": "python3"
  },
  "language_info": {
   "codemirror_mode": {
    "name": "ipython",
    "version": 3
   },
   "file_extension": ".py",
   "mimetype": "text/x-python",
   "name": "python",
   "nbconvert_exporter": "python",
   "pygments_lexer": "ipython3",
   "version": "3.12.3"
  }
 },
 "nbformat": 4,
 "nbformat_minor": 5
}
