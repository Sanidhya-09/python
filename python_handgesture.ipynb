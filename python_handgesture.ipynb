{
 "cells": [
  {
   "cell_type": "code",
   "execution_count": 1,
   "id": "3fa60b44-dd29-4c56-a131-d9ce0712a0a8",
   "metadata": {},
   "outputs": [],
   "source": [
    "import cv2"
   ]
  },
  {
   "cell_type": "code",
   "execution_count": 2,
   "id": "4b7cb317-b3f6-4650-9274-aa8e04d0ab2f",
   "metadata": {},
   "outputs": [],
   "source": [
    "cam=cv2.VideoCapture(0)"
   ]
  },
  {
   "cell_type": "code",
   "execution_count": 3,
   "id": "c6a1dbb8-dcf0-4d0b-b2b0-a00637d88b3c",
   "metadata": {},
   "outputs": [],
   "source": [
    "status,photo=cam.read()\n",
    "cv2.imshow(\"my_photo\",photo)\n",
    "cv2.waitKey()\n",
    "cv2.destroyAllWindows()"
   ]
  },
  {
   "cell_type": "code",
   "execution_count": 4,
   "id": "e9e0c6fd-1be9-42d7-b2c3-68719dca43e1",
   "metadata": {},
   "outputs": [],
   "source": [
    "cam.release()"
   ]
  },
  {
   "cell_type": "code",
   "execution_count": null,
   "id": "fdc8b133-7c46-47f7-97f1-0252bd3bb2a6",
   "metadata": {},
   "outputs": [],
   "source": []
  },
  {
   "cell_type": "code",
   "execution_count": null,
   "id": "c3a22fae-d7aa-4109-bb41-d4a5fa2273da",
   "metadata": {},
   "outputs": [],
   "source": []
  },
  {
   "cell_type": "code",
   "execution_count": 5,
   "id": "f9857162-7b10-4484-aef8-cec249d1c765",
   "metadata": {},
   "outputs": [],
   "source": [
    "from cvzone.HandTrackingModule import HandDetector"
   ]
  },
  {
   "cell_type": "code",
   "execution_count": 6,
   "id": "ec27d353-5865-453a-95f7-025b3353d10b",
   "metadata": {},
   "outputs": [],
   "source": [
    "dectector=HandDetector()"
   ]
  },
  {
   "cell_type": "code",
   "execution_count": 7,
   "id": "18861344-db59-4fdb-9d3b-02528b91222b",
   "metadata": {},
   "outputs": [
    {
     "name": "stderr",
     "output_type": "stream",
     "text": [
      "C:\\Users\\SANIDHYA\\AppData\\Local\\Programs\\Python\\Python312\\Lib\\site-packages\\google\\protobuf\\symbol_database.py:55: UserWarning: SymbolDatabase.GetPrototype() is deprecated. Please use message_factory.GetMessageClass() instead. SymbolDatabase.GetPrototype() will be removed soon.\n",
      "  warnings.warn('SymbolDatabase.GetPrototype() is deprecated. Please '\n"
     ]
    }
   ],
   "source": [
    "findinghand=dectector.findHands(photo)"
   ]
  },
  {
   "cell_type": "code",
   "execution_count": 8,
   "id": "5123c68f-7ad2-43ea-aa07-8102ed91df1d",
   "metadata": {},
   "outputs": [
    {
     "data": {
      "text/plain": [
       "([{'lmList': [[327, 478, 0],\n",
       "    [295, 479, -30],\n",
       "    [272, 464, -57],\n",
       "    [291, 446, -80],\n",
       "    [324, 432, -105],\n",
       "    [259, 407, -70],\n",
       "    [229, 358, -100],\n",
       "    [213, 324, -120],\n",
       "    [200, 293, -134],\n",
       "    [292, 397, -73],\n",
       "    [279, 332, -103],\n",
       "    [274, 289, -121],\n",
       "    [268, 250, -133],\n",
       "    [326, 401, -77],\n",
       "    [323, 338, -105],\n",
       "    [321, 298, -121],\n",
       "    [316, 261, -131],\n",
       "    [358, 413, -82],\n",
       "    [366, 368, -107],\n",
       "    [370, 336, -117],\n",
       "    [370, 307, -123]],\n",
       "   'bbox': (200, 250, 170, 229),\n",
       "   'center': (285, 364),\n",
       "   'type': 'Left'}],\n",
       " array([[[140, 146, 141],\n",
       "         [141, 146, 142],\n",
       "         [144, 146, 146],\n",
       "         ...,\n",
       "         [120, 121, 107],\n",
       "         [121, 121, 108],\n",
       "         [122, 122, 109]],\n",
       " \n",
       "        [[140, 147, 140],\n",
       "         [141, 146, 141],\n",
       "         [142, 145, 142],\n",
       "         ...,\n",
       "         [121, 122, 109],\n",
       "         [121, 122, 110],\n",
       "         [121, 121, 110]],\n",
       " \n",
       "        [[144, 150, 139],\n",
       "         [142, 147, 138],\n",
       "         [141, 146, 139],\n",
       "         ...,\n",
       "         [124, 123, 113],\n",
       "         [121, 122, 112],\n",
       "         [120, 122, 113]],\n",
       " \n",
       "        ...,\n",
       " \n",
       "        [[ 97, 100,  92],\n",
       "         [ 96,  99,  91],\n",
       "         [ 97,  99,  93],\n",
       "         ...,\n",
       "         [113, 106, 101],\n",
       "         [114, 106, 103],\n",
       "         [113, 106, 103]],\n",
       " \n",
       "        [[ 95,  97,  91],\n",
       "         [ 96,  98,  93],\n",
       "         [ 98,  99,  96],\n",
       "         ...,\n",
       "         [116, 107, 101],\n",
       "         [116, 108, 102],\n",
       "         [116, 109, 103]],\n",
       " \n",
       "        [[ 95,  96,  92],\n",
       "         [ 96,  97,  94],\n",
       "         [ 99, 100,  98],\n",
       "         ...,\n",
       "         [119, 109, 102],\n",
       "         [119, 110, 103],\n",
       "         [118, 110, 103]]], dtype=uint8))"
      ]
     },
     "execution_count": 8,
     "metadata": {},
     "output_type": "execute_result"
    }
   ],
   "source": [
    "findinghand"
   ]
  },
  {
   "cell_type": "code",
   "execution_count": 9,
   "id": "6fb7d54f-b9a2-447f-ba55-f7a204028f06",
   "metadata": {},
   "outputs": [],
   "source": [
    "handLandMarks=findinghand[0][0]"
   ]
  },
  {
   "cell_type": "code",
   "execution_count": 10,
   "id": "f014ff3f-8850-47f6-a234-3a04228f592e",
   "metadata": {},
   "outputs": [
    {
     "data": {
      "text/plain": [
       "{'lmList': [[327, 478, 0],\n",
       "  [295, 479, -30],\n",
       "  [272, 464, -57],\n",
       "  [291, 446, -80],\n",
       "  [324, 432, -105],\n",
       "  [259, 407, -70],\n",
       "  [229, 358, -100],\n",
       "  [213, 324, -120],\n",
       "  [200, 293, -134],\n",
       "  [292, 397, -73],\n",
       "  [279, 332, -103],\n",
       "  [274, 289, -121],\n",
       "  [268, 250, -133],\n",
       "  [326, 401, -77],\n",
       "  [323, 338, -105],\n",
       "  [321, 298, -121],\n",
       "  [316, 261, -131],\n",
       "  [358, 413, -82],\n",
       "  [366, 368, -107],\n",
       "  [370, 336, -117],\n",
       "  [370, 307, -123]],\n",
       " 'bbox': (200, 250, 170, 229),\n",
       " 'center': (285, 364),\n",
       " 'type': 'Left'}"
      ]
     },
     "execution_count": 10,
     "metadata": {},
     "output_type": "execute_result"
    }
   ],
   "source": [
    "handLandMarks"
   ]
  },
  {
   "cell_type": "code",
   "execution_count": 11,
   "id": "92f3d4f8-8bbb-4f1a-a416-378417448415",
   "metadata": {},
   "outputs": [],
   "source": [
    "upFingers=dectector.fingersUp(handLandMarks)"
   ]
  },
  {
   "cell_type": "code",
   "execution_count": 12,
   "id": "30b04908-9070-4554-ae92-88f25bf8243a",
   "metadata": {},
   "outputs": [
    {
     "data": {
      "text/plain": [
       "[0, 1, 1, 1, 1]"
      ]
     },
     "execution_count": 12,
     "metadata": {},
     "output_type": "execute_result"
    }
   ],
   "source": [
    "upFingers"
   ]
  },
  {
   "cell_type": "code",
   "execution_count": 13,
   "id": "7655cb20-4d68-4d5f-a885-d7d5c21a143f",
   "metadata": {},
   "outputs": [],
   "source": [
    "\n",
    "cv2.imshow(\"my_photo\",photo)\n",
    "cv2.waitKey()\n",
    "cv2.destroyAllWindows()"
   ]
  },
  {
   "cell_type": "code",
   "execution_count": null,
   "id": "6622bbd9-101e-47a0-a10a-662e78396d9a",
   "metadata": {},
   "outputs": [],
   "source": []
  }
 ],
 "metadata": {
  "kernelspec": {
   "display_name": "Python 3 (ipykernel)",
   "language": "python",
   "name": "python3"
  },
  "language_info": {
   "codemirror_mode": {
    "name": "ipython",
    "version": 3
   },
   "file_extension": ".py",
   "mimetype": "text/x-python",
   "name": "python",
   "nbconvert_exporter": "python",
   "pygments_lexer": "ipython3",
   "version": "3.12.3"
  }
 },
 "nbformat": 4,
 "nbformat_minor": 5
}
