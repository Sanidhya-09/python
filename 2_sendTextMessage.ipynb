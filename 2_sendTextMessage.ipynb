{
 "cells": [
  {
   "cell_type": "code",
   "execution_count": 1,
   "id": "4b5ce066-d92b-44b4-b5b0-9aa4fe1ada6b",
   "metadata": {},
   "outputs": [],
   "source": [
    "from twilio.rest import Client\n",
    "import schedule\n",
    "import time\n",
    "\n",
    "myAccountsId=\"ACd8b400a7b51d442b8895bc770d933aae\"\n",
    "authToken=\"88b2e1b5d27808ff7a9559537cdac8fe\"\n",
    "\n",
    "client=Client(myAccountsId,authToken)                     #create twilio object which allow us to use twilios services after authentication\n",
    "\n",
    "\n",
    "def sendTextMessage():\n",
    "\n",
    "    def sendMessages(messageBody):\n",
    "        \n",
    "        message=client.messages.create(\n",
    "            body=messageBody,\n",
    "            from_=\"+17742284646\",\n",
    "            to=\"+918055242696\"\n",
    "        )\n",
    "        print(f\"messageID:{message.sid}\")\n",
    "        return schedule.CancelJob\n",
    "    \n",
    "    userMessage=input(\"Enter your message:\")\n",
    "    userTime=input(\"Enter your message schedule time in (HH:MM) format:\")\n",
    "    \n",
    "    schedule.every().day.at(userTime).do(sendMessages,messageBody=userMessage)\n",
    "    \n",
    "    while True:\n",
    "        schedule.run_pending()\n",
    "        time.sleep(1)"
   ]
  },
  {
   "cell_type": "code",
   "execution_count": null,
   "id": "ea11aaf8-d102-4f89-a237-24d5dce6488a",
   "metadata": {},
   "outputs": [
    {
     "name": "stdin",
     "output_type": "stream",
     "text": [
      "Enter your message: hi how are you?\n",
      "Enter your message schedule time in (HH:MM) format: 13:05\n"
     ]
    },
    {
     "name": "stdout",
     "output_type": "stream",
     "text": [
      "messageID:SM608716c4a067281946bf6e2aef2fc1ae\n"
     ]
    }
   ],
   "source": [
    "sendTextMessage()"
   ]
  },
  {
   "cell_type": "code",
   "execution_count": null,
   "id": "e66f0b7d-b35b-47a4-916d-f94bd4b85d2c",
   "metadata": {},
   "outputs": [],
   "source": []
  }
 ],
 "metadata": {
  "kernelspec": {
   "display_name": "Python 3 (ipykernel)",
   "language": "python",
   "name": "python3"
  },
  "language_info": {
   "codemirror_mode": {
    "name": "ipython",
    "version": 3
   },
   "file_extension": ".py",
   "mimetype": "text/x-python",
   "name": "python",
   "nbconvert_exporter": "python",
   "pygments_lexer": "ipython3",
   "version": "3.12.3"
  }
 },
 "nbformat": 4,
 "nbformat_minor": 5
}
