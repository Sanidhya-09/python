{
 "cells": [
  {
   "cell_type": "code",
   "execution_count": 1,
   "id": "9385a30e-af49-44a2-bc94-928b060f797e",
   "metadata": {},
   "outputs": [
    {
     "name": "stdout",
     "output_type": "stream",
     "text": [
      "Hi Sanidhya, How are you....?\n"
     ]
    }
   ],
   "source": [
    "print(\"Hi Sanidhya, How are you....?\")\n"
   ]
  },
  {
   "cell_type": "code",
   "execution_count": 2,
   "id": "a4bdd865-69d2-49c0-bd0e-987ca32f3caa",
   "metadata": {},
   "outputs": [],
   "source": [
    "# this is single line comment.....\n",
    "\n",
    "\n",
    "\"\"\"this \n",
    "is multi line \n",
    "comment....\"\"\"\n",
    "\n",
    "age=21                     #in variables memory address is stored not values ,here values are assigned to that variables...!\n",
    "salary=15000.265\n",
    "is_employee=True\n",
    "name=\"prem\"\n"
   ]
  },
  {
   "cell_type": "code",
   "execution_count": 3,
   "id": "71c11f21-4b8e-4b90-99c0-2ad80d944a8d",
   "metadata": {},
   "outputs": [
    {
     "data": {
      "text/plain": [
       "140719821298744"
      ]
     },
     "execution_count": 3,
     "metadata": {},
     "output_type": "execute_result"
    }
   ],
   "source": [
    "id(age)"
   ]
  },
  {
   "cell_type": "code",
   "execution_count": 4,
   "id": "8603a83b-1b93-497a-a51b-253df8c86615",
   "metadata": {},
   "outputs": [
    {
     "name": "stdout",
     "output_type": "stream",
     "text": [
      "21\n"
     ]
    }
   ],
   "source": [
    "print(age)                 # our cpu goes to that memory address and retrive the value of age...!"
   ]
  },
  {
   "cell_type": "code",
   "execution_count": 5,
   "id": "cb2a1260-f5d3-40aa-be43-1d692409299e",
   "metadata": {},
   "outputs": [
    {
     "name": "stdout",
     "output_type": "stream",
     "text": [
      "15000.265\n"
     ]
    }
   ],
   "source": [
    "print(salary)"
   ]
  },
  {
   "cell_type": "code",
   "execution_count": 6,
   "id": "21ae69ee-b5da-4c25-8141-ed4bba1b3529",
   "metadata": {},
   "outputs": [
    {
     "name": "stdout",
     "output_type": "stream",
     "text": [
      "True\n"
     ]
    }
   ],
   "source": [
    "print(is_employee)"
   ]
  },
  {
   "cell_type": "code",
   "execution_count": 7,
   "id": "e17a31eb-6e58-4150-b7aa-fc155133ae9c",
   "metadata": {},
   "outputs": [
    {
     "name": "stdout",
     "output_type": "stream",
     "text": [
      "prem\n"
     ]
    }
   ],
   "source": [
    "print(name)"
   ]
  },
  {
   "cell_type": "code",
   "execution_count": 9,
   "id": "fb685ca9-6fed-4ad0-8a33-9034e6824f77",
   "metadata": {},
   "outputs": [
    {
     "name": "stdout",
     "output_type": "stream",
     "text": [
      "HI SANIDHYA, HOW ARE YOU....?\n",
      "A\n"
     ]
    }
   ],
   "source": [
    "_str=(\"Hi Sanidhya, How are you....?\")\n",
    "_str=_str.upper()\n",
    "print(_str)\n",
    "print(_str[10])"
   ]
  },
  {
   "cell_type": "code",
   "execution_count": 10,
   "id": "c0d1cd7f-3629-4297-99ef-a9a605d4da8b",
   "metadata": {},
   "outputs": [
    {
     "name": "stdout",
     "output_type": "stream",
     "text": [
      "'sanidhya' is present in string\n"
     ]
    }
   ],
   "source": [
    "if \"sanidhya\".upper() in _str:\n",
    "    print(\"'sanidhya' is present in string\")"
   ]
  },
  {
   "cell_type": "code",
   "execution_count": null,
   "id": "fd0f8fa9-64d1-4f8f-ba96-1d2c30ccd847",
   "metadata": {},
   "outputs": [],
   "source": []
  },
  {
   "cell_type": "code",
   "execution_count": 11,
   "id": "68646b30-2a1c-4289-a565-5d52746c1407",
   "metadata": {},
   "outputs": [
    {
     "name": "stdout",
     "output_type": "stream",
     "text": [
      "H I   S A N I D H Y A ,   H O W   A R E   Y O U . . . . ? "
     ]
    }
   ],
   "source": [
    "for word in _str:\n",
    "    print(word,end=\" \")                  #here end=\"\\n\" by default"
   ]
  },
  {
   "cell_type": "code",
   "execution_count": null,
   "id": "04844635-963d-4234-b4f8-887eadef8146",
   "metadata": {},
   "outputs": [],
   "source": []
  },
  {
   "cell_type": "code",
   "execution_count": 16,
   "id": "36440636-d907-45a8-ad8a-9c6899cda746",
   "metadata": {},
   "outputs": [
    {
     "name": "stdout",
     "output_type": "stream",
     "text": [
      "We are the so-called \"Vikings\" from the north. \n",
      "\n",
      "We are the so-called 'Vikings' from the north.\n"
     ]
    }
   ],
   "source": [
    "txt = \"We are the so-called \\\"Vikings\\\" from the north.\"   #both the times \"\" is used\n",
    "\n",
    "txt1 = \"We are the so-called 'Vikings' from the north.\" \n",
    "\n",
    "print(txt,\"\\n\")\n",
    "print(txt1) "
   ]
  },
  {
   "cell_type": "code",
   "execution_count": null,
   "id": "1590c566-b3dc-463d-85f3-779c2884782f",
   "metadata": {},
   "outputs": [],
   "source": []
  },
  {
   "cell_type": "code",
   "execution_count": null,
   "id": "24d2f72d-63ab-4144-8834-2781377666e4",
   "metadata": {},
   "outputs": [],
   "source": []
  }
 ],
 "metadata": {
  "kernelspec": {
   "display_name": "Python 3 (ipykernel)",
   "language": "python",
   "name": "python3"
  },
  "language_info": {
   "codemirror_mode": {
    "name": "ipython",
    "version": 3
   },
   "file_extension": ".py",
   "mimetype": "text/x-python",
   "name": "python",
   "nbconvert_exporter": "python",
   "pygments_lexer": "ipython3",
   "version": "3.12.3"
  }
 },
 "nbformat": 4,
 "nbformat_minor": 5
}
