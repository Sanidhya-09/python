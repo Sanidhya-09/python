{
 "cells": [
  {
   "cell_type": "markdown",
   "id": "7a32981b-8c65-4056-99e9-3f92367c863c",
   "metadata": {},
   "source": [
    "Python list\n"
   ]
  },
  {
   "cell_type": "code",
   "execution_count": 1,
   "id": "f8a35b99-2ed1-4272-984a-ef3b7864317c",
   "metadata": {},
   "outputs": [],
   "source": [
    "age=[18,20,47,35,20,18,45,76,25,14,36,45]"
   ]
  },
  {
   "cell_type": "code",
   "execution_count": 2,
   "id": "368a5e23-d898-4745-8e04-bc5fc4ef7523",
   "metadata": {},
   "outputs": [
    {
     "name": "stdout",
     "output_type": "stream",
     "text": [
      "[18, 20, 47, 35, 20, 18, 45, 76, 25, 14, 36, 45]\n"
     ]
    }
   ],
   "source": [
    "print(age)"
   ]
  },
  {
   "cell_type": "code",
   "execution_count": 3,
   "id": "3d192fcb-e2eb-41f1-b4cd-a36943cbcfeb",
   "metadata": {},
   "outputs": [
    {
     "name": "stdout",
     "output_type": "stream",
     "text": [
      "18\n"
     ]
    }
   ],
   "source": [
    "print(age[5])"
   ]
  },
  {
   "cell_type": "code",
   "execution_count": 4,
   "id": "b0aea1ce-45c5-4088-9381-2b79a6db4256",
   "metadata": {},
   "outputs": [
    {
     "name": "stdout",
     "output_type": "stream",
     "text": [
      "14\n"
     ]
    }
   ],
   "source": [
    "print(age[9])"
   ]
  },
  {
   "cell_type": "code",
   "execution_count": 5,
   "id": "a7c58658-3797-4f71-ad4c-fba9135404e6",
   "metadata": {},
   "outputs": [
    {
     "name": "stdout",
     "output_type": "stream",
     "text": [
      "<class 'list'>\n"
     ]
    }
   ],
   "source": [
    "print(type(age))"
   ]
  },
  {
   "cell_type": "code",
   "execution_count": 6,
   "id": "8b3d4bed-2f41-4785-a0f7-0e3438ecf1da",
   "metadata": {},
   "outputs": [
    {
     "name": "stdout",
     "output_type": "stream",
     "text": [
      "[18, 20, 47, 35, 20, 18, 45, 76, 25, 14, 36, 45, 100]\n"
     ]
    }
   ],
   "source": [
    "#we want to perfrm operations on lists\n",
    "\n",
    "#to add element in list\n",
    "\n",
    "age.append(100)\n",
    "print(age)"
   ]
  },
  {
   "cell_type": "code",
   "execution_count": 7,
   "id": "182b06b1-1767-4ada-b00f-c50fb8397e9c",
   "metadata": {},
   "outputs": [
    {
     "name": "stdout",
     "output_type": "stream",
     "text": [
      "[18, 20, 47, 35, 20, 18, 45, 25, 14, 36, 45, 100]\n"
     ]
    }
   ],
   "source": [
    "#to remove element from list\n",
    "\n",
    "age.remove(76)\n",
    "print(age)"
   ]
  },
  {
   "cell_type": "code",
   "execution_count": 8,
   "id": "6d49a7a1-8746-4815-8fe9-728d72aca8cb",
   "metadata": {},
   "outputs": [
    {
     "name": "stdout",
     "output_type": "stream",
     "text": [
      "12\n"
     ]
    }
   ],
   "source": [
    "print(len(age))"
   ]
  },
  {
   "cell_type": "code",
   "execution_count": 9,
   "id": "c6376de5-f40f-4ac5-b25d-3855eed3cb08",
   "metadata": {},
   "outputs": [
    {
     "name": "stdout",
     "output_type": "stream",
     "text": [
      "[18, 20, 47, 580, 35, 20, 18, 45, 25, 14, 36, 45, 100]\n"
     ]
    }
   ],
   "source": [
    "#add element at particular index\n",
    "\n",
    "age.insert(3,580)\n",
    "print(age)"
   ]
  },
  {
   "cell_type": "code",
   "execution_count": 10,
   "id": "c14e8256-8713-46a5-ac3c-dd4276b13ef2",
   "metadata": {},
   "outputs": [
    {
     "name": "stdout",
     "output_type": "stream",
     "text": [
      "Help on built-in function extend:\n",
      "\n",
      "extend(iterable, /) method of builtins.list instance\n",
      "    Extend list by appending elements from the iterable.\n",
      "\n",
      "[18, 20, 47, 580, 35, 20, 18, 45, 25, 14, 36, 45, 100, 's', 'a', 'n', 'i', 'd', 'h', 'y', 'a']\n"
     ]
    }
   ],
   "source": [
    "#add multiple elements at a time......................\n",
    "\n",
    "help(age.extend)\n",
    "age.extend(\"sanidhya\")  #it is string\n",
    "print(age)"
   ]
  },
  {
   "cell_type": "code",
   "execution_count": 11,
   "id": "3e4648a2-7318-46ba-95b7-527b392e3d23",
   "metadata": {},
   "outputs": [
    {
     "name": "stdout",
     "output_type": "stream",
     "text": [
      "[]\n"
     ]
    }
   ],
   "source": [
    "age.clear()\n",
    "print(age)"
   ]
  },
  {
   "cell_type": "code",
   "execution_count": 12,
   "id": "26e29f95-e32c-4048-b816-5837a383be30",
   "metadata": {},
   "outputs": [
    {
     "name": "stdout",
     "output_type": "stream",
     "text": [
      "[1, 2, 3, [4, 5, 6]]\n"
     ]
    }
   ],
   "source": [
    "list_1=[1,2,3]\n",
    "list_2=[4,5,6]\n",
    "\n",
    "list_1.append(list_2)\n",
    "print(list_1)"
   ]
  },
  {
   "cell_type": "code",
   "execution_count": 13,
   "id": "31821228-9d59-44d3-8411-1e82c8ba7116",
   "metadata": {},
   "outputs": [
    {
     "name": "stdout",
     "output_type": "stream",
     "text": [
      "[1, 2, 3, [4, 5, 6], 4, 5, 6]\n"
     ]
    }
   ],
   "source": [
    "list_1.extend(list_2)     #extend is used to add itreables like list,tuple,string etc\n",
    "print(list_1)"
   ]
  },
  {
   "cell_type": "code",
   "execution_count": 14,
   "id": "a09820c8-1f28-4041-b759-edc6bff2c907",
   "metadata": {},
   "outputs": [
    {
     "name": "stdout",
     "output_type": "stream",
     "text": [
      "[1, 2, 3, [4, 5, 6], 4, 5, 6, 'S', 'a', 'n', 'i', 'd', 'h', 'y', 'a']\n"
     ]
    }
   ],
   "source": [
    "list_1.extend(\"Sanidhya\")\n",
    "print(list_1)"
   ]
  },
  {
   "cell_type": "code",
   "execution_count": 15,
   "id": "06e46774-9b39-4a47-b93d-4097a5d042c5",
   "metadata": {},
   "outputs": [
    {
     "name": "stdout",
     "output_type": "stream",
     "text": [
      "[4, 5, 6, 10, 20, 15, 20]\n"
     ]
    }
   ],
   "source": [
    "list_2.extend((10,20,15,20))\n",
    "print(list_2)"
   ]
  },
  {
   "cell_type": "code",
   "execution_count": 16,
   "id": "edc9b439-7ac6-4187-8659-c805850a5dc9",
   "metadata": {},
   "outputs": [
    {
     "name": "stdout",
     "output_type": "stream",
     "text": [
      "[1, 2, 3, [4, 5, 6, 10, 20, 15, 20], 4, 5, 6, 'S', 'a', 'n', 'i', 'd', 'h', 'y', 'a']\n"
     ]
    }
   ],
   "source": [
    "#slicing in list\n",
    "\n",
    "print(list_1[0:])"
   ]
  },
  {
   "cell_type": "code",
   "execution_count": 17,
   "id": "b468b5b0-4a58-4e9a-8946-2b522522433f",
   "metadata": {},
   "outputs": [
    {
     "name": "stdout",
     "output_type": "stream",
     "text": [
      "[5, 6, 'S', 'a']\n"
     ]
    }
   ],
   "source": [
    "print(list_1[5:9])"
   ]
  },
  {
   "cell_type": "code",
   "execution_count": 18,
   "id": "7151d406-2414-48a3-8a58-778fda3028a8",
   "metadata": {},
   "outputs": [
    {
     "name": "stdout",
     "output_type": "stream",
     "text": [
      "[3, 4, 6, 'a', 'i']\n"
     ]
    }
   ],
   "source": [
    "print(list_1[2:11:2])"
   ]
  },
  {
   "cell_type": "code",
   "execution_count": null,
   "id": "65f58e13-c177-4f2c-9f36-742b40b8344a",
   "metadata": {},
   "outputs": [],
   "source": []
  },
  {
   "cell_type": "code",
   "execution_count": null,
   "id": "1234db56-cf25-4ce1-8fd1-2e2582a3572f",
   "metadata": {},
   "outputs": [],
   "source": []
  },
  {
   "cell_type": "code",
   "execution_count": 19,
   "id": "9b454af2-34e7-4fbf-b613-bce66ac753db",
   "metadata": {},
   "outputs": [
    {
     "name": "stdout",
     "output_type": "stream",
     "text": [
      "[['sanidhya', 21, 'Kolhapur'], ['siddhant', 22, 'pune'], ['swaroop', 22, 'ichalkaranji']]\n"
     ]
    }
   ],
   "source": [
    "#list inside list\n",
    "\n",
    "\n",
    "my_list=[\n",
    "    [\"sanidhya\",21,\"Kolhapur\"],\n",
    "    [\"siddhant\",22,\"pune\"],\n",
    "    [\"swaroop\",22,\"ichalkaranji\"]\n",
    "]\n",
    "print(my_list)"
   ]
  },
  {
   "cell_type": "code",
   "execution_count": 20,
   "id": "adf79a47-2486-4506-afe1-acd9c4a8275f",
   "metadata": {},
   "outputs": [
    {
     "name": "stdout",
     "output_type": "stream",
     "text": [
      "['swaroop', 22, 'ichalkaranji']\n"
     ]
    }
   ],
   "source": [
    "#accessing Elements from this\n",
    "\n",
    "print(my_list[2])"
   ]
  },
  {
   "cell_type": "code",
   "execution_count": 21,
   "id": "2c257cb0-8f86-4436-9f63-457eeb467384",
   "metadata": {},
   "outputs": [
    {
     "name": "stdout",
     "output_type": "stream",
     "text": [
      "[['sanidhya', 21, 'Kolhapur'], ['siddhant', 22, 'pune']]\n"
     ]
    }
   ],
   "source": [
    "print(my_list[0:2])"
   ]
  },
  {
   "cell_type": "code",
   "execution_count": 22,
   "id": "957de177-2d44-4512-a417-4b3a622f4ab6",
   "metadata": {},
   "outputs": [
    {
     "name": "stdout",
     "output_type": "stream",
     "text": [
      "Kolhapur\n"
     ]
    }
   ],
   "source": [
    "print(my_list[0][2])"
   ]
  },
  {
   "cell_type": "code",
   "execution_count": 23,
   "id": "fcec2c6f-167b-4ed1-9102-7faab0aad154",
   "metadata": {},
   "outputs": [
    {
     "name": "stdout",
     "output_type": "stream",
     "text": [
      "swaroop\n"
     ]
    }
   ],
   "source": [
    "print(my_list[2][0])"
   ]
  },
  {
   "cell_type": "code",
   "execution_count": 24,
   "id": "7d685fed-507a-4ca9-959a-8ce04f211159",
   "metadata": {},
   "outputs": [
    {
     "name": "stdout",
     "output_type": "stream",
     "text": [
      "ichalkaranji\n"
     ]
    }
   ],
   "source": [
    "print(my_list[2][2])"
   ]
  },
  {
   "cell_type": "code",
   "execution_count": 26,
   "id": "913e5970-ed9b-4832-88c4-988da30f46dd",
   "metadata": {
    "scrolled": true
   },
   "outputs": [
    {
     "name": "stdout",
     "output_type": "stream",
     "text": [
      "[21, 22, 22]\n"
     ]
    }
   ],
   "source": [
    "# i want to access only age of each one\n",
    "#first way\n",
    "# it is not ideol\n",
    "age_list=[  my_list[0][1],\n",
    "            my_list[1][1],\n",
    "            my_list[2][1],\n",
    "    ]\n",
    "print(age_list)"
   ]
  },
  {
   "cell_type": "code",
   "execution_count": 27,
   "id": "18d0dd92-a32f-42f9-890d-bdecc2c25733",
   "metadata": {},
   "outputs": [
    {
     "name": "stdout",
     "output_type": "stream",
     "text": [
      "['sanidhya', 'siddhant', 'swaroop']\n"
     ]
    }
   ],
   "source": [
    "second_col=[row[0] for row in my_list]              # here we retrive the column by using loop and list comprehension...\n",
    "print(second_col)"
   ]
  },
  {
   "cell_type": "code",
   "execution_count": 28,
   "id": "4919f5e8-995b-4f0b-8a34-6bcaae2b8375",
   "metadata": {},
   "outputs": [
    {
     "name": "stdout",
     "output_type": "stream",
     "text": [
      "[42, 44, 44]\n"
     ]
    }
   ],
   "source": [
    "for row in my_list:\n",
    "    row[1]*=2\n",
    "\n",
    "print([row[1] for row in my_list])"
   ]
  },
  {
   "cell_type": "code",
   "execution_count": 29,
   "id": "fda4d1ae-9c91-4d65-8bc4-1be6c6c9c48f",
   "metadata": {},
   "outputs": [
    {
     "name": "stdout",
     "output_type": "stream",
     "text": [
      "<class 'list'>\n"
     ]
    }
   ],
   "source": [
    "print(type(my_list))"
   ]
  },
  {
   "cell_type": "code",
   "execution_count": null,
   "id": "d646f757-4cb0-4dd2-b091-cc2caafd4a7f",
   "metadata": {},
   "outputs": [],
   "source": []
  },
  {
   "cell_type": "code",
   "execution_count": 30,
   "id": "4b4fac91-7dc7-4181-a04f-dc0ce1eb40b4",
   "metadata": {},
   "outputs": [],
   "source": [
    "# you can further learn this list inside list operations through chat GPT"
   ]
  },
  {
   "cell_type": "code",
   "execution_count": 31,
   "id": "c4c1df8f-6680-4463-bf7f-e1fb4b1cf93a",
   "metadata": {},
   "outputs": [],
   "source": [
    "# now numpy library intro"
   ]
  },
  {
   "cell_type": "code",
   "execution_count": null,
   "id": "48d44a21-0e18-4cfc-a752-25e9f3a147df",
   "metadata": {},
   "outputs": [],
   "source": []
  },
  {
   "cell_type": "code",
   "execution_count": 32,
   "id": "cf855c77-6aa9-41c5-ab7a-0dc6a7414ea8",
   "metadata": {},
   "outputs": [],
   "source": [
    "import numpy as np"
   ]
  },
  {
   "cell_type": "code",
   "execution_count": 33,
   "id": "9b41fd96-7dc2-423f-92b4-456c409cbce8",
   "metadata": {},
   "outputs": [],
   "source": [
    "new_list=np.array(my_list)"
   ]
  },
  {
   "cell_type": "code",
   "execution_count": 34,
   "id": "1e1ef8a3-4262-4282-9c07-9610deb66a58",
   "metadata": {},
   "outputs": [
    {
     "name": "stdout",
     "output_type": "stream",
     "text": [
      "[['sanidhya' '42' 'Kolhapur']\n",
      " ['siddhant' '44' 'pune']\n",
      " ['swaroop' '44' 'ichalkaranji']]\n"
     ]
    }
   ],
   "source": [
    "print(new_list)"
   ]
  },
  {
   "cell_type": "code",
   "execution_count": 35,
   "id": "7572ccf0-62d0-4598-bf6a-04a9a3682f4e",
   "metadata": {},
   "outputs": [
    {
     "name": "stdout",
     "output_type": "stream",
     "text": [
      "<class 'numpy.ndarray'>\n"
     ]
    }
   ],
   "source": [
    "print(type(new_list))"
   ]
  },
  {
   "cell_type": "code",
   "execution_count": 36,
   "id": "98b18c38-f357-47bc-900b-565d5756ff5d",
   "metadata": {},
   "outputs": [
    {
     "name": "stdout",
     "output_type": "stream",
     "text": [
      "42\n"
     ]
    }
   ],
   "source": [
    " print(new_list[0,1])"
   ]
  },
  {
   "cell_type": "code",
   "execution_count": 37,
   "id": "92a68d54-53ee-4877-a972-148a2df4551a",
   "metadata": {},
   "outputs": [
    {
     "name": "stdout",
     "output_type": "stream",
     "text": [
      "[['sanidhya' '42' 'Kolhapur']\n",
      " ['siddhant' '44' 'pune']]\n"
     ]
    }
   ],
   "source": [
    "print(new_list[0:2,0:])"
   ]
  },
  {
   "cell_type": "code",
   "execution_count": 38,
   "id": "83956bb7-f082-41fa-a6a5-b06671f9ea49",
   "metadata": {},
   "outputs": [
    {
     "name": "stdout",
     "output_type": "stream",
     "text": [
      "['42' '44' '44']\n"
     ]
    }
   ],
   "source": [
    "print(new_list[:,1])      #to retrive single coloum"
   ]
  },
  {
   "cell_type": "code",
   "execution_count": 39,
   "id": "cab2c140-c9e3-44be-91a3-d4f377090b31",
   "metadata": {},
   "outputs": [
    {
     "name": "stdout",
     "output_type": "stream",
     "text": [
      "['Kolhapur' 'pune' 'ichalkaranji']\n"
     ]
    }
   ],
   "source": [
    "print(new_list[:,2]) "
   ]
  },
  {
   "cell_type": "code",
   "execution_count": 40,
   "id": "b7c7ec42-c70f-4738-b7f4-78061bd0bc2a",
   "metadata": {},
   "outputs": [
    {
     "data": {
      "text/plain": [
       "2"
      ]
     },
     "execution_count": 40,
     "metadata": {},
     "output_type": "execute_result"
    }
   ],
   "source": [
    "new_list.ndim           #tells about dimension of array 1d,2d,3d"
   ]
  },
  {
   "cell_type": "code",
   "execution_count": 41,
   "id": "ba42ee74-84b0-4ddd-abb4-281014e93244",
   "metadata": {},
   "outputs": [
    {
     "data": {
      "text/plain": [
       "(3, 3)"
      ]
     },
     "execution_count": 41,
     "metadata": {},
     "output_type": "execute_result"
    }
   ],
   "source": [
    "new_list.shape           #tells about no of columns and rows"
   ]
  },
  {
   "cell_type": "code",
   "execution_count": null,
   "id": "53913d73-f989-455f-81de-fd48cb842dba",
   "metadata": {},
   "outputs": [],
   "source": []
  },
  {
   "cell_type": "code",
   "execution_count": null,
   "id": "95a6ebff-0d6b-4fcf-9c1e-7ce47f3711b5",
   "metadata": {},
   "outputs": [],
   "source": []
  },
  {
   "cell_type": "markdown",
   "id": "592c28ac-c89e-452c-9f57-2bef75869e63",
   "metadata": {},
   "source": [
    "Python List in Depth"
   ]
  },
  {
   "cell_type": "code",
   "execution_count": 1,
   "id": "288fccac-a46a-43bb-8e1a-0c9c1f2c4266",
   "metadata": {},
   "outputs": [],
   "source": [
    "a=[1,2,3,4]"
   ]
  },
  {
   "cell_type": "code",
   "execution_count": 2,
   "id": "a365962e-1b10-43f3-88a5-c28aa47eca49",
   "metadata": {},
   "outputs": [
    {
     "name": "stdout",
     "output_type": "stream",
     "text": [
      "[1, 2, 3, 4]\n"
     ]
    }
   ],
   "source": [
    "print(a)"
   ]
  },
  {
   "cell_type": "code",
   "execution_count": 3,
   "id": "0d7d7d4a-67b1-49a1-a548-49458bf4b670",
   "metadata": {},
   "outputs": [],
   "source": [
    "copy_a=a"
   ]
  },
  {
   "cell_type": "code",
   "execution_count": 4,
   "id": "9f56da52-15be-43ac-b172-936740a429e4",
   "metadata": {},
   "outputs": [
    {
     "name": "stdout",
     "output_type": "stream",
     "text": [
      "[1, 2, 3, 4]\n"
     ]
    }
   ],
   "source": [
    "print(copy_a)"
   ]
  },
  {
   "cell_type": "code",
   "execution_count": 5,
   "id": "50445551-3e4a-4d11-80e4-0cc7c07cf4f1",
   "metadata": {},
   "outputs": [
    {
     "data": {
      "text/plain": [
       "2325539835008"
      ]
     },
     "execution_count": 5,
     "metadata": {},
     "output_type": "execute_result"
    }
   ],
   "source": [
    "# but both have same memory address...\n",
    "id(a)"
   ]
  },
  {
   "cell_type": "code",
   "execution_count": 6,
   "id": "12fb917c-75d2-4111-9cd4-4d94b5dc1536",
   "metadata": {},
   "outputs": [
    {
     "data": {
      "text/plain": [
       "2325539835008"
      ]
     },
     "execution_count": 6,
     "metadata": {},
     "output_type": "execute_result"
    }
   ],
   "source": [
    "id(copy_a)"
   ]
  },
  {
   "cell_type": "code",
   "execution_count": 7,
   "id": "81a02fe5-ce13-42e6-a161-678e7244654f",
   "metadata": {},
   "outputs": [],
   "source": [
    "# so if we make some change in copy_a it will reflect in 'a' also\n",
    "\n",
    "copy_a[2]=100"
   ]
  },
  {
   "cell_type": "code",
   "execution_count": 8,
   "id": "388c7023-bb2b-4d22-b338-30bc3b0d539b",
   "metadata": {},
   "outputs": [
    {
     "name": "stdout",
     "output_type": "stream",
     "text": [
      "[1, 2, 100, 4]\n"
     ]
    }
   ],
   "source": [
    "print(copy_a)"
   ]
  },
  {
   "cell_type": "code",
   "execution_count": 9,
   "id": "c6b29911-91c4-4332-8168-8ee54b5c5c91",
   "metadata": {},
   "outputs": [
    {
     "name": "stdout",
     "output_type": "stream",
     "text": [
      "[1, 2, 100, 4]\n"
     ]
    }
   ],
   "source": [
    "print(a)"
   ]
  },
  {
   "cell_type": "code",
   "execution_count": null,
   "id": "c2c5ff41-08b1-4050-a65d-8f79a14e2518",
   "metadata": {},
   "outputs": [],
   "source": []
  },
  {
   "cell_type": "code",
   "execution_count": null,
   "id": "2ecd4974-b208-4b29-8ac0-a724e7b44591",
   "metadata": {},
   "outputs": [],
   "source": []
  },
  {
   "cell_type": "code",
   "execution_count": null,
   "id": "34552452-e32e-4860-ad07-aacdf419838d",
   "metadata": {},
   "outputs": [],
   "source": []
  },
  {
   "cell_type": "code",
   "execution_count": 10,
   "id": "be8c2bbc-b370-46a5-8e16-afb6ad808d57",
   "metadata": {},
   "outputs": [],
   "source": [
    "# to avoid this we use swallow copy method\n",
    "\n",
    "x=[11,22,33,44]\n",
    "\n",
    "copy_x=x[:]"
   ]
  },
  {
   "cell_type": "code",
   "execution_count": 11,
   "id": "bac8a6cc-3897-4b0b-924d-56ea8a27a375",
   "metadata": {},
   "outputs": [
    {
     "name": "stdout",
     "output_type": "stream",
     "text": [
      "[11, 22, 33, 44]\n"
     ]
    }
   ],
   "source": [
    "print(copy_x)"
   ]
  },
  {
   "cell_type": "code",
   "execution_count": 12,
   "id": "170bd0bc-a17e-407b-b8c5-249e744010fd",
   "metadata": {},
   "outputs": [
    {
     "data": {
      "text/plain": [
       "2325539761536"
      ]
     },
     "execution_count": 12,
     "metadata": {},
     "output_type": "execute_result"
    }
   ],
   "source": [
    "id(x)"
   ]
  },
  {
   "cell_type": "code",
   "execution_count": 13,
   "id": "e3138bf1-8d15-4ae7-9097-ed629434af35",
   "metadata": {},
   "outputs": [
    {
     "data": {
      "text/plain": [
       "2325539757120"
      ]
     },
     "execution_count": 13,
     "metadata": {},
     "output_type": "execute_result"
    }
   ],
   "source": [
    "id(copy_x)"
   ]
  },
  {
   "cell_type": "code",
   "execution_count": null,
   "id": "ac89651a-45e6-440e-ad46-f60c8f4c5fbb",
   "metadata": {},
   "outputs": [],
   "source": []
  },
  {
   "cell_type": "code",
   "execution_count": 14,
   "id": "0ef6d21a-ccbb-4cd2-baca-8fb24c61c705",
   "metadata": {},
   "outputs": [],
   "source": [
    "import copy"
   ]
  },
  {
   "cell_type": "code",
   "execution_count": 15,
   "id": "80d3b268-f99a-4f7c-9297-8865180310ab",
   "metadata": {},
   "outputs": [],
   "source": [
    "age=[10,54,62,38]"
   ]
  },
  {
   "cell_type": "code",
   "execution_count": 16,
   "id": "850b0db5-7c20-42c9-ae9b-d9aa3e73fe72",
   "metadata": {},
   "outputs": [],
   "source": [
    "new_age=copy.copy(age)"
   ]
  },
  {
   "cell_type": "code",
   "execution_count": 17,
   "id": "cd2e8daf-9071-49b6-9bfc-4aab405ccf38",
   "metadata": {},
   "outputs": [
    {
     "data": {
      "text/plain": [
       "[10, 54, 62, 38]"
      ]
     },
     "execution_count": 17,
     "metadata": {},
     "output_type": "execute_result"
    }
   ],
   "source": [
    "new_age"
   ]
  },
  {
   "cell_type": "code",
   "execution_count": 18,
   "id": "2ab3a548-6707-4832-8efa-b387c00ff6cc",
   "metadata": {},
   "outputs": [
    {
     "data": {
      "text/plain": [
       "2325539761792"
      ]
     },
     "execution_count": 18,
     "metadata": {},
     "output_type": "execute_result"
    }
   ],
   "source": [
    "id(age)"
   ]
  },
  {
   "cell_type": "code",
   "execution_count": 19,
   "id": "c0af0f5f-a4e3-405f-a6ca-a5cb659871f0",
   "metadata": {},
   "outputs": [
    {
     "data": {
      "text/plain": [
       "2325539833088"
      ]
     },
     "execution_count": 19,
     "metadata": {},
     "output_type": "execute_result"
    }
   ],
   "source": [
    "id(new_age)"
   ]
  },
  {
   "cell_type": "code",
   "execution_count": null,
   "id": "cc76ab81-fc4e-4da0-9548-e7b8b4516c30",
   "metadata": {},
   "outputs": [],
   "source": []
  },
  {
   "cell_type": "code",
   "execution_count": null,
   "id": "7c572169-7207-4b82-93cb-b340f584dd9d",
   "metadata": {},
   "outputs": [],
   "source": []
  },
  {
   "cell_type": "code",
   "execution_count": 20,
   "id": "7f14ad0b-361b-4978-a105-3d18eee6bd75",
   "metadata": {},
   "outputs": [],
   "source": [
    "info=[1,\"sunny\",[1000,2000]]"
   ]
  },
  {
   "cell_type": "code",
   "execution_count": 21,
   "id": "f7d3eaab-18e9-4ea4-a19c-545d41b456ef",
   "metadata": {},
   "outputs": [],
   "source": [
    "new_info=copy.copy(info)"
   ]
  },
  {
   "cell_type": "code",
   "execution_count": 22,
   "id": "d609d6df-73b7-4ba9-a727-7fbd6d1126d2",
   "metadata": {},
   "outputs": [
    {
     "data": {
      "text/plain": [
       "[1, 'sunny', [1000, 2000]]"
      ]
     },
     "execution_count": 22,
     "metadata": {},
     "output_type": "execute_result"
    }
   ],
   "source": [
    "new_info"
   ]
  },
  {
   "cell_type": "code",
   "execution_count": 23,
   "id": "65fcfd5d-4c41-43d1-b55f-6e5eb3980103",
   "metadata": {},
   "outputs": [],
   "source": [
    "new_info[2][0]=7000"
   ]
  },
  {
   "cell_type": "code",
   "execution_count": 24,
   "id": "c2acbf52-dae9-40d4-ae6e-e40e6589e89a",
   "metadata": {},
   "outputs": [
    {
     "data": {
      "text/plain": [
       "[1, 'sunny', [7000, 2000]]"
      ]
     },
     "execution_count": 24,
     "metadata": {},
     "output_type": "execute_result"
    }
   ],
   "source": [
    "new_info"
   ]
  },
  {
   "cell_type": "code",
   "execution_count": 25,
   "id": "d8b801a5-0909-482e-b3d5-0a02ca1b43fe",
   "metadata": {},
   "outputs": [
    {
     "data": {
      "text/plain": [
       "[1, 'sunny', [7000, 2000]]"
      ]
     },
     "execution_count": 25,
     "metadata": {},
     "output_type": "execute_result"
    }
   ],
   "source": [
    "info                              #here also it is changed "
   ]
  },
  {
   "cell_type": "code",
   "execution_count": null,
   "id": "a38d06c5-9421-4a11-aa3c-25aef8bde2d2",
   "metadata": {},
   "outputs": [],
   "source": []
  },
  {
   "cell_type": "code",
   "execution_count": null,
   "id": "b58790eb-70b3-493d-b3be-91361968e516",
   "metadata": {},
   "outputs": [],
   "source": []
  },
  {
   "cell_type": "code",
   "execution_count": 26,
   "id": "70050a11-9910-41c5-982e-699fe45a7e0c",
   "metadata": {},
   "outputs": [],
   "source": [
    "# to avoid this we use deepcopy "
   ]
  },
  {
   "cell_type": "code",
   "execution_count": 27,
   "id": "d616ec08-094f-49bb-8cfc-897d19e0e244",
   "metadata": {},
   "outputs": [],
   "source": [
    "address=[15,\"pune\",[1500,12554]]"
   ]
  },
  {
   "cell_type": "code",
   "execution_count": 28,
   "id": "7378132c-6c03-48d9-b0b3-4de0ffa0209a",
   "metadata": {},
   "outputs": [],
   "source": [
    "new_add=copy.deepcopy(address)"
   ]
  },
  {
   "cell_type": "code",
   "execution_count": 29,
   "id": "61de4e57-437f-4c52-92a4-92bee635948c",
   "metadata": {},
   "outputs": [],
   "source": [
    "new_add[2][0]=8000"
   ]
  },
  {
   "cell_type": "code",
   "execution_count": 30,
   "id": "038853fa-4c7d-480c-98cb-4304f206d0d3",
   "metadata": {},
   "outputs": [
    {
     "data": {
      "text/plain": [
       "[15, 'pune', [8000, 12554]]"
      ]
     },
     "execution_count": 30,
     "metadata": {},
     "output_type": "execute_result"
    }
   ],
   "source": [
    "new_add"
   ]
  },
  {
   "cell_type": "code",
   "execution_count": 31,
   "id": "fbe491ec-288f-4075-ae4b-fce99604a3e5",
   "metadata": {},
   "outputs": [
    {
     "data": {
      "text/plain": [
       "[15, 'pune', [1500, 12554]]"
      ]
     },
     "execution_count": 31,
     "metadata": {},
     "output_type": "execute_result"
    }
   ],
   "source": [
    "address"
   ]
  },
  {
   "cell_type": "code",
   "execution_count": null,
   "id": "66488480-e8ea-40a8-bbaa-95348defee73",
   "metadata": {},
   "outputs": [],
   "source": []
  },
  {
   "cell_type": "code",
   "execution_count": null,
   "id": "a59ae0c7-04c8-4231-861a-bff70fa2a71a",
   "metadata": {},
   "outputs": [],
   "source": []
  }
 ],
 "metadata": {
  "kernelspec": {
   "display_name": "Python 3 (ipykernel)",
   "language": "python",
   "name": "python3"
  },
  "language_info": {
   "codemirror_mode": {
    "name": "ipython",
    "version": 3
   },
   "file_extension": ".py",
   "mimetype": "text/x-python",
   "name": "python",
   "nbconvert_exporter": "python",
   "pygments_lexer": "ipython3",
   "version": "3.12.3"
  }
 },
 "nbformat": 4,
 "nbformat_minor": 5
}
