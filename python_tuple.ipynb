{
 "cells": [
  {
   "cell_type": "code",
   "execution_count": 1,
   "id": "bf77442a-9477-4a76-8ed8-15e57dca9e27",
   "metadata": {},
   "outputs": [],
   "source": [
    "marks=(14,27,52,48,69,74,35,48,12,52,96,48)"
   ]
  },
  {
   "cell_type": "code",
   "execution_count": 2,
   "id": "f51a0a56-8f7c-4b5d-984d-78b531f36498",
   "metadata": {},
   "outputs": [
    {
     "name": "stdout",
     "output_type": "stream",
     "text": [
      "(14, 27, 52, 48, 69, 74, 35, 48, 12, 52, 96, 48)\n"
     ]
    }
   ],
   "source": [
    "print(marks)"
   ]
  },
  {
   "cell_type": "code",
   "execution_count": 3,
   "id": "8cfa145c-0091-4a12-8660-2182df01c875",
   "metadata": {},
   "outputs": [
    {
     "data": {
      "text/plain": [
       "tuple"
      ]
     },
     "execution_count": 3,
     "metadata": {},
     "output_type": "execute_result"
    }
   ],
   "source": [
    "type(marks)    #to find the datatype of any variable"
   ]
  },
  {
   "cell_type": "code",
   "execution_count": 4,
   "id": "af43ec99-e611-44d2-9ebe-eaf49ff8b2c7",
   "metadata": {},
   "outputs": [
    {
     "name": "stdout",
     "output_type": "stream",
     "text": [
      "69\n"
     ]
    }
   ],
   "source": [
    "print(marks[4])          #for accessing any element from the tuple"
   ]
  },
  {
   "cell_type": "code",
   "execution_count": 5,
   "id": "6c946fee-45bf-42e9-af5c-89cf6342b0e1",
   "metadata": {},
   "outputs": [
    {
     "name": "stdout",
     "output_type": "stream",
     "text": [
      "96\n"
     ]
    }
   ],
   "source": [
    "print(marks[10])"
   ]
  },
  {
   "cell_type": "code",
   "execution_count": 6,
   "id": "050d1ad4-ec5d-40b0-aa48-23ce2033d560",
   "metadata": {},
   "outputs": [
    {
     "name": "stdout",
     "output_type": "stream",
     "text": [
      "3\n"
     ]
    }
   ],
   "source": [
    "print(marks.count(48))"
   ]
  },
  {
   "cell_type": "code",
   "execution_count": 7,
   "id": "b8201448-bb4f-4b0c-ae5c-32b6d09b7efc",
   "metadata": {},
   "outputs": [
    {
     "name": "stdout",
     "output_type": "stream",
     "text": [
      "4\n"
     ]
    }
   ],
   "source": [
    "print(marks.index(69))             #index at which the value arrived first...!"
   ]
  },
  {
   "cell_type": "code",
   "execution_count": 8,
   "id": "521cc7f4-dccd-46e1-88fa-c0bea76f4e52",
   "metadata": {},
   "outputs": [
    {
     "name": "stdout",
     "output_type": "stream",
     "text": [
      "(14, 52, 69, 35, 12, 96)\n"
     ]
    }
   ],
   "source": [
    "print(marks[::2])   #slicing of tuple"
   ]
  },
  {
   "cell_type": "code",
   "execution_count": 9,
   "id": "1329aba8-3d26-4b72-a56a-335da12e3571",
   "metadata": {},
   "outputs": [
    {
     "name": "stdout",
     "output_type": "stream",
     "text": [
      "(14, 27, 52, 48, 69)\n"
     ]
    }
   ],
   "source": [
    "print(marks[0:5]) "
   ]
  },
  {
   "cell_type": "code",
   "execution_count": 10,
   "id": "273f5849-8540-4bc3-a18f-718f96e65e46",
   "metadata": {},
   "outputs": [
    {
     "name": "stdout",
     "output_type": "stream",
     "text": [
      "<class 'int'>\n",
      "10\n"
     ]
    }
   ],
   "source": [
    "# We want to create single tuple\n",
    "\n",
    "new_tuple=(10)   \n",
    "print(type(new_tuple))\n",
    "print(new_tuple)"
   ]
  },
  {
   "cell_type": "code",
   "execution_count": 11,
   "id": "f8fbb2c7-0b54-4c07-b85e-4ae95ae92a8c",
   "metadata": {},
   "outputs": [
    {
     "name": "stdout",
     "output_type": "stream",
     "text": [
      "<class 'tuple'>\n",
      "(10,)\n"
     ]
    }
   ],
   "source": [
    "new_tuple=(10,)\n",
    "print(type(new_tuple))\n",
    "print(new_tuple)"
   ]
  },
  {
   "cell_type": "code",
   "execution_count": null,
   "id": "ff9b4e86-6866-4205-9c3c-d6d17bf59e4f",
   "metadata": {},
   "outputs": [],
   "source": []
  },
  {
   "cell_type": "code",
   "execution_count": null,
   "id": "6490dba7-3164-4e18-8d61-f5f023678f28",
   "metadata": {},
   "outputs": [],
   "source": []
  }
 ],
 "metadata": {
  "kernelspec": {
   "display_name": "Python 3 (ipykernel)",
   "language": "python",
   "name": "python3"
  },
  "language_info": {
   "codemirror_mode": {
    "name": "ipython",
    "version": 3
   },
   "file_extension": ".py",
   "mimetype": "text/x-python",
   "name": "python",
   "nbconvert_exporter": "python",
   "pygments_lexer": "ipython3",
   "version": "3.12.3"
  }
 },
 "nbformat": 4,
 "nbformat_minor": 5
}
