{
 "cells": [
  {
   "cell_type": "code",
   "execution_count": null,
   "id": "174e62db-8bdb-45bd-aa30-0a965cffa923",
   "metadata": {},
   "outputs": [],
   "source": [
    "fh=open(\"my_file.txt\",\"r\")"
   ]
  },
  {
   "cell_type": "code",
   "execution_count": null,
   "id": "21ef2a5b-65ef-4b0d-9653-576242e5eb15",
   "metadata": {},
   "outputs": [],
   "source": [
    "fh.read()"
   ]
  },
  {
   "cell_type": "code",
   "execution_count": null,
   "id": "3aeaffc1-bb95-43f8-bff4-60cff638a48b",
   "metadata": {},
   "outputs": [],
   "source": [
    "# now we have to close this file manually\n",
    "fh.close()\n",
    "fh.read()"
   ]
  },
  {
   "cell_type": "code",
   "execution_count": null,
   "id": "05988504-786e-413a-86bc-d2bea357d032",
   "metadata": {},
   "outputs": [],
   "source": []
  },
  {
   "cell_type": "code",
   "execution_count": null,
   "id": "d2c2de44-8c0f-4053-97d9-10f7311608c7",
   "metadata": {},
   "outputs": [],
   "source": []
  },
  {
   "cell_type": "code",
   "execution_count": null,
   "id": "d8709dbb-7549-4125-b70c-30b15282ec02",
   "metadata": {},
   "outputs": [],
   "source": [
    "with open(\"my_new_file.txt\",\"r\") as fh:\n",
    "    ans=fh.read()\n",
    "    print(ans)\n",
    "\n",
    "# dont need to close file manually"
   ]
  },
  {
   "cell_type": "code",
   "execution_count": null,
   "id": "c971e3aa-96d4-49c5-a0a6-325c0b8d6ff7",
   "metadata": {},
   "outputs": [],
   "source": [
    "fh.read()"
   ]
  },
  {
   "cell_type": "code",
   "execution_count": null,
   "id": "a4e4258e-eb76-4f87-a9e5-8e015380a378",
   "metadata": {},
   "outputs": [],
   "source": []
  },
  {
   "cell_type": "markdown",
   "id": "74cb161f-fbbf-4e9f-89b7-43fec47bcdc2",
   "metadata": {},
   "source": [
    "custom context manager...(using class)"
   ]
  },
  {
   "cell_type": "code",
   "execution_count": null,
   "id": "0b3bd58b-3d8b-4342-babd-e9adfe2ee6dc",
   "metadata": {},
   "outputs": [],
   "source": []
  },
  {
   "cell_type": "code",
   "execution_count": null,
   "id": "2f2f3075-fddf-4a32-b2e1-5856acec8974",
   "metadata": {},
   "outputs": [],
   "source": [
    "class helloWorld:\n",
    "    def __init__(self):\n",
    "        # generally we initionalize here like time=0,self.filename=filename etc\n",
    "        print(\"[1]..You are in __init__\")\n",
    "    def __enter__(self):\n",
    "        print(\"[2]..You are in __enter__\")\n",
    "        return 55\n",
    "    def __exit__(self,exc_type,exc_val,exc_traceBack):\n",
    "        print(\"[3]..You are in __exit__\")\n",
    "        print(exc_type,exc_val)"
   ]
  },
  {
   "cell_type": "code",
   "execution_count": null,
   "id": "d9114ccf-dfb2-4b89-8b24-86c9f8fdaeca",
   "metadata": {},
   "outputs": [],
   "source": [
    "with helloWorld() as cm:\n",
    "    print(\"[4]..you are in with statement\")\n",
    "    print(\"[5]..\",cm)\n",
    "\n",
    "\n",
    "print(\"[6]..you are outside with statement\")"
   ]
  },
  {
   "cell_type": "code",
   "execution_count": null,
   "id": "09f6c7bf-43ca-47f3-bacf-4d6807f3aff2",
   "metadata": {},
   "outputs": [],
   "source": []
  },
  {
   "cell_type": "code",
   "execution_count": null,
   "id": "61a59c54-6b5c-45e3-bba2-d7f9eeb3cfdc",
   "metadata": {},
   "outputs": [],
   "source": []
  },
  {
   "cell_type": "code",
   "execution_count": null,
   "id": "27536a4b-954a-4161-a970-b0a07d5db168",
   "metadata": {},
   "outputs": [],
   "source": [
    "class helloWorld:\n",
    "    def __init__(self):\n",
    "        print(\"[1]..You are in __init__\")\n",
    "    def __enter__(self):\n",
    "        print(\"[2]..You are in __enter__\")\n",
    "        return 55\n",
    "    def __exit__(self,exc_type,exc_val,exc_traceBack):\n",
    "        print(\"[3]..You are in __exit__\")\n",
    "        print(exc_val)\n",
    "        return True"
   ]
  },
  {
   "cell_type": "code",
   "execution_count": null,
   "id": "ee97b0e2-bfa0-49e4-8686-38d48582f142",
   "metadata": {},
   "outputs": [],
   "source": [
    "with helloWorld() as cm:\n",
    "    print(\"[4]..you are in with statement\")\n",
    "    res=1/0\n",
    "    print(\"[5]..\",cm)\n",
    "\n",
    "print(\"you are outside with statement\")"
   ]
  },
  {
   "cell_type": "code",
   "execution_count": null,
   "id": "5b7b4daf-23ac-41ed-9b12-833537d86c3a",
   "metadata": {},
   "outputs": [],
   "source": []
  },
  {
   "cell_type": "code",
   "execution_count": null,
   "id": "d3a99e3e-e36f-44a7-a91a-240ffce52d35",
   "metadata": {},
   "outputs": [],
   "source": []
  },
  {
   "cell_type": "code",
   "execution_count": null,
   "id": "ba66576c-0afe-494f-ad15-0ece6f9e6117",
   "metadata": {},
   "outputs": [],
   "source": [
    "from time import perf_counter"
   ]
  },
  {
   "cell_type": "code",
   "execution_count": null,
   "id": "8e464b43-2806-441d-a46a-1b3278852d15",
   "metadata": {},
   "outputs": [],
   "source": [
    "class timer:\n",
    "    \n",
    "    def __init__(self):\n",
    "        pass\n",
    "    def __enter__(self):\n",
    "        self.start_time=perf_counter()\n",
    "    def __exit__(self,exc_type,exc_val,exc_traceBack):\n",
    "        self.end_time=perf_counter()\n",
    "        req_time=(f\"took {(self.end_time-self.start_time):.4f}s\")\n",
    "        print(req_time)\n",
    "        # print(exc_type,exc_val,exc_traceBack)"
   ]
  },
  {
   "cell_type": "code",
   "execution_count": null,
   "id": "41c12ccc-28dd-40ab-82e5-714f2085914a",
   "metadata": {},
   "outputs": [],
   "source": [
    "with timer():\n",
    "    for i in range (10000):\n",
    "        j=i**2\n",
    "\n",
    "print(j)"
   ]
  },
  {
   "cell_type": "code",
   "execution_count": null,
   "id": "81720af1-6686-4817-ba96-f07ad92a52e1",
   "metadata": {},
   "outputs": [],
   "source": []
  },
  {
   "cell_type": "code",
   "execution_count": null,
   "id": "6a1f7961-584e-4cd8-9206-93d74741cc4f",
   "metadata": {},
   "outputs": [],
   "source": []
  },
  {
   "cell_type": "markdown",
   "id": "259e0720-013d-4be0-8bb7-0809db20165e",
   "metadata": {},
   "source": [
    "Functions as context managers"
   ]
  },
  {
   "cell_type": "code",
   "execution_count": null,
   "id": "d9a89a6f-bef5-485d-909e-8c6f0ceb32b6",
   "metadata": {},
   "outputs": [],
   "source": [
    "from contextlib import contextmanager"
   ]
  },
  {
   "cell_type": "code",
   "execution_count": null,
   "id": "1bbfd9ac-0369-4607-ac4d-fb9c70f10e55",
   "metadata": {},
   "outputs": [],
   "source": [
    "@contextmanager\n",
    "def function():\n",
    "    print(\"it works like __enter__\")\n",
    "    yield 45\n",
    "    print(\"it works like __exit__\")\n",
    "\n",
    "with function() as f:\n",
    "    print(f)"
   ]
  },
  {
   "cell_type": "code",
   "execution_count": null,
   "id": "ba3113cb-14b4-4f14-b622-09642b568d12",
   "metadata": {},
   "outputs": [],
   "source": []
  },
  {
   "cell_type": "code",
   "execution_count": null,
   "id": "0367dcfd-ca92-40f4-844c-862ecad604a4",
   "metadata": {},
   "outputs": [],
   "source": []
  },
  {
   "cell_type": "code",
   "execution_count": null,
   "id": "236a8f44-3045-4a49-9746-bed5c87e2918",
   "metadata": {},
   "outputs": [],
   "source": [
    "from contextlib import contextmanager\n",
    "import time"
   ]
  },
  {
   "cell_type": "code",
   "execution_count": null,
   "id": "5206b6fe-f2b2-4ad8-ac16-3a224fe2d0d4",
   "metadata": {},
   "outputs": [],
   "source": [
    "@contextmanager\n",
    "def timer():\n",
    "    start=time.perf_counter()\n",
    "    yield 5\n",
    "    end=time.perf_counter()\n",
    "    execution_time=end-start\n",
    "    print(f\"took {(execution_time):.4f}'s for the execution of program.\")"
   ]
  },
  {
   "cell_type": "code",
   "execution_count": null,
   "id": "ce7ae0c8-3082-4332-a6f9-eb75e72a126e",
   "metadata": {},
   "outputs": [],
   "source": [
    "with timer() as t:\n",
    "    print(t)\n",
    "    for i in range (10000):\n",
    "        j=i**3\n",
    "print(j)"
   ]
  },
  {
   "cell_type": "code",
   "execution_count": null,
   "id": "344b04bc-cc03-4d99-a92b-10417b3bf82f",
   "metadata": {},
   "outputs": [],
   "source": []
  },
  {
   "cell_type": "markdown",
   "id": "02e319f0-ded8-49d6-867b-02af67b904c7",
   "metadata": {},
   "source": [
    "file handling using context manager..."
   ]
  },
  {
   "cell_type": "code",
   "execution_count": null,
   "id": "9c25415e-a15f-4224-bfe9-85046c2cfcc1",
   "metadata": {},
   "outputs": [],
   "source": [
    "class FileManager:\n",
    "    def __init__(self,filename,mode):\n",
    "        print(\"you are inside __init__ block.\")\n",
    "        \n",
    "        self.filename=filename\n",
    "        self.mode=mode\n",
    "        self.file=None\n",
    "\n",
    "    def __enter__(self):\n",
    "        print(\"you are inside __enter__ block.\")\n",
    "        \n",
    "        self.file=open(self.filename,self.mode)\n",
    "        return self.file\n",
    "        \n",
    "    def __exit__(self,exc_type,exc_value,exc_traceback):\n",
    "        print(\"you are inside __exit__ block.\")\n",
    "        if self.file:\n",
    "            self.file.close()\n",
    "            # print(\"data appended successfully\")\n",
    "        print(exc_type)"
   ]
  },
  {
   "cell_type": "code",
   "execution_count": null,
   "id": "2221ec20-a0c6-4f4f-b1ec-1e331aee25fa",
   "metadata": {},
   "outputs": [],
   "source": [
    "\n",
    "ans=input(\"enter what you want to add in file\")\n",
    "with FileManager(\"my_file.txt\",\"w\") as fh:\n",
    "    print(\"you are inside with block.\")\n",
    "    fh.write(ans)\n",
    "    # print(variable)"
   ]
  },
  {
   "cell_type": "code",
   "execution_count": null,
   "id": "5f181b52-6228-44bf-97d5-e2ad629e9e2f",
   "metadata": {},
   "outputs": [],
   "source": []
  },
  {
   "cell_type": "code",
   "execution_count": null,
   "id": "2473434a-9ecb-453a-8f29-c7dcc75f8253",
   "metadata": {},
   "outputs": [],
   "source": [
    "with open(\"my_file.txt\",\"r\") as fh:\n",
    "    x=fh.read()\n",
    "    print(x)"
   ]
  },
  {
   "cell_type": "code",
   "execution_count": null,
   "id": "d9d9f844-b6c4-4173-9d98-9a7b44d6be84",
   "metadata": {},
   "outputs": [],
   "source": []
  },
  {
   "cell_type": "code",
   "execution_count": 35,
   "id": "be6f7c51-c3f7-4ed0-9026-7ad6589b176e",
   "metadata": {},
   "outputs": [],
   "source": [
    "from contextlib import contextmanager"
   ]
  },
  {
   "cell_type": "code",
   "execution_count": 36,
   "id": "04034e79-9ef6-4158-8cfc-a04a8bfb0dea",
   "metadata": {},
   "outputs": [],
   "source": [
    "@contextmanager\n",
    "def filehandling(filename,mode):\n",
    "    file=open(filename,mode)\n",
    "    yield file\n",
    "    file.close()"
   ]
  },
  {
   "cell_type": "code",
   "execution_count": 37,
   "id": "bae22700-a41f-4072-8a64-787f29e6651f",
   "metadata": {},
   "outputs": [
    {
     "name": "stdout",
     "output_type": "stream",
     "text": [
      "data appened successfully\n"
     ]
    }
   ],
   "source": [
    "with filehandling(\"my_new_file.txt\",\"w\") as fh:\n",
    "    fh.write(\"1234567udbdjdkdghrj454545\")\n",
    "    print(\"data appened successfully\")"
   ]
  },
  {
   "cell_type": "code",
   "execution_count": null,
   "id": "ef9a81be-3e55-4622-a045-8bf1db49e6cd",
   "metadata": {},
   "outputs": [],
   "source": []
  },
  {
   "cell_type": "code",
   "execution_count": 38,
   "id": "b67e8e1b-1754-4936-a234-4a840617ad34",
   "metadata": {},
   "outputs": [
    {
     "name": "stdout",
     "output_type": "stream",
     "text": [
      "1234567udbdjdkdghrj454545\n"
     ]
    }
   ],
   "source": [
    "with open(\"my_new_file.txt\",\"r\") as fh:\n",
    "    x=fh.read()\n",
    "    print(x)"
   ]
  },
  {
   "cell_type": "code",
   "execution_count": null,
   "id": "38df9274-48c0-4b08-96bf-bef9622cf875",
   "metadata": {},
   "outputs": [],
   "source": []
  },
  {
   "cell_type": "code",
   "execution_count": 39,
   "id": "3acb7fd4-c155-42cf-8e69-a6db94d2f4b2",
   "metadata": {},
   "outputs": [],
   "source": [
    "from contextlib import contextmanager"
   ]
  },
  {
   "cell_type": "code",
   "execution_count": 40,
   "id": "945c4f7c-de1c-450a-9ae6-c13c48063a04",
   "metadata": {},
   "outputs": [],
   "source": [
    "@contextmanager\n",
    "def contextmanager123(filename,mode):\n",
    "    file=open(filename,mode)\n",
    "    yield file\n",
    "    file.close()"
   ]
  },
  {
   "cell_type": "code",
   "execution_count": 41,
   "id": "fc2d9c26-4f65-4f40-8367-d3ef02c42edb",
   "metadata": {},
   "outputs": [
    {
     "name": "stdin",
     "output_type": "stream",
     "text": [
      "Enter file name: my_file\n",
      "Enter mode: w\n",
      "Enter data: siddhant oza & sanidhya naik\n"
     ]
    },
    {
     "name": "stdout",
     "output_type": "stream",
     "text": [
      "data appended successfully.\n"
     ]
    }
   ],
   "source": [
    "filename=input(\"Enter file name:\")+\".txt\"\n",
    "mode=input(\"Enter mode:\")\n",
    "data=input(\"Enter data:\")\n",
    "\n",
    "with contextmanager123(filename,mode) as fh:\n",
    "    fh.write(data)\n",
    "    print(\"data appended successfully.\")"
   ]
  },
  {
   "cell_type": "code",
   "execution_count": null,
   "id": "d281b277-7de5-48e8-b382-1b70a220edd7",
   "metadata": {},
   "outputs": [],
   "source": []
  },
  {
   "cell_type": "code",
   "execution_count": 42,
   "id": "9d1158e9-0a8f-4391-99e9-0645b0661504",
   "metadata": {},
   "outputs": [
    {
     "name": "stdout",
     "output_type": "stream",
     "text": [
      "siddhant oza & sanidhya naik\n"
     ]
    }
   ],
   "source": [
    "with open(\"my_file.txt\",\"r\") as fh:\n",
    "    x=fh.read()\n",
    "    print(x)"
   ]
  },
  {
   "cell_type": "code",
   "execution_count": null,
   "id": "ae87c0d8-785c-4888-aa45-70fc99e4cd1d",
   "metadata": {},
   "outputs": [],
   "source": []
  }
 ],
 "metadata": {
  "kernelspec": {
   "display_name": "Python 3 (ipykernel)",
   "language": "python",
   "name": "python3"
  },
  "language_info": {
   "codemirror_mode": {
    "name": "ipython",
    "version": 3
   },
   "file_extension": ".py",
   "mimetype": "text/x-python",
   "name": "python",
   "nbconvert_exporter": "python",
   "pygments_lexer": "ipython3",
   "version": "3.12.3"
  }
 },
 "nbformat": 4,
 "nbformat_minor": 5
}
