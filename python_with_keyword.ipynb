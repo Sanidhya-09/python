{
 "cells": [
  {
   "cell_type": "code",
   "execution_count": 2,
   "id": "e18afab2-b9f0-4888-a6fe-9666dcac5b08",
   "metadata": {},
   "outputs": [],
   "source": [
    "fh=open(\"info.txt\",\"r\")"
   ]
  },
  {
   "cell_type": "code",
   "execution_count": 3,
   "id": "2d381b43-3c2d-4e97-a72c-f2b013ee9f02",
   "metadata": {},
   "outputs": [
    {
     "data": {
      "text/plain": [
       "'SANIDHYA 2004 25000 21\\nSIDDHANT 2003 20000 22\\nRAJ 2002 15000 25\\nTOM 1999 30500 27\\n'"
      ]
     },
     "execution_count": 3,
     "metadata": {},
     "output_type": "execute_result"
    }
   ],
   "source": [
    "fh.read()"
   ]
  },
  {
   "cell_type": "code",
   "execution_count": 5,
   "id": "9aefebc8-e458-412e-ba83-1c83a77e5fc3",
   "metadata": {},
   "outputs": [],
   "source": [
    "fh.close()        #here we have to close the file manully"
   ]
  },
  {
   "cell_type": "code",
   "execution_count": null,
   "id": "507138fe-5323-40b6-a010-b38b524e2104",
   "metadata": {},
   "outputs": [],
   "source": []
  },
  {
   "cell_type": "code",
   "execution_count": 9,
   "id": "717cbb38-acad-48c4-82a6-d655a80aa4a4",
   "metadata": {},
   "outputs": [
    {
     "name": "stdout",
     "output_type": "stream",
     "text": [
      "SANIDHYA 2004 25000 21\n",
      "SIDDHANT 2003 20000 22\n",
      "RAJ 2002 15000 25\n",
      "TOM 1999 30500 27\n",
      "\n"
     ]
    }
   ],
   "source": [
    "with open(\"info.txt\",\"r\") as fh:\n",
    "    res=fh.read()\n",
    "    print(res)                                 #here we don't need to close the file with automatically do it"
   ]
  },
  {
   "cell_type": "code",
   "execution_count": 6,
   "id": "54a4f1ca-ed66-40fd-8a43-1ba08ca63831",
   "metadata": {},
   "outputs": [],
   "source": [
    "#dir(open(info.txt))"
   ]
  },
  {
   "cell_type": "code",
   "execution_count": 7,
   "id": "0158264a-37fc-4b4b-9d53-29664752c6e1",
   "metadata": {},
   "outputs": [],
   "source": [
    "# the function which supports (contain) \"__enter__\" and \"__exit__\" they only support with "
   ]
  },
  {
   "cell_type": "code",
   "execution_count": 8,
   "id": "5c874809-1c45-44c9-a64c-7e74bd5c64fa",
   "metadata": {},
   "outputs": [
    {
     "ename": "TypeError",
     "evalue": "'str' object does not support the context manager protocol",
     "output_type": "error",
     "traceback": [
      "\u001b[1;31m---------------------------------------------------------------------------\u001b[0m",
      "\u001b[1;31mTypeError\u001b[0m                                 Traceback (most recent call last)",
      "Cell \u001b[1;32mIn[8], line 1\u001b[0m\n\u001b[1;32m----> 1\u001b[0m \u001b[38;5;28;43;01mwith\u001b[39;49;00m\u001b[43m \u001b[49m\u001b[38;5;124;43m\"\u001b[39;49m\u001b[38;5;124;43msanidhya\u001b[39;49m\u001b[38;5;124;43m\"\u001b[39;49m\u001b[43m \u001b[49m\u001b[38;5;28;43;01mas\u001b[39;49;00m\u001b[43m \u001b[49m\u001b[43mres\u001b[49m\u001b[43m:\u001b[49m\n\u001b[0;32m      2\u001b[0m \u001b[43m    \u001b[49m\u001b[38;5;28;43;01mfor\u001b[39;49;00m\u001b[43m \u001b[49m\u001b[43mi\u001b[49m\u001b[43m \u001b[49m\u001b[38;5;129;43;01min\u001b[39;49;00m\u001b[43m \u001b[49m\u001b[43mres\u001b[49m\u001b[43m:\u001b[49m\n\u001b[0;32m      3\u001b[0m \u001b[43m        \u001b[49m\u001b[38;5;28;43mprint\u001b[39;49m\u001b[43m(\u001b[49m\u001b[43mi\u001b[49m\u001b[43m)\u001b[49m\n",
      "\u001b[1;31mTypeError\u001b[0m: 'str' object does not support the context manager protocol"
     ]
    }
   ],
   "source": [
    "with \"sanidhya\" as res:\n",
    "    for i in res:\n",
    "        print(i)\n",
    "\n",
    "# dir(\"sanidhya\")"
   ]
  },
  {
   "cell_type": "code",
   "execution_count": null,
   "id": "8e68e00d-c174-4b76-87a2-328eeac7b1b8",
   "metadata": {},
   "outputs": [],
   "source": []
  },
  {
   "cell_type": "code",
   "execution_count": null,
   "id": "b17d86b7-3633-4fc4-acfd-ff1c1fe99c7b",
   "metadata": {},
   "outputs": [],
   "source": []
  }
 ],
 "metadata": {
  "kernelspec": {
   "display_name": "Python 3 (ipykernel)",
   "language": "python",
   "name": "python3"
  },
  "language_info": {
   "codemirror_mode": {
    "name": "ipython",
    "version": 3
   },
   "file_extension": ".py",
   "mimetype": "text/x-python",
   "name": "python",
   "nbconvert_exporter": "python",
   "pygments_lexer": "ipython3",
   "version": "3.12.3"
  }
 },
 "nbformat": 4,
 "nbformat_minor": 5
}
