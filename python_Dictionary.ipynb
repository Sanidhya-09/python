{
 "cells": [
  {
   "cell_type": "markdown",
   "id": "04ca2266-0649-49e7-8144-c1638093d8fd",
   "metadata": {},
   "source": [
    "# python dictionary"
   ]
  },
  {
   "cell_type": "code",
   "execution_count": 1,
   "id": "dd42de1a-7cfa-4840-a4c0-494a76b8cc2b",
   "metadata": {},
   "outputs": [],
   "source": [
    "student={\n",
    "    \"name\":[\"sanidhya\",\"nikita\",\"shreyash\"],\n",
    "    \"remark\":[\"ok\",\"good\",\"excelant\"],\n",
    "    \"mob\":[9850734494,8010566988,8055242696]\n",
    "}"
   ]
  },
  {
   "cell_type": "code",
   "execution_count": 2,
   "id": "fd86f781-e05b-4a49-b79d-9914dfee0712",
   "metadata": {},
   "outputs": [
    {
     "name": "stdout",
     "output_type": "stream",
     "text": [
      "{'name': ['sanidhya', 'nikita', 'shreyash'], 'remark': ['ok', 'good', 'excelant'], 'mob': [9850734494, 8010566988, 8055242696]}\n"
     ]
    }
   ],
   "source": [
    "print(student)"
   ]
  },
  {
   "cell_type": "code",
   "execution_count": 3,
   "id": "dfaf2735-253c-4d20-a508-35cbf594142c",
   "metadata": {},
   "outputs": [
    {
     "name": "stdout",
     "output_type": "stream",
     "text": [
      "['sanidhya', 'nikita', 'shreyash']\n"
     ]
    }
   ],
   "source": [
    "print(student[\"name\"])"
   ]
  },
  {
   "cell_type": "code",
   "execution_count": 4,
   "id": "0cb5eb2b-7698-43b2-ab7c-2cd60b66cea2",
   "metadata": {},
   "outputs": [
    {
     "name": "stdout",
     "output_type": "stream",
     "text": [
      "[9850734494, 8010566988, 8055242696]\n"
     ]
    }
   ],
   "source": [
    "print(student[\"mob\"])"
   ]
  },
  {
   "cell_type": "code",
   "execution_count": 5,
   "id": "3a1d4780-2efc-41df-8c37-e8b8d304e0e0",
   "metadata": {},
   "outputs": [
    {
     "name": "stdout",
     "output_type": "stream",
     "text": [
      "shreyash\n"
     ]
    }
   ],
   "source": [
    "print(student[\"name\"][2])"
   ]
  },
  {
   "cell_type": "code",
   "execution_count": 6,
   "id": "81ffaf35-262e-4232-83d9-1deb4b55006e",
   "metadata": {},
   "outputs": [
    {
     "name": "stdout",
     "output_type": "stream",
     "text": [
      "['sanidhya', 'nikita']\n"
     ]
    }
   ],
   "source": [
    "print(student[\"name\"][0:2])      #here we can perform all operation which are applicable on list"
   ]
  },
  {
   "cell_type": "code",
   "execution_count": 7,
   "id": "2d60befd-1252-4833-9b92-08228189bddc",
   "metadata": {},
   "outputs": [],
   "source": [
    "student[\"name\"].insert(0,\"siddhant\")"
   ]
  },
  {
   "cell_type": "code",
   "execution_count": 8,
   "id": "3f22716a-cd22-4d43-980f-1dfe5cd47046",
   "metadata": {},
   "outputs": [
    {
     "data": {
      "text/plain": [
       "['siddhant', 'sanidhya', 'nikita', 'shreyash']"
      ]
     },
     "execution_count": 8,
     "metadata": {},
     "output_type": "execute_result"
    }
   ],
   "source": [
    "student[\"name\"]"
   ]
  },
  {
   "cell_type": "code",
   "execution_count": 9,
   "id": "aad4005d-28b7-49ef-931f-3adafa946836",
   "metadata": {},
   "outputs": [],
   "source": [
    "student[\"mob\"].insert(0,9021075151)"
   ]
  },
  {
   "cell_type": "code",
   "execution_count": 10,
   "id": "b927d851-dc64-4c29-bc39-12d70f839681",
   "metadata": {},
   "outputs": [
    {
     "data": {
      "text/plain": [
       "[9021075151, 9850734494, 8010566988, 8055242696]"
      ]
     },
     "execution_count": 10,
     "metadata": {},
     "output_type": "execute_result"
    }
   ],
   "source": [
    "student[\"mob\"]"
   ]
  },
  {
   "cell_type": "code",
   "execution_count": 11,
   "id": "ebe3d2b6-bb13-4d3e-af05-26e1c7f4701b",
   "metadata": {},
   "outputs": [],
   "source": [
    "# student.keys()\n",
    "# student.values()\n",
    "# del student[\"key\"]"
   ]
  },
  {
   "cell_type": "code",
   "execution_count": null,
   "id": "f55ca9b7-6b50-455e-be72-f672443930c9",
   "metadata": {},
   "outputs": [],
   "source": []
  },
  {
   "cell_type": "code",
   "execution_count": null,
   "id": "f1b46f75-ba14-4696-8be4-9cbf2af3d0ab",
   "metadata": {},
   "outputs": [],
   "source": []
  },
  {
   "cell_type": "code",
   "execution_count": 12,
   "id": "92ca2326-606f-4848-b876-7001f4b90285",
   "metadata": {},
   "outputs": [],
   "source": [
    "# not efficient to use numpy here it is not possible...!"
   ]
  },
  {
   "cell_type": "code",
   "execution_count": 13,
   "id": "827e5e46-1529-4a83-9ffe-fcee16a644a1",
   "metadata": {},
   "outputs": [],
   "source": [
    "import numpy as np"
   ]
  },
  {
   "cell_type": "code",
   "execution_count": 14,
   "id": "5861c64a-93d4-4cf2-b711-10e9c50d9170",
   "metadata": {},
   "outputs": [],
   "source": [
    "newStudent=np.array(student)"
   ]
  },
  {
   "cell_type": "code",
   "execution_count": 15,
   "id": "28636ed9-3814-4950-8b53-dbd103c4f3b5",
   "metadata": {},
   "outputs": [
    {
     "ename": "SyntaxError",
     "evalue": "invalid syntax (1047492779.py, line 1)",
     "output_type": "error",
     "traceback": [
      "\u001b[1;36m  Cell \u001b[1;32mIn[15], line 1\u001b[1;36m\u001b[0m\n\u001b[1;33m    newStudent[]\u001b[0m\n\u001b[1;37m               ^\u001b[0m\n\u001b[1;31mSyntaxError\u001b[0m\u001b[1;31m:\u001b[0m invalid syntax\n"
     ]
    }
   ],
   "source": [
    "newStudent[]"
   ]
  },
  {
   "cell_type": "code",
   "execution_count": 16,
   "id": "d77f69b6-b835-4242-9499-aff75d6d525c",
   "metadata": {},
   "outputs": [],
   "source": [
    "student[\"remark\"].append(\"bad\")"
   ]
  },
  {
   "cell_type": "markdown",
   "id": "c856c635-51e3-4399-87a8-05ac52496ff7",
   "metadata": {},
   "source": [
    "# data Frame"
   ]
  },
  {
   "cell_type": "code",
   "execution_count": 17,
   "id": "0de25059-23d6-48bb-a59d-564bb448fce6",
   "metadata": {},
   "outputs": [],
   "source": [
    "import pandas as pd"
   ]
  },
  {
   "cell_type": "code",
   "execution_count": 18,
   "id": "4a3f7901-5cb8-4725-8295-19559df073bd",
   "metadata": {},
   "outputs": [],
   "source": [
    "my_database=pd.DataFrame(student)"
   ]
  },
  {
   "cell_type": "code",
   "execution_count": 19,
   "id": "3ba922dd-9417-4874-b179-c1fc3cd3a4d9",
   "metadata": {},
   "outputs": [
    {
     "data": {
      "text/html": [
       "<div>\n",
       "<style scoped>\n",
       "    .dataframe tbody tr th:only-of-type {\n",
       "        vertical-align: middle;\n",
       "    }\n",
       "\n",
       "    .dataframe tbody tr th {\n",
       "        vertical-align: top;\n",
       "    }\n",
       "\n",
       "    .dataframe thead th {\n",
       "        text-align: right;\n",
       "    }\n",
       "</style>\n",
       "<table border=\"1\" class=\"dataframe\">\n",
       "  <thead>\n",
       "    <tr style=\"text-align: right;\">\n",
       "      <th></th>\n",
       "      <th>name</th>\n",
       "      <th>remark</th>\n",
       "      <th>mob</th>\n",
       "    </tr>\n",
       "  </thead>\n",
       "  <tbody>\n",
       "    <tr>\n",
       "      <th>0</th>\n",
       "      <td>siddhant</td>\n",
       "      <td>ok</td>\n",
       "      <td>9021075151</td>\n",
       "    </tr>\n",
       "    <tr>\n",
       "      <th>1</th>\n",
       "      <td>sanidhya</td>\n",
       "      <td>good</td>\n",
       "      <td>9850734494</td>\n",
       "    </tr>\n",
       "    <tr>\n",
       "      <th>2</th>\n",
       "      <td>nikita</td>\n",
       "      <td>excelant</td>\n",
       "      <td>8010566988</td>\n",
       "    </tr>\n",
       "    <tr>\n",
       "      <th>3</th>\n",
       "      <td>shreyash</td>\n",
       "      <td>bad</td>\n",
       "      <td>8055242696</td>\n",
       "    </tr>\n",
       "  </tbody>\n",
       "</table>\n",
       "</div>"
      ],
      "text/plain": [
       "       name    remark         mob\n",
       "0  siddhant        ok  9021075151\n",
       "1  sanidhya      good  9850734494\n",
       "2    nikita  excelant  8010566988\n",
       "3  shreyash       bad  8055242696"
      ]
     },
     "execution_count": 19,
     "metadata": {},
     "output_type": "execute_result"
    }
   ],
   "source": [
    "my_database"
   ]
  },
  {
   "cell_type": "code",
   "execution_count": null,
   "id": "b6abfa55-3614-4042-9711-7c9c577e9975",
   "metadata": {},
   "outputs": [],
   "source": []
  },
  {
   "cell_type": "code",
   "execution_count": null,
   "id": "198740b8-7415-415c-b670-75f7c35ed726",
   "metadata": {},
   "outputs": [],
   "source": []
  },
  {
   "cell_type": "code",
   "execution_count": 20,
   "id": "04219594-c24e-4fcf-8057-0772266cd49e",
   "metadata": {},
   "outputs": [
    {
     "data": {
      "text/plain": [
       "0    siddhant\n",
       "1    sanidhya\n",
       "2      nikita\n",
       "3    shreyash\n",
       "Name: name, dtype: object"
      ]
     },
     "execution_count": 20,
     "metadata": {},
     "output_type": "execute_result"
    }
   ],
   "source": [
    "my_database[\"name\"]"
   ]
  },
  {
   "cell_type": "code",
   "execution_count": 21,
   "id": "598e0bf1-0848-4414-8da6-15927a7397bd",
   "metadata": {},
   "outputs": [
    {
     "data": {
      "text/plain": [
       "'nikita'"
      ]
     },
     "execution_count": 21,
     "metadata": {},
     "output_type": "execute_result"
    }
   ],
   "source": [
    "my_database[\"name\"][2]"
   ]
  },
  {
   "cell_type": "code",
   "execution_count": null,
   "id": "c12dcdf1-fe4c-4eec-8a7a-46381cc5e6e4",
   "metadata": {},
   "outputs": [],
   "source": []
  },
  {
   "cell_type": "code",
   "execution_count": 22,
   "id": "55b0a9c1-bfd0-47e1-a77e-95ebcc248dc7",
   "metadata": {},
   "outputs": [
    {
     "data": {
      "text/html": [
       "<div>\n",
       "<style scoped>\n",
       "    .dataframe tbody tr th:only-of-type {\n",
       "        vertical-align: middle;\n",
       "    }\n",
       "\n",
       "    .dataframe tbody tr th {\n",
       "        vertical-align: top;\n",
       "    }\n",
       "\n",
       "    .dataframe thead th {\n",
       "        text-align: right;\n",
       "    }\n",
       "</style>\n",
       "<table border=\"1\" class=\"dataframe\">\n",
       "  <thead>\n",
       "    <tr style=\"text-align: right;\">\n",
       "      <th></th>\n",
       "      <th>name</th>\n",
       "      <th>mob</th>\n",
       "    </tr>\n",
       "  </thead>\n",
       "  <tbody>\n",
       "    <tr>\n",
       "      <th>0</th>\n",
       "      <td>siddhant</td>\n",
       "      <td>9021075151</td>\n",
       "    </tr>\n",
       "    <tr>\n",
       "      <th>1</th>\n",
       "      <td>sanidhya</td>\n",
       "      <td>9850734494</td>\n",
       "    </tr>\n",
       "    <tr>\n",
       "      <th>2</th>\n",
       "      <td>nikita</td>\n",
       "      <td>8010566988</td>\n",
       "    </tr>\n",
       "    <tr>\n",
       "      <th>3</th>\n",
       "      <td>shreyash</td>\n",
       "      <td>8055242696</td>\n",
       "    </tr>\n",
       "  </tbody>\n",
       "</table>\n",
       "</div>"
      ],
      "text/plain": [
       "       name         mob\n",
       "0  siddhant  9021075151\n",
       "1  sanidhya  9850734494\n",
       "2    nikita  8010566988\n",
       "3  shreyash  8055242696"
      ]
     },
     "execution_count": 22,
     "metadata": {},
     "output_type": "execute_result"
    }
   ],
   "source": [
    "my_database[[\"name\",\"mob\"]]"
   ]
  },
  {
   "cell_type": "code",
   "execution_count": null,
   "id": "83df0592-ba86-4901-890c-742a419675f1",
   "metadata": {},
   "outputs": [],
   "source": []
  },
  {
   "cell_type": "code",
   "execution_count": null,
   "id": "0f5cd840-699f-471a-a8a4-7f763de29ae0",
   "metadata": {},
   "outputs": [],
   "source": []
  },
  {
   "cell_type": "code",
   "execution_count": 23,
   "id": "5b11dc79-db0a-49a6-8f20-045aa0a4ba86",
   "metadata": {},
   "outputs": [
    {
     "data": {
      "text/plain": [
       "name          nikita\n",
       "remark      excelant\n",
       "mob       8010566988\n",
       "Name: 2, dtype: object"
      ]
     },
     "execution_count": 23,
     "metadata": {},
     "output_type": "execute_result"
    }
   ],
   "source": [
    "my_database.loc[2]"
   ]
  },
  {
   "cell_type": "code",
   "execution_count": 24,
   "id": "7b06c219-4051-4b5f-93e2-5ac990e6bd35",
   "metadata": {},
   "outputs": [
    {
     "data": {
      "text/html": [
       "<div>\n",
       "<style scoped>\n",
       "    .dataframe tbody tr th:only-of-type {\n",
       "        vertical-align: middle;\n",
       "    }\n",
       "\n",
       "    .dataframe tbody tr th {\n",
       "        vertical-align: top;\n",
       "    }\n",
       "\n",
       "    .dataframe thead th {\n",
       "        text-align: right;\n",
       "    }\n",
       "</style>\n",
       "<table border=\"1\" class=\"dataframe\">\n",
       "  <thead>\n",
       "    <tr style=\"text-align: right;\">\n",
       "      <th></th>\n",
       "      <th>name</th>\n",
       "      <th>remark</th>\n",
       "      <th>mob</th>\n",
       "    </tr>\n",
       "  </thead>\n",
       "  <tbody>\n",
       "    <tr>\n",
       "      <th>2</th>\n",
       "      <td>nikita</td>\n",
       "      <td>excelant</td>\n",
       "      <td>8010566988</td>\n",
       "    </tr>\n",
       "    <tr>\n",
       "      <th>1</th>\n",
       "      <td>sanidhya</td>\n",
       "      <td>good</td>\n",
       "      <td>9850734494</td>\n",
       "    </tr>\n",
       "  </tbody>\n",
       "</table>\n",
       "</div>"
      ],
      "text/plain": [
       "       name    remark         mob\n",
       "2    nikita  excelant  8010566988\n",
       "1  sanidhya      good  9850734494"
      ]
     },
     "execution_count": 24,
     "metadata": {},
     "output_type": "execute_result"
    }
   ],
   "source": [
    "my_database.loc[ [2,1] ]"
   ]
  },
  {
   "cell_type": "code",
   "execution_count": null,
   "id": "3c9fb218-d3b0-443c-b168-d6d338aaaa11",
   "metadata": {},
   "outputs": [],
   "source": []
  }
 ],
 "metadata": {
  "kernelspec": {
   "display_name": "Python 3 (ipykernel)",
   "language": "python",
   "name": "python3"
  },
  "language_info": {
   "codemirror_mode": {
    "name": "ipython",
    "version": 3
   },
   "file_extension": ".py",
   "mimetype": "text/x-python",
   "name": "python",
   "nbconvert_exporter": "python",
   "pygments_lexer": "ipython3",
   "version": "3.12.3"
  }
 },
 "nbformat": 4,
 "nbformat_minor": 5
}
