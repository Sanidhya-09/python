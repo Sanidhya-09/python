{
 "cells": [
  {
   "cell_type": "code",
   "execution_count": 1,
   "id": "fb93da6a-d314-4bb7-8c77-42001252d814",
   "metadata": {},
   "outputs": [],
   "source": [
    "#abstract class , concrete class  , interface"
   ]
  },
  {
   "cell_type": "code",
   "execution_count": 2,
   "id": "89de37fd-9dd4-4d7c-b985-e1fb0b4e7cbe",
   "metadata": {},
   "outputs": [],
   "source": [
    "from abc import ABC,abstractmethod"
   ]
  },
  {
   "cell_type": "code",
   "execution_count": 3,
   "id": "c8b0056a-5300-458c-91b4-e1d68aa2b120",
   "metadata": {},
   "outputs": [],
   "source": [
    "class Shape(ABC):\n",
    "    \n",
    "    @abstractmethod\n",
    "    def area(self):                                            #this is a abstract class...\n",
    "        pass\n",
    "        \n",
    "    @abstractmethod\n",
    "    def perimeter(self):\n",
    "        pass\n",
    "\n",
    "    def greet(self):\n",
    "        return f\"Welcome to my Program...!\""
   ]
  },
  {
   "cell_type": "code",
   "execution_count": 4,
   "id": "2efcfbb8-168e-4798-8473-6b5339ada736",
   "metadata": {},
   "outputs": [],
   "source": [
    "class Circle(Shape):\n",
    "    def __init__(self,radius):\n",
    "        self.radius=radius\n",
    "        \n",
    "    def area(self):\n",
    "        return f\"Area of circle is {3.14 * (self.radius**2)}\"\n",
    "\n",
    "    def perimeter(self):\n",
    "        return f\"Perimeter of circle is {2 * 3.14 * self.radius}\""
   ]
  },
  {
   "cell_type": "code",
   "execution_count": 5,
   "id": "a2d361da-263f-489c-b221-9ac423fb27c5",
   "metadata": {},
   "outputs": [],
   "source": [
    "circle1=Circle(15)"
   ]
  },
  {
   "cell_type": "code",
   "execution_count": 6,
   "id": "79c9f03f-fa4e-48c4-86b7-9364d325e06f",
   "metadata": {},
   "outputs": [
    {
     "data": {
      "text/plain": [
       "'Area of circle is 706.5'"
      ]
     },
     "execution_count": 6,
     "metadata": {},
     "output_type": "execute_result"
    }
   ],
   "source": [
    "circle1.area()"
   ]
  },
  {
   "cell_type": "code",
   "execution_count": 7,
   "id": "2782568e-c726-4836-8263-5b885b08dea9",
   "metadata": {},
   "outputs": [
    {
     "data": {
      "text/plain": [
       "'Perimeter of circle is 94.2'"
      ]
     },
     "execution_count": 7,
     "metadata": {},
     "output_type": "execute_result"
    }
   ],
   "source": [
    "circle1.perimeter()"
   ]
  },
  {
   "cell_type": "code",
   "execution_count": null,
   "id": "31ed12eb-7255-475d-8dc5-8a8b44078dc7",
   "metadata": {},
   "outputs": [],
   "source": []
  },
  {
   "cell_type": "code",
   "execution_count": null,
   "id": "efab450b-2f6a-4d1f-aa3a-35a8b4ca46c2",
   "metadata": {},
   "outputs": [],
   "source": []
  },
  {
   "cell_type": "code",
   "execution_count": 8,
   "id": "bcb6ef92-8362-44a2-a8a0-c0b8d8ec894b",
   "metadata": {},
   "outputs": [],
   "source": [
    "class Rectangle(Shape):\n",
    "    \n",
    "    def __init__(self,length,breadth):\n",
    "        self.length=length\n",
    "        self.breadth=breadth\n",
    "        \n",
    "    def area(self):\n",
    "        return f\"Area of rectangle is {self.length * self.breadth}\"\n",
    "\n",
    "    def perimeter(self):\n",
    "        return f\"Perimeter of rectangle is {2 * (self.length + self.breadth)}\""
   ]
  },
  {
   "cell_type": "code",
   "execution_count": 9,
   "id": "a204ebf7-8628-4906-b700-9d0d7a7a498b",
   "metadata": {},
   "outputs": [],
   "source": [
    "rect1=Rectangle(5,8)"
   ]
  },
  {
   "cell_type": "code",
   "execution_count": 10,
   "id": "1c9ee26d-4d61-447f-bd6a-a4c3f4915f70",
   "metadata": {},
   "outputs": [
    {
     "data": {
      "text/plain": [
       "'Perimeter of rectangle is 26'"
      ]
     },
     "execution_count": 10,
     "metadata": {},
     "output_type": "execute_result"
    }
   ],
   "source": [
    "rect1.perimeter()"
   ]
  },
  {
   "cell_type": "code",
   "execution_count": 11,
   "id": "14f564d5-5b36-48b6-a866-f43ccb93008e",
   "metadata": {},
   "outputs": [
    {
     "data": {
      "text/plain": [
       "'Area of rectangle is 40'"
      ]
     },
     "execution_count": 11,
     "metadata": {},
     "output_type": "execute_result"
    }
   ],
   "source": [
    "rect1.area()"
   ]
  },
  {
   "cell_type": "code",
   "execution_count": null,
   "id": "50e587fb-fc02-4a87-910b-e515aebfc694",
   "metadata": {},
   "outputs": [],
   "source": []
  },
  {
   "cell_type": "code",
   "execution_count": 12,
   "id": "8943ae97-9b59-4429-a94a-0b8f7e099ddb",
   "metadata": {},
   "outputs": [],
   "source": [
    "# concrete class (normal class)"
   ]
  },
  {
   "cell_type": "code",
   "execution_count": 13,
   "id": "03a4c285-efde-4ba9-a9aa-52bbc891ece8",
   "metadata": {},
   "outputs": [],
   "source": [
    "class Student:\n",
    "    def __init__(self,name,age,std):\n",
    "        self.name=name                                                 #concrete (normal class) class\n",
    "        self.age=age\n",
    "        self.std=std\n",
    "\n",
    "    def greet(self):\n",
    "        return f\"name of student is {self.name} and age is {self.age} and studies in standard {self.std}\""
   ]
  },
  {
   "cell_type": "code",
   "execution_count": 14,
   "id": "e9d7d8b5-22ca-4844-8023-a925f71b80ba",
   "metadata": {},
   "outputs": [],
   "source": [
    "stud1=Student(\"sanidhya\",22,\"4th year\")"
   ]
  },
  {
   "cell_type": "code",
   "execution_count": 15,
   "id": "c58a4091-2968-43e6-a9e5-cb27f959e573",
   "metadata": {},
   "outputs": [
    {
     "data": {
      "text/plain": [
       "'name of student is sanidhya and age is 22 and studies in standard 4th year'"
      ]
     },
     "execution_count": 15,
     "metadata": {},
     "output_type": "execute_result"
    }
   ],
   "source": [
    "stud1.greet()"
   ]
  },
  {
   "cell_type": "code",
   "execution_count": null,
   "id": "c6cfde2e-0667-467d-b09d-4823db622747",
   "metadata": {},
   "outputs": [],
   "source": []
  },
  {
   "cell_type": "code",
   "execution_count": 16,
   "id": "a8a7a64a-c573-457e-84ea-0b16ae771548",
   "metadata": {},
   "outputs": [],
   "source": [
    "# interface                  (contain only abstract method in base class not anything else)"
   ]
  },
  {
   "cell_type": "code",
   "execution_count": 17,
   "id": "2e337abc-35e9-49dc-b582-0992b4ae9b5a",
   "metadata": {},
   "outputs": [],
   "source": [
    "class Shape(ABC):\n",
    "    \n",
    "    @abstractmethod\n",
    "    def area(self):                                            #this is a interface...!\n",
    "        pass\n",
    "        \n",
    "    @abstractmethod\n",
    "    def perimeter(self):\n",
    "        pass\n",
    "\n",
    "    @abstractmethod\n",
    "    def fencingPrice(self):\n",
    "        pass"
   ]
  },
  {
   "cell_type": "code",
   "execution_count": null,
   "id": "2d38e10e-c8f1-4e9a-8c70-3fa68b7e5267",
   "metadata": {},
   "outputs": [],
   "source": []
  }
 ],
 "metadata": {
  "kernelspec": {
   "display_name": "Python 3 (ipykernel)",
   "language": "python",
   "name": "python3"
  },
  "language_info": {
   "codemirror_mode": {
    "name": "ipython",
    "version": 3
   },
   "file_extension": ".py",
   "mimetype": "text/x-python",
   "name": "python",
   "nbconvert_exporter": "python",
   "pygments_lexer": "ipython3",
   "version": "3.12.3"
  }
 },
 "nbformat": 4,
 "nbformat_minor": 5
}
