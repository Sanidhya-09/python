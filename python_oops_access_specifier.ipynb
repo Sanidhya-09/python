{
 "cells": [
  {
   "cell_type": "code",
   "execution_count": 1,
   "id": "d10392f7-872c-4c07-adb2-9aba0f1d4bf9",
   "metadata": {},
   "outputs": [],
   "source": [
    "class Student:\n",
    "    class_teacher=\"S.S Chougule\"       #public access modifiers     anyone can access it\n",
    "    Topic=\"Maths\"\n",
    "\n",
    "    def __init__(self,name,std,rollNo,marks,gender):\n",
    "        self.name=name\n",
    "        self.std=std\n",
    "        self.rollNo=rollNo                    \n",
    "        self._marks=marks               #protected(_) access modifiers      only its subclasses can access it\n",
    "        \n",
    "        self.__gender=gender            #private(__) access modifiers       only baseclass can access it"
   ]
  },
  {
   "cell_type": "code",
   "execution_count": 2,
   "id": "5a512f6b-dd1f-4b7e-941f-78ac0c85d4c6",
   "metadata": {},
   "outputs": [],
   "source": [
    "stud1=Student(\"prem\",8,24,88,\"male\")"
   ]
  },
  {
   "cell_type": "code",
   "execution_count": 3,
   "id": "ca555717-03e3-4f6d-ab80-1617a7dbf977",
   "metadata": {},
   "outputs": [
    {
     "data": {
      "text/plain": [
       "{'name': 'prem',\n",
       " 'std': 8,\n",
       " 'rollNo': 24,\n",
       " '_marks': 88,\n",
       " '_Student__gender': 'male'}"
      ]
     },
     "execution_count": 3,
     "metadata": {},
     "output_type": "execute_result"
    }
   ],
   "source": [
    "stud1.__dict__"
   ]
  },
  {
   "cell_type": "code",
   "execution_count": 4,
   "id": "275048b3-75ba-4eda-83aa-c34340d9d725",
   "metadata": {},
   "outputs": [
    {
     "ename": "AttributeError",
     "evalue": "'Student' object has no attribute 'marks'",
     "output_type": "error",
     "traceback": [
      "\u001b[1;31m---------------------------------------------------------------------------\u001b[0m",
      "\u001b[1;31mAttributeError\u001b[0m                            Traceback (most recent call last)",
      "Cell \u001b[1;32mIn[4], line 1\u001b[0m\n\u001b[1;32m----> 1\u001b[0m \u001b[43mstud1\u001b[49m\u001b[38;5;241;43m.\u001b[39;49m\u001b[43mmarks\u001b[49m          \u001b[38;5;66;03m#can not access it because it is protected\u001b[39;00m\n",
      "\u001b[1;31mAttributeError\u001b[0m: 'Student' object has no attribute 'marks'"
     ]
    }
   ],
   "source": [
    "stud1.marks          #can not access it because it is protected"
   ]
  },
  {
   "cell_type": "code",
   "execution_count": 5,
   "id": "f095a6e6-0535-46d8-85da-eb488b94ada7",
   "metadata": {},
   "outputs": [
    {
     "data": {
      "text/plain": [
       "88"
      ]
     },
     "execution_count": 5,
     "metadata": {},
     "output_type": "execute_result"
    }
   ],
   "source": [
    "stud1._marks "
   ]
  },
  {
   "cell_type": "code",
   "execution_count": 6,
   "id": "fb7593eb-a1a0-4c58-a598-43b84e3bb96b",
   "metadata": {},
   "outputs": [
    {
     "name": "stdout",
     "output_type": "stream",
     "text": [
      "Maths\n",
      "S.S Chougule\n"
     ]
    }
   ],
   "source": [
    "print(Student.Topic)\n",
    "print(Student.class_teacher)"
   ]
  },
  {
   "cell_type": "code",
   "execution_count": 7,
   "id": "ebc69455-9aec-4b82-9361-080bb1409b6a",
   "metadata": {},
   "outputs": [
    {
     "name": "stdout",
     "output_type": "stream",
     "text": [
      "S.S Chougule\n",
      "Maths\n"
     ]
    }
   ],
   "source": [
    "print(stud1.class_teacher)\n",
    "print(stud1.Topic)"
   ]
  },
  {
   "cell_type": "code",
   "execution_count": null,
   "id": "5aa7eaf9-5b89-49a2-b93f-528231aa750b",
   "metadata": {},
   "outputs": [],
   "source": []
  },
  {
   "cell_type": "code",
   "execution_count": 8,
   "id": "4081ecb6-874c-4a6b-8726-3fffa5faaa3e",
   "metadata": {},
   "outputs": [
    {
     "data": {
      "text/plain": [
       "'male'"
      ]
     },
     "execution_count": 8,
     "metadata": {},
     "output_type": "execute_result"
    }
   ],
   "source": [
    "# stud1._marks\n",
    "stud1._Student__gender            #here name mangling is performed...!"
   ]
  },
  {
   "cell_type": "code",
   "execution_count": 9,
   "id": "34662b24-1fd7-4a4b-b671-1955cbf21a2e",
   "metadata": {},
   "outputs": [],
   "source": [
    "class Participants(Student):\n",
    "    def __init__(self,name,std,rollNo,marks,gender,answer):\n",
    "        super().__init__(name,std,rollNo,marks,gender)\n",
    "        self.answer=answer"
   ]
  },
  {
   "cell_type": "code",
   "execution_count": 10,
   "id": "3e0e88f1-2d25-406e-9efc-0a26ec6adff5",
   "metadata": {},
   "outputs": [],
   "source": [
    "parti1=Participants(\"yash\",9,55,89,\"male\",\"yes\")"
   ]
  },
  {
   "cell_type": "code",
   "execution_count": 11,
   "id": "a84b90c3-9240-4245-8ecc-1a56b9d58860",
   "metadata": {},
   "outputs": [
    {
     "name": "stdout",
     "output_type": "stream",
     "text": [
      "S.S Chougule\n",
      "Maths\n"
     ]
    }
   ],
   "source": [
    "print(parti1.class_teacher)\n",
    "print(parti1.Topic)"
   ]
  },
  {
   "cell_type": "code",
   "execution_count": 12,
   "id": "97daaf49-d5a6-4cf2-b9ba-680e08a528c3",
   "metadata": {},
   "outputs": [
    {
     "data": {
      "text/plain": [
       "89"
      ]
     },
     "execution_count": 12,
     "metadata": {},
     "output_type": "execute_result"
    }
   ],
   "source": [
    "parti1._marks"
   ]
  },
  {
   "cell_type": "code",
   "execution_count": 13,
   "id": "9e0aa6cb-22da-4bdb-b528-2d9d977cc210",
   "metadata": {},
   "outputs": [
    {
     "data": {
      "text/plain": [
       "'male'"
      ]
     },
     "execution_count": 13,
     "metadata": {},
     "output_type": "execute_result"
    }
   ],
   "source": [
    "parti1._Student__gender "
   ]
  },
  {
   "cell_type": "code",
   "execution_count": null,
   "id": "807526bb-db5f-4e4c-b22a-51f991508ef2",
   "metadata": {},
   "outputs": [],
   "source": []
  },
  {
   "cell_type": "code",
   "execution_count": null,
   "id": "be68b22a-bd55-4c07-bd41-76306bdc8c89",
   "metadata": {},
   "outputs": [],
   "source": []
  },
  {
   "cell_type": "code",
   "execution_count": 14,
   "id": "7b92e2b6-b402-4b96-b7c0-bb67ad505a8b",
   "metadata": {},
   "outputs": [],
   "source": [
    "class Car:\n",
    "    def __init__(self,model,company):\n",
    "        self.model=model\n",
    "        self.company=company"
   ]
  },
  {
   "cell_type": "code",
   "execution_count": 15,
   "id": "9be30177-73ef-459d-97cb-d14892ab9ac3",
   "metadata": {},
   "outputs": [],
   "source": [
    "mycar1=Car(\"nexon\",\"tata\")"
   ]
  },
  {
   "cell_type": "code",
   "execution_count": 16,
   "id": "00c0b72d-e19c-46d1-822e-a7ad926ef442",
   "metadata": {},
   "outputs": [
    {
     "ename": "AttributeError",
     "evalue": "'Car' object has no attribute '_marks'",
     "output_type": "error",
     "traceback": [
      "\u001b[1;31m---------------------------------------------------------------------------\u001b[0m",
      "\u001b[1;31mAttributeError\u001b[0m                            Traceback (most recent call last)",
      "Cell \u001b[1;32mIn[16], line 1\u001b[0m\n\u001b[1;32m----> 1\u001b[0m \u001b[43mmycar1\u001b[49m\u001b[38;5;241;43m.\u001b[39;49m\u001b[43m_marks\u001b[49m\n",
      "\u001b[1;31mAttributeError\u001b[0m: 'Car' object has no attribute '_marks'"
     ]
    }
   ],
   "source": [
    "mycar1._marks"
   ]
  },
  {
   "cell_type": "code",
   "execution_count": null,
   "id": "ed3e99a0-328c-4824-91ab-4b55dac76d6d",
   "metadata": {},
   "outputs": [],
   "source": []
  }
 ],
 "metadata": {
  "kernelspec": {
   "display_name": "Python 3 (ipykernel)",
   "language": "python",
   "name": "python3"
  },
  "language_info": {
   "codemirror_mode": {
    "name": "ipython",
    "version": 3
   },
   "file_extension": ".py",
   "mimetype": "text/x-python",
   "name": "python",
   "nbconvert_exporter": "python",
   "pygments_lexer": "ipython3",
   "version": "3.12.3"
  }
 },
 "nbformat": 4,
 "nbformat_minor": 5
}
