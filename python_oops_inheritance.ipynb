{
 "cells": [
  {
   "cell_type": "markdown",
   "id": "7172833b-967e-4c14-ae7d-4cd9486a607a",
   "metadata": {},
   "source": [
    "Single Inheritance: A subclass inherits from one parent class.\n",
    "\n",
    "Multiple Inheritance: A subclass inherits from more than one parent class.\n",
    "\n",
    "Multilevel Inheritance: A subclass inherits from a parent class, and that parent class inherits from another class.\n",
    "\n",
    "Hierarchical Inheritance: Multiple subclasses inherit from a single parent class.\n",
    "\n",
    "Hybrid Inheritance: A combination of multiple inheritance types."
   ]
  },
  {
   "cell_type": "code",
   "execution_count": 1,
   "id": "411ad6ae-1f96-40bf-93c8-7cd31da16d9a",
   "metadata": {},
   "outputs": [],
   "source": [
    "#parant class 1\n",
    "\n",
    "class car:\n",
    "    def __init__(self,color,brand):\n",
    "        self.color=color\n",
    "        self.brand=brand\n",
    "\n",
    "    def welcome(self):\n",
    "        return f\"Welcome to {self.brand}\""
   ]
  },
  {
   "cell_type": "code",
   "execution_count": 2,
   "id": "e46443af-f92a-44a3-a60e-15073d037ecc",
   "metadata": {},
   "outputs": [],
   "source": [
    "#parant class 2\n",
    "\n",
    "class cartype():\n",
    "    def __init__(self,Type):\n",
    "        self.Type=Type\n",
    "\n",
    "    def wtf(self):\n",
    "        return f\"Your car type is {self.Type}\""
   ]
  },
  {
   "cell_type": "code",
   "execution_count": 3,
   "id": "2a790e92-98eb-4662-90db-16a7189c406b",
   "metadata": {},
   "outputs": [],
   "source": [
    "mycar=car(\"black\",\"hyundai\")"
   ]
  },
  {
   "cell_type": "code",
   "execution_count": 4,
   "id": "1bab3601-be02-476f-ba05-4c1ebb9d1a71",
   "metadata": {},
   "outputs": [
    {
     "data": {
      "text/plain": [
       "'Welcome to hyundai'"
      ]
     },
     "execution_count": 4,
     "metadata": {},
     "output_type": "execute_result"
    }
   ],
   "source": [
    "mycar.welcome()"
   ]
  },
  {
   "cell_type": "code",
   "execution_count": 5,
   "id": "bdfeb115-ca34-4fab-8805-f9b33e10940f",
   "metadata": {},
   "outputs": [
    {
     "data": {
      "text/plain": [
       "{'color': 'black', 'brand': 'hyundai'}"
      ]
     },
     "execution_count": 5,
     "metadata": {},
     "output_type": "execute_result"
    }
   ],
   "source": [
    "mycar.__dict__"
   ]
  },
  {
   "cell_type": "code",
   "execution_count": 6,
   "id": "0e018e2c-2d20-4963-b495-0c54d44da237",
   "metadata": {},
   "outputs": [],
   "source": [
    "x=cartype(\"sedan\")"
   ]
  },
  {
   "cell_type": "code",
   "execution_count": 7,
   "id": "a3d66b61-02b7-4cb6-90fd-ca2915ac8b14",
   "metadata": {},
   "outputs": [
    {
     "data": {
      "text/plain": [
       "'Your car type is sedan'"
      ]
     },
     "execution_count": 7,
     "metadata": {},
     "output_type": "execute_result"
    }
   ],
   "source": [
    "x.wtf()"
   ]
  },
  {
   "cell_type": "code",
   "execution_count": 8,
   "id": "007abd56-48ce-4d8f-a9f7-a87f03f4d057",
   "metadata": {},
   "outputs": [
    {
     "data": {
      "text/plain": [
       "{'Type': 'sedan'}"
      ]
     },
     "execution_count": 8,
     "metadata": {},
     "output_type": "execute_result"
    }
   ],
   "source": [
    "x.__dict__"
   ]
  },
  {
   "cell_type": "code",
   "execution_count": 9,
   "id": "d2060e6e-c28c-4c40-85aa-c1275be59c77",
   "metadata": {},
   "outputs": [],
   "source": [
    "#single inheritance\n",
    "\n",
    "class Electric(car):\n",
    "    def __init__(self,battery,chargingTime,color,brand):\n",
    "        self.battery=battery\n",
    "        self.chargingTime=chargingTime\n",
    "        \n",
    "        super().__init__(color,brand)\n",
    "        \n",
    "    def Time(self):\n",
    "        return f\"Chanrging time is : {self.chargingTime}\""
   ]
  },
  {
   "cell_type": "code",
   "execution_count": 10,
   "id": "a9eb3c88-7ac9-4349-af5f-aeb58792d7bb",
   "metadata": {},
   "outputs": [],
   "source": [
    "mycar2=Electric(\"50kwh\",\"2hrs\",\"green\",\"tesla\")"
   ]
  },
  {
   "cell_type": "code",
   "execution_count": 11,
   "id": "9a7525bb-d599-44a7-b4cb-a58923a26e21",
   "metadata": {},
   "outputs": [
    {
     "data": {
      "text/plain": [
       "'Chanrging time is : 2hrs'"
      ]
     },
     "execution_count": 11,
     "metadata": {},
     "output_type": "execute_result"
    }
   ],
   "source": [
    "mycar2.Time()"
   ]
  },
  {
   "cell_type": "code",
   "execution_count": 12,
   "id": "3936754b-b904-4a62-90ed-1584857c9fa7",
   "metadata": {},
   "outputs": [
    {
     "data": {
      "text/plain": [
       "'green'"
      ]
     },
     "execution_count": 12,
     "metadata": {},
     "output_type": "execute_result"
    }
   ],
   "source": [
    "mycar2.color"
   ]
  },
  {
   "cell_type": "code",
   "execution_count": 13,
   "id": "7d2e5dab-549e-422b-b89b-13a839e0db01",
   "metadata": {},
   "outputs": [
    {
     "data": {
      "text/plain": [
       "'tesla'"
      ]
     },
     "execution_count": 13,
     "metadata": {},
     "output_type": "execute_result"
    }
   ],
   "source": [
    "mycar2.brand"
   ]
  },
  {
   "cell_type": "code",
   "execution_count": 14,
   "id": "310d08fb-5cc2-4210-93e9-e5f146cdf647",
   "metadata": {},
   "outputs": [
    {
     "data": {
      "text/plain": [
       "'Welcome to tesla'"
      ]
     },
     "execution_count": 14,
     "metadata": {},
     "output_type": "execute_result"
    }
   ],
   "source": [
    "mycar2.welcome()"
   ]
  },
  {
   "cell_type": "code",
   "execution_count": 15,
   "id": "0c0e1b22-47bc-4691-beaf-bf74cdaf5b37",
   "metadata": {},
   "outputs": [
    {
     "data": {
      "text/plain": [
       "{'battery': '50kwh',\n",
       " 'chargingTime': '2hrs',\n",
       " 'color': 'green',\n",
       " 'brand': 'tesla'}"
      ]
     },
     "execution_count": 15,
     "metadata": {},
     "output_type": "execute_result"
    }
   ],
   "source": [
    "mycar2.__dict__"
   ]
  },
  {
   "cell_type": "code",
   "execution_count": null,
   "id": "cc49f0c9-8aee-48e3-afb6-5517cc4b58d1",
   "metadata": {},
   "outputs": [],
   "source": []
  },
  {
   "cell_type": "code",
   "execution_count": 20,
   "id": "15785bf5-aeae-4453-986d-73ae62bfd5fb",
   "metadata": {},
   "outputs": [],
   "source": [
    "#multiple inheritance\n",
    "\n",
    "class new(car,cartype):\n",
    "    def __init__(self,ownerName,color,brand,Type):\n",
    "        self.ownerName=ownerName\n",
    "        \n",
    "       # Explicitly calling constructors of parent classes    we cant use super twice in a class\n",
    "        car.__init__(self,color, brand)\n",
    "        cartype.__init__(self,Type)\n",
    "        \n",
    "    def info(self):\n",
    "        return f\"owner name:{self.ownerName} car brand:{self.brand} car color:{self.color} car type:{self.Type}\""
   ]
  },
  {
   "cell_type": "code",
   "execution_count": 21,
   "id": "4455109a-a897-429a-826a-ec0ddeca86fa",
   "metadata": {},
   "outputs": [],
   "source": [
    "mycar3=new(\"sanidhya\",\"Blue\",\"tesla\",\"sedan\")"
   ]
  },
  {
   "cell_type": "code",
   "execution_count": 22,
   "id": "89f361e0-393f-4872-8994-059bb20e3a1c",
   "metadata": {},
   "outputs": [
    {
     "data": {
      "text/plain": [
       "{'ownerName': 'sanidhya', 'color': 'Blue', 'brand': 'tesla', 'Type': 'sedan'}"
      ]
     },
     "execution_count": 22,
     "metadata": {},
     "output_type": "execute_result"
    }
   ],
   "source": [
    "mycar3.__dict__"
   ]
  },
  {
   "cell_type": "code",
   "execution_count": 23,
   "id": "b8f4c2f4-f140-48f0-b0b4-6c638c01c433",
   "metadata": {},
   "outputs": [
    {
     "data": {
      "text/plain": [
       "'owner name:sanidhya car brand:tesla car color:Blue car type:sedan'"
      ]
     },
     "execution_count": 23,
     "metadata": {},
     "output_type": "execute_result"
    }
   ],
   "source": [
    "mycar3.info()"
   ]
  },
  {
   "cell_type": "code",
   "execution_count": null,
   "id": "ba4afc9c-baba-4458-a422-0521fc4f836a",
   "metadata": {},
   "outputs": [],
   "source": []
  },
  {
   "cell_type": "code",
   "execution_count": null,
   "id": "bbf7ed82-c75d-4229-ba26-042dc5d24349",
   "metadata": {},
   "outputs": [],
   "source": [
    "#multi level inheritance...\n",
    "\n",
    "class range1(Electric):\n",
    "    def __init__(self,engine,battery, chargingTime,color,brand):\n",
    "        self.engine=engine\n",
    "        \n",
    "        super().__init__(battery,chargingTime,color,brand)\n",
    "\n",
    "    def description(self):\n",
    "        return f\"your engine type is {self.engine} and charging time is {self.chargingTime}\""
   ]
  },
  {
   "cell_type": "code",
   "execution_count": null,
   "id": "88dd8889-1ef4-4793-b247-1d01e3242667",
   "metadata": {},
   "outputs": [],
   "source": [
    "obj=range1(\"electric\",\"50kwh\",\"4hrs\",\"yellow\",\"mahindra\")"
   ]
  },
  {
   "cell_type": "code",
   "execution_count": null,
   "id": "d1d310d3-cbbd-46b4-8124-df3db5e3be73",
   "metadata": {},
   "outputs": [],
   "source": [
    "obj.description()"
   ]
  },
  {
   "cell_type": "code",
   "execution_count": null,
   "id": "9e1589af-4482-4e07-8201-4bcb1ed5a455",
   "metadata": {},
   "outputs": [],
   "source": []
  }
 ],
 "metadata": {
  "kernelspec": {
   "display_name": "Python 3 (ipykernel)",
   "language": "python",
   "name": "python3"
  },
  "language_info": {
   "codemirror_mode": {
    "name": "ipython",
    "version": 3
   },
   "file_extension": ".py",
   "mimetype": "text/x-python",
   "name": "python",
   "nbconvert_exporter": "python",
   "pygments_lexer": "ipython3",
   "version": "3.12.3"
  }
 },
 "nbformat": 4,
 "nbformat_minor": 5
}
