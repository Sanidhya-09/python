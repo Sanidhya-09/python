{
 "cells": [
  {
   "cell_type": "code",
   "execution_count": 1,
   "id": "f540536f-73a7-400c-ac27-2c08169abedf",
   "metadata": {},
   "outputs": [],
   "source": [
    "import cv2"
   ]
  },
  {
   "cell_type": "code",
   "execution_count": 2,
   "id": "72395e79-faa2-451a-a725-78b068085eec",
   "metadata": {},
   "outputs": [],
   "source": [
    "cam=cv2.VideoCapture(0)"
   ]
  },
  {
   "cell_type": "code",
   "execution_count": 3,
   "id": "9054a53f-866c-44f8-a548-c42b32fce79d",
   "metadata": {},
   "outputs": [
    {
     "name": "stdout",
     "output_type": "stream",
     "text": [
      "True\n"
     ]
    }
   ],
   "source": [
    "status,photo=cam.read()\n",
    "print(status)"
   ]
  },
  {
   "cell_type": "code",
   "execution_count": 4,
   "id": "f64542c5-0141-4813-9c01-b1b065de531e",
   "metadata": {},
   "outputs": [],
   "source": [
    "cv2.imshow(\"my_photo\",photo)\n",
    "cv2.waitKey()\n",
    "cv2.destroyAllWindows()"
   ]
  },
  {
   "cell_type": "code",
   "execution_count": 5,
   "id": "2a2b5059-fbdf-4c5c-81b4-701a4ed2b89c",
   "metadata": {},
   "outputs": [],
   "source": [
    "cam.release()"
   ]
  },
  {
   "cell_type": "code",
   "execution_count": 6,
   "id": "b38028c0-f05f-4029-a219-94abc85ef8a9",
   "metadata": {},
   "outputs": [
    {
     "name": "stdout",
     "output_type": "stream",
     "text": [
      "[[[187 198 196]\n",
      "  [185 196 194]\n",
      "  [186 195 194]\n",
      "  ...\n",
      "  [187 190 191]\n",
      "  [184 189 191]\n",
      "  [181 187 189]]\n",
      "\n",
      " [[187 197 197]\n",
      "  [187 196 196]\n",
      "  [187 195 195]\n",
      "  ...\n",
      "  [184 188 187]\n",
      "  [182 188 187]\n",
      "  [181 188 188]]\n",
      "\n",
      " [[188 197 198]\n",
      "  [188 196 197]\n",
      "  [188 196 197]\n",
      "  ...\n",
      "  [183 188 183]\n",
      "  [184 190 186]\n",
      "  [185 191 187]]\n",
      "\n",
      " ...\n",
      "\n",
      " [[149 149 149]\n",
      "  [148 148 148]\n",
      "  [148 148 148]\n",
      "  ...\n",
      "  [170 105  47]\n",
      "  [168 103  47]\n",
      "  [168 103  48]]\n",
      "\n",
      " [[150 150 150]\n",
      "  [149 149 149]\n",
      "  [149 149 149]\n",
      "  ...\n",
      "  [171 104  45]\n",
      "  [170 104  45]\n",
      "  [169 104  46]]\n",
      "\n",
      " [[148 148 148]\n",
      "  [147 147 147]\n",
      "  [147 147 147]\n",
      "  ...\n",
      "  [170 103  42]\n",
      "  [169 102  42]\n",
      "  [169 103  44]]]\n"
     ]
    }
   ],
   "source": [
    "print(photo)"
   ]
  },
  {
   "cell_type": "code",
   "execution_count": 7,
   "id": "dfea7ee4-c298-4385-8a6e-8bb35792b5e8",
   "metadata": {},
   "outputs": [
    {
     "name": "stdout",
     "output_type": "stream",
     "text": [
      "<class 'numpy.ndarray'>\n"
     ]
    }
   ],
   "source": [
    "print(type(photo))"
   ]
  },
  {
   "cell_type": "code",
   "execution_count": 8,
   "id": "36f8a1ef-91dd-4e39-9b00-ec2861c5d49e",
   "metadata": {},
   "outputs": [
    {
     "name": "stdout",
     "output_type": "stream",
     "text": [
      "3\n"
     ]
    }
   ],
   "source": [
    "print(photo.ndim)"
   ]
  },
  {
   "cell_type": "code",
   "execution_count": 9,
   "id": "f97bc9f8-b55e-4853-93c8-63b68f7b6434",
   "metadata": {},
   "outputs": [
    {
     "name": "stdout",
     "output_type": "stream",
     "text": [
      "(480, 640, 3)\n"
     ]
    }
   ],
   "source": [
    "print(photo.shape)"
   ]
  },
  {
   "cell_type": "code",
   "execution_count": 10,
   "id": "74364293-b818-403c-a3db-442aeb4ef1c0",
   "metadata": {},
   "outputs": [
    {
     "name": "stdout",
     "output_type": "stream",
     "text": [
      "[186 200 196]\n"
     ]
    }
   ],
   "source": [
    "print(photo[10,15])"
   ]
  },
  {
   "cell_type": "code",
   "execution_count": 11,
   "id": "c2cba3a6-998d-4098-82fc-db750fbaaf48",
   "metadata": {},
   "outputs": [
    {
     "name": "stdout",
     "output_type": "stream",
     "text": [
      "[[[189 198 197]\n",
      "  [191 199 198]\n",
      "  [191 201 199]\n",
      "  ...\n",
      "  [196 208 206]\n",
      "  [197 209 206]\n",
      "  [200 211 206]]\n",
      "\n",
      " [[190 198 197]\n",
      "  [192 200 199]\n",
      "  [192 202 200]\n",
      "  ...\n",
      "  [197 209 207]\n",
      "  [199 210 207]\n",
      "  [199 211 206]]\n",
      "\n",
      " [[190 198 197]\n",
      "  [192 200 199]\n",
      "  [191 201 199]\n",
      "  ...\n",
      "  [198 209 207]\n",
      "  [199 210 207]\n",
      "  [199 211 206]]\n",
      "\n",
      " ...\n",
      "\n",
      " [[190 200 194]\n",
      "  [190 199 193]\n",
      "  [190 199 195]\n",
      "  ...\n",
      "  [197 207 207]\n",
      "  [198 208 206]\n",
      "  [198 208 206]]\n",
      "\n",
      " [[186 199 193]\n",
      "  [187 199 193]\n",
      "  [189 201 195]\n",
      "  ...\n",
      "  [197 209 207]\n",
      "  [196 209 206]\n",
      "  [197 209 206]]\n",
      "\n",
      " [[185 200 193]\n",
      "  [186 201 194]\n",
      "  [188 201 195]\n",
      "  ...\n",
      "  [196 210 205]\n",
      "  [195 209 204]\n",
      "  [195 209 204]]]\n"
     ]
    }
   ],
   "source": [
    "print(photo[0:50,20:100])"
   ]
  },
  {
   "cell_type": "code",
   "execution_count": 12,
   "id": "7d686ce3-6cd9-4436-a552-7ab853d9cabe",
   "metadata": {},
   "outputs": [],
   "source": [
    "photo[190:480,390:640]=photo[110:400,200:450]"
   ]
  },
  {
   "cell_type": "code",
   "execution_count": 13,
   "id": "6a5eaadb-78b3-4eee-bda7-5e2cbf0de067",
   "metadata": {},
   "outputs": [],
   "source": [
    "cv2.imshow(\"my_photo\",photo)\n",
    "cv2.waitKey()\n",
    "cv2.destroyAllWindows()"
   ]
  },
  {
   "cell_type": "code",
   "execution_count": null,
   "id": "5f92458b-f9a2-4b13-a36f-f5699fadcdcd",
   "metadata": {},
   "outputs": [],
   "source": []
  },
  {
   "cell_type": "code",
   "execution_count": null,
   "id": "28d5570e-23a8-4e22-8b3d-a70a97b56431",
   "metadata": {},
   "outputs": [],
   "source": []
  }
 ],
 "metadata": {
  "kernelspec": {
   "display_name": "Python 3 (ipykernel)",
   "language": "python",
   "name": "python3"
  },
  "language_info": {
   "codemirror_mode": {
    "name": "ipython",
    "version": 3
   },
   "file_extension": ".py",
   "mimetype": "text/x-python",
   "name": "python",
   "nbconvert_exporter": "python",
   "pygments_lexer": "ipython3",
   "version": "3.12.3"
  }
 },
 "nbformat": 4,
 "nbformat_minor": 5
}
