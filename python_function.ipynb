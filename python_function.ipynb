{
 "cells": [
  {
   "cell_type": "code",
   "execution_count": 1,
   "id": "d7d2f10c-c52f-48dd-997e-682fcaef864c",
   "metadata": {},
   "outputs": [],
   "source": [
    "def sanidhyaKichai(time,spoon,milkPackets=1):           # here time is function parameter  # here milkpackets is default argument\n",
    "    \n",
    "    print(\"take pan\")\n",
    "    print(\"take water\")\n",
    "    print(f\"boil for {time} minutes\")    # function defination\n",
    "    print(\"add tea leaves\")\n",
    "    print(f\"add {spoon} spoon sugar\")\n",
    "    print(f\"add {milkPackets} cup of milk\")\n",
    "    print(\"enjoy your tea...!\")    "
   ]
  },
  {
   "cell_type": "code",
   "execution_count": 2,
   "id": "fbd99204-6ec0-4488-9013-8e1f26a101e1",
   "metadata": {},
   "outputs": [
    {
     "name": "stdout",
     "output_type": "stream",
     "text": [
      "take pan\n",
      "take water\n",
      "boil for 3 minutes\n",
      "add tea leaves\n",
      "add 1 spoon sugar\n",
      "add 1 cup of milk\n",
      "enjoy your tea...!\n"
     ]
    }
   ],
   "source": [
    "sanidhyaKichai(3,1)    #function calling...\n",
    "                   # here 3 is function argument"
   ]
  },
  {
   "cell_type": "code",
   "execution_count": 3,
   "id": "db7e58d3-fd6d-4262-bcc9-ecba44c325bd",
   "metadata": {},
   "outputs": [],
   "source": [
    "# sanidhyachai(1,3)  it is not correct,above is correct  because of positional argument"
   ]
  },
  {
   "cell_type": "code",
   "execution_count": null,
   "id": "3f1958a6-193d-4c9e-a01c-61ac3d7af7c2",
   "metadata": {},
   "outputs": [],
   "source": []
  },
  {
   "cell_type": "code",
   "execution_count": 4,
   "id": "2d480aba-b8cf-45c1-a370-7094ee9d8eeb",
   "metadata": {},
   "outputs": [
    {
     "name": "stdout",
     "output_type": "stream",
     "text": [
      "take pan\n",
      "take water\n",
      "boil for 3 minutes\n",
      "add tea leaves\n",
      "add 1 spoon sugar\n",
      "add 1 cup of milk\n",
      "enjoy your tea...!\n"
     ]
    }
   ],
   "source": [
    "sanidhyaKichai(spoon=1,time=3)  "
   ]
  },
  {
   "cell_type": "code",
   "execution_count": 5,
   "id": "cb8eb59b-e2fa-44f6-8c06-3f864a2f34fa",
   "metadata": {},
   "outputs": [
    {
     "name": "stdout",
     "output_type": "stream",
     "text": [
      "take pan\n",
      "take water\n",
      "boil for 3 minutes\n",
      "add tea leaves\n",
      "add 1 spoon sugar\n",
      "add 3 cup of milk\n",
      "enjoy your tea...!\n"
     ]
    }
   ],
   "source": [
    "sanidhyaKichai(spoon=1,time=3,milkPackets=3) "
   ]
  },
  {
   "cell_type": "code",
   "execution_count": null,
   "id": "0d7fbbed-7169-4366-9f22-98e4620f31d3",
   "metadata": {},
   "outputs": [],
   "source": []
  },
  {
   "cell_type": "code",
   "execution_count": null,
   "id": "15c430ef-2cab-4fc7-9ac3-66517b5de70b",
   "metadata": {},
   "outputs": [],
   "source": []
  },
  {
   "cell_type": "code",
   "execution_count": 8,
   "id": "4d94172a-acdd-4b08-a5ab-da5f3a778e38",
   "metadata": {},
   "outputs": [],
   "source": [
    "def sum(num1,num2):\n",
    "    res=num1+num2\n",
    "    return res"
   ]
  },
  {
   "cell_type": "code",
   "execution_count": 9,
   "id": "b6f211e2-b84e-4672-9dc5-e039590c38d8",
   "metadata": {},
   "outputs": [
    {
     "data": {
      "text/plain": [
       "69"
      ]
     },
     "execution_count": 9,
     "metadata": {},
     "output_type": "execute_result"
    }
   ],
   "source": [
    "sum(59,10)"
   ]
  },
  {
   "cell_type": "code",
   "execution_count": null,
   "id": "d5ac82d7-1855-4bad-98b5-f5840b053bf7",
   "metadata": {},
   "outputs": [],
   "source": []
  },
  {
   "cell_type": "code",
   "execution_count": 10,
   "id": "7923a443-a7b0-4f93-b80e-23a13f15cf05",
   "metadata": {},
   "outputs": [],
   "source": [
    "def sum(num1,num2):\n",
    "    \"\"\" this function does addition of two numbers taken from user\"\"\"      # this is docstring...\n",
    "    res=num1+num2\n",
    "    return res\n",
    "    print(\"hii\")   # has no effect"
   ]
  },
  {
   "cell_type": "code",
   "execution_count": 11,
   "id": "f16e9330-fecc-4b94-9d69-80722fd3d293",
   "metadata": {},
   "outputs": [],
   "source": [
    "answer=sum(59,10)"
   ]
  },
  {
   "cell_type": "code",
   "execution_count": 12,
   "id": "9bf3bba6-df51-4a23-967c-94c7102e525d",
   "metadata": {},
   "outputs": [
    {
     "data": {
      "text/plain": [
       "69"
      ]
     },
     "execution_count": 12,
     "metadata": {},
     "output_type": "execute_result"
    }
   ],
   "source": [
    "answer"
   ]
  },
  {
   "cell_type": "code",
   "execution_count": 13,
   "id": "0a960664-36a9-4f3a-a549-3b3d5cd26e2e",
   "metadata": {},
   "outputs": [
    {
     "data": {
      "text/plain": [
       "' this function does addition of two numbers taken from user'"
      ]
     },
     "execution_count": 13,
     "metadata": {},
     "output_type": "execute_result"
    }
   ],
   "source": [
    "sum.__doc__      "
   ]
  },
  {
   "cell_type": "code",
   "execution_count": null,
   "id": "09b13c40-1148-48b2-be96-b58e96db11d2",
   "metadata": {},
   "outputs": [],
   "source": []
  }
 ],
 "metadata": {
  "kernelspec": {
   "display_name": "Python 3 (ipykernel)",
   "language": "python",
   "name": "python3"
  },
  "language_info": {
   "codemirror_mode": {
    "name": "ipython",
    "version": 3
   },
   "file_extension": ".py",
   "mimetype": "text/x-python",
   "name": "python",
   "nbconvert_exporter": "python",
   "pygments_lexer": "ipython3",
   "version": "3.12.3"
  }
 },
 "nbformat": 4,
 "nbformat_minor": 5
}
