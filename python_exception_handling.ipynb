{
 "cells": [
  {
   "cell_type": "code",
   "execution_count": 2,
   "id": "ec53bfb3-5fa6-4b34-959a-309fa1dd92b5",
   "metadata": {},
   "outputs": [
    {
     "name": "stdin",
     "output_type": "stream",
     "text": [
      "Enter the number: dir\n"
     ]
    },
    {
     "ename": "ValueError",
     "evalue": "invalid literal for int() with base 10: 'dir'",
     "output_type": "error",
     "traceback": [
      "\u001b[1;31m---------------------------------------------------------------------------\u001b[0m",
      "\u001b[1;31mValueError\u001b[0m                                Traceback (most recent call last)",
      "Cell \u001b[1;32mIn[2], line 1\u001b[0m\n\u001b[1;32m----> 1\u001b[0m num\u001b[38;5;241m=\u001b[39m\u001b[38;5;28;43mint\u001b[39;49m\u001b[43m(\u001b[49m\u001b[38;5;28;43minput\u001b[39;49m\u001b[43m(\u001b[49m\u001b[38;5;124;43m\"\u001b[39;49m\u001b[38;5;124;43mEnter the number:\u001b[39;49m\u001b[38;5;124;43m\"\u001b[39;49m\u001b[43m)\u001b[49m\u001b[43m)\u001b[49m     \u001b[38;5;66;03m# but if we string here...then... \u001b[39;00m\n\u001b[0;32m      3\u001b[0m \u001b[38;5;28;01mfor\u001b[39;00m i \u001b[38;5;129;01min\u001b[39;00m \u001b[38;5;28mrange\u001b[39m(\u001b[38;5;241m1\u001b[39m,\u001b[38;5;241m11\u001b[39m):\n\u001b[0;32m      4\u001b[0m     \u001b[38;5;28mprint\u001b[39m(\u001b[38;5;124mf\u001b[39m\u001b[38;5;124m\"\u001b[39m\u001b[38;5;132;01m{\u001b[39;00mnum\u001b[38;5;132;01m}\u001b[39;00m\u001b[38;5;124m X \u001b[39m\u001b[38;5;132;01m{\u001b[39;00mi\u001b[38;5;132;01m}\u001b[39;00m\u001b[38;5;124m = \u001b[39m\u001b[38;5;132;01m{\u001b[39;00mnum\u001b[38;5;241m*\u001b[39mi\u001b[38;5;132;01m}\u001b[39;00m\u001b[38;5;124m\"\u001b[39m)\n",
      "\u001b[1;31mValueError\u001b[0m: invalid literal for int() with base 10: 'dir'"
     ]
    }
   ],
   "source": [
    "num=int(input(\"Enter the number:\"))     # but if we string here...then... \n",
    "\n",
    "for i in range(1,11):\n",
    "    print(f\"{num} X {i} = {num*i}\")\n",
    "\n",
    "print(\"hello how are you\")    #not executed  i want it"
   ]
  },
  {
   "cell_type": "code",
   "execution_count": null,
   "id": "f774a811-b61c-488c-bdbd-e56979af0047",
   "metadata": {},
   "outputs": [],
   "source": []
  },
  {
   "cell_type": "code",
   "execution_count": 3,
   "id": "ce6d293e-732a-497b-baab-5b9ce63aae71",
   "metadata": {},
   "outputs": [
    {
     "name": "stdin",
     "output_type": "stream",
     "text": [
      "Enter the number: e\n"
     ]
    },
    {
     "name": "stdout",
     "output_type": "stream",
     "text": [
      "Give valid input...\n",
      "i will execute at any cost...\n"
     ]
    }
   ],
   "source": [
    "try:\n",
    "    num=int(input(\"Enter the number:\"))     # but if we string here...then... \n",
    "\n",
    "    for i in range(1,11):\n",
    "        print(f\"{num} X {i} = {num*i}\")\n",
    "\n",
    "# except Exception as e:        #to print which error is occured...\n",
    "#     print(e)\n",
    "\n",
    "except:\n",
    "    # print(\"hello how are you?\")\n",
    "    print(\"Give valid input...\")\n",
    "\n",
    "finally:\n",
    "    print(\"i will execute at any cost...\")"
   ]
  },
  {
   "cell_type": "code",
   "execution_count": null,
   "id": "ba4b974f-1649-4288-a1af-f90d01175c47",
   "metadata": {},
   "outputs": [],
   "source": []
  },
  {
   "cell_type": "code",
   "execution_count": null,
   "id": "cce6ddc4-0e01-460e-81d6-094396dbbd81",
   "metadata": {},
   "outputs": [],
   "source": [
    "# to understand finally in depth...\n",
    "\n",
    "def mylist():\n",
    "    \n",
    "    try:\n",
    "        index=int(input(\"Enter your index:\"))\n",
    "        x=[10,20,30,40,50]\n",
    "        return x[index]\n",
    "\n",
    "    except:\n",
    "        return \"Enter valid index.\"\n",
    "\n",
    "    print(\"i am always executed.\")\n",
    "\n",
    "res=mylist()\n",
    "print(res)"
   ]
  },
  {
   "cell_type": "code",
   "execution_count": null,
   "id": "545e334f-3c93-4110-8f21-ed9cf4d52636",
   "metadata": {},
   "outputs": [],
   "source": [
    "def mylist():\n",
    "    \n",
    "    try:\n",
    "        index=int(input(\"Enter your index:\"))\n",
    "        x=[10,20,30,40,50]\n",
    "        return x[index]\n",
    "\n",
    "    except:\n",
    "        return \"Enter valid index.\"\n",
    "\n",
    "    finally:\n",
    "        print(\"i am always executed.\")\n",
    "\n",
    "res=mylist()\n",
    "print(res)"
   ]
  },
  {
   "cell_type": "code",
   "execution_count": null,
   "id": "53205aef-431a-4aec-88a1-2d97a2c0ff6a",
   "metadata": {},
   "outputs": [],
   "source": []
  },
  {
   "cell_type": "code",
   "execution_count": null,
   "id": "375a2cd0-e24d-461e-ae91-cbf0e884237f",
   "metadata": {},
   "outputs": [],
   "source": []
  },
  {
   "cell_type": "code",
   "execution_count": null,
   "id": "0716ff91-3107-4863-a4bb-2e7f47e638c2",
   "metadata": {},
   "outputs": [],
   "source": [
    "# custom error..."
   ]
  },
  {
   "cell_type": "code",
   "execution_count": 1,
   "id": "cc5ec597-b7e3-41c1-82bd-d79f0c471406",
   "metadata": {},
   "outputs": [
    {
     "name": "stdin",
     "output_type": "stream",
     "text": [
      "Enter the value between 5 and 9: 4\n"
     ]
    },
    {
     "ename": "ValueError",
     "evalue": "Enter value between 5 and 9 ",
     "output_type": "error",
     "traceback": [
      "\u001b[1;31m---------------------------------------------------------------------------\u001b[0m",
      "\u001b[1;31mValueError\u001b[0m                                Traceback (most recent call last)",
      "Cell \u001b[1;32mIn[1], line 3\u001b[0m\n\u001b[0;32m      1\u001b[0m a\u001b[38;5;241m=\u001b[39m\u001b[38;5;28mint\u001b[39m(\u001b[38;5;28minput\u001b[39m(\u001b[38;5;124m\"\u001b[39m\u001b[38;5;124mEnter the value between 5 and 9:\u001b[39m\u001b[38;5;124m\"\u001b[39m))\n\u001b[0;32m      2\u001b[0m \u001b[38;5;28;01mif\u001b[39;00m a\u001b[38;5;241m<\u001b[39m\u001b[38;5;241m5\u001b[39m \u001b[38;5;129;01mor\u001b[39;00m a\u001b[38;5;241m>\u001b[39m\u001b[38;5;241m9\u001b[39m:\n\u001b[1;32m----> 3\u001b[0m     \u001b[38;5;28;01mraise\u001b[39;00m \u001b[38;5;167;01mValueError\u001b[39;00m(\u001b[38;5;124m\"\u001b[39m\u001b[38;5;124mEnter value between 5 and 9 \u001b[39m\u001b[38;5;124m\"\u001b[39m)\n",
      "\u001b[1;31mValueError\u001b[0m: Enter value between 5 and 9 "
     ]
    }
   ],
   "source": [
    "a=int(input(\"Enter the value between 5 and 9:\"))\n",
    "if a<5 or a>9:\n",
    "    raise ValueError(\"Enter value between 5 and 9 \")"
   ]
  },
  {
   "cell_type": "code",
   "execution_count": null,
   "id": "a0f900cd-1e44-499f-a1ca-1b51cb89669a",
   "metadata": {},
   "outputs": [],
   "source": []
  }
 ],
 "metadata": {
  "kernelspec": {
   "display_name": "Python 3 (ipykernel)",
   "language": "python",
   "name": "python3"
  },
  "language_info": {
   "codemirror_mode": {
    "name": "ipython",
    "version": 3
   },
   "file_extension": ".py",
   "mimetype": "text/x-python",
   "name": "python",
   "nbconvert_exporter": "python",
   "pygments_lexer": "ipython3",
   "version": "3.12.3"
  }
 },
 "nbformat": 4,
 "nbformat_minor": 5
}
