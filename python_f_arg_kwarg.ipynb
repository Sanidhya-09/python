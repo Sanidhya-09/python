{
 "cells": [
  {
   "cell_type": "code",
   "execution_count": 32,
   "id": "dd7c4eea-52f7-453d-b49b-9137b90b0e93",
   "metadata": {},
   "outputs": [],
   "source": [
    "def student(*listOfStudent,**postOfStudent):\n",
    "    for item in listOfStudent:\n",
    "        print(item)\n",
    "    print(\"**********************************************************\")\n",
    "    for key,value in postOfStudent.items():\n",
    "        print(f\"{value} has post of {key}\")"
   ]
  },
  {
   "cell_type": "code",
   "execution_count": 33,
   "id": "06ccd69b-d572-4e56-b036-503fdc39ad67",
   "metadata": {},
   "outputs": [],
   "source": [
    "mystudents=[\"sanidhya\",\"prem\",\"deepak\",\"mayur\",\"om\"]"
   ]
  },
  {
   "cell_type": "code",
   "execution_count": 34,
   "id": "63ac76c7-fbfa-4784-b251-a46f32c1bbd8",
   "metadata": {},
   "outputs": [],
   "source": [
    "myDict={\"Moniter\":\"Sanidhya\",\"Coordinator\":\"om\",\"Fitness Trainer\":\"deepak\"}"
   ]
  },
  {
   "cell_type": "code",
   "execution_count": 35,
   "id": "0c224bac-0d08-4198-8b65-60ce894faa02",
   "metadata": {},
   "outputs": [
    {
     "name": "stdout",
     "output_type": "stream",
     "text": [
      "sanidhya\n",
      "prem\n",
      "deepak\n",
      "mayur\n",
      "om\n",
      "**********************************************************\n",
      "Sanidhya has post of Moniter\n",
      "om has post of Coordinator\n",
      "deepak has post of Fitness Trainer\n"
     ]
    }
   ],
   "source": [
    "student(*mystudents,**myDict)"
   ]
  },
  {
   "cell_type": "code",
   "execution_count": null,
   "id": "2e5304a6-6f82-4323-89bc-c7295bc47704",
   "metadata": {},
   "outputs": [],
   "source": [
    "student()"
   ]
  }
 ],
 "metadata": {
  "kernelspec": {
   "display_name": "Python 3 (ipykernel)",
   "language": "python",
   "name": "python3"
  },
  "language_info": {
   "codemirror_mode": {
    "name": "ipython",
    "version": 3
   },
   "file_extension": ".py",
   "mimetype": "text/x-python",
   "name": "python",
   "nbconvert_exporter": "python",
   "pygments_lexer": "ipython3",
   "version": "3.12.3"
  }
 },
 "nbformat": 4,
 "nbformat_minor": 5
}
