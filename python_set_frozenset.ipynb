{
 "cells": [
  {
   "cell_type": "code",
   "execution_count": 1,
   "id": "c9d8d622-2407-4718-838a-d1f53293da81",
   "metadata": {},
   "outputs": [],
   "source": [
    "#python set"
   ]
  },
  {
   "cell_type": "code",
   "execution_count": 2,
   "id": "06c1d0ab-6934-46a7-a788-b8910b925055",
   "metadata": {},
   "outputs": [],
   "source": [
    "var={1,8,5,4,9,3,4,7,2,6,7}             #sets are mutable and remove duplicates automatically"
   ]
  },
  {
   "cell_type": "code",
   "execution_count": 3,
   "id": "8f563d95-ac9f-4f35-9456-0ed67c8ca37d",
   "metadata": {},
   "outputs": [
    {
     "name": "stdout",
     "output_type": "stream",
     "text": [
      "{1, 2, 3, 4, 5, 6, 7, 8, 9}\n"
     ]
    }
   ],
   "source": [
    "print(var)"
   ]
  },
  {
   "cell_type": "code",
   "execution_count": 4,
   "id": "b134ee72-f606-41aa-92ea-e58b4226a7d1",
   "metadata": {},
   "outputs": [
    {
     "data": {
      "text/plain": [
       "set"
      ]
     },
     "execution_count": 4,
     "metadata": {},
     "output_type": "execute_result"
    }
   ],
   "source": [
    "type(var)"
   ]
  },
  {
   "cell_type": "code",
   "execution_count": 5,
   "id": "2207b18f-7a73-413a-bea2-b5d78f26ea0b",
   "metadata": {},
   "outputs": [],
   "source": [
    "var.add(12)"
   ]
  },
  {
   "cell_type": "code",
   "execution_count": 6,
   "id": "135129bb-9a0e-4443-82fe-dfe1920538de",
   "metadata": {},
   "outputs": [],
   "source": [
    "var.discard(12)"
   ]
  },
  {
   "cell_type": "code",
   "execution_count": 7,
   "id": "0583b211-051c-41c6-8743-e804cf418812",
   "metadata": {},
   "outputs": [
    {
     "name": "stdout",
     "output_type": "stream",
     "text": [
      "{1, 2, 3, 4, 5, 6, 7, 8, 9}\n"
     ]
    }
   ],
   "source": [
    "print(var)"
   ]
  },
  {
   "cell_type": "code",
   "execution_count": 8,
   "id": "7195ee8a-b426-4bd1-86fa-2cc444350ae1",
   "metadata": {},
   "outputs": [],
   "source": [
    "var2={1,8,5,9,10,4}"
   ]
  },
  {
   "cell_type": "code",
   "execution_count": 9,
   "id": "41e28834-ee5b-4f82-b52a-90d46319aa4b",
   "metadata": {},
   "outputs": [],
   "source": [
    "new_var=var.intersection(var2)"
   ]
  },
  {
   "cell_type": "code",
   "execution_count": 10,
   "id": "36d6d0c1-9cfb-4996-b587-a0201358cd83",
   "metadata": {},
   "outputs": [
    {
     "data": {
      "text/plain": [
       "{1, 4, 5, 8, 9}"
      ]
     },
     "execution_count": 10,
     "metadata": {},
     "output_type": "execute_result"
    }
   ],
   "source": [
    "new_var"
   ]
  },
  {
   "cell_type": "code",
   "execution_count": null,
   "id": "81e2d8e1-b269-4cf6-9982-0b118280bb86",
   "metadata": {},
   "outputs": [],
   "source": []
  },
  {
   "cell_type": "code",
   "execution_count": 11,
   "id": "1a8bab2d-a979-4ccb-9581-f2d93ee3dd0c",
   "metadata": {},
   "outputs": [],
   "source": [
    "#python frozenset"
   ]
  },
  {
   "cell_type": "code",
   "execution_count": 12,
   "id": "18cacffa-f9a2-4e93-b180-6529d25898ed",
   "metadata": {},
   "outputs": [],
   "source": [
    "age=frozenset({10,11,19,47,35,17,15,19})"
   ]
  },
  {
   "cell_type": "code",
   "execution_count": 13,
   "id": "a76ae431-1d7c-457e-835d-a65e61a4717f",
   "metadata": {},
   "outputs": [
    {
     "data": {
      "text/plain": [
       "frozenset"
      ]
     },
     "execution_count": 13,
     "metadata": {},
     "output_type": "execute_result"
    }
   ],
   "source": [
    "type(age)"
   ]
  },
  {
   "cell_type": "code",
   "execution_count": 14,
   "id": "cf12eed6-5073-4c20-a466-e35c2bcb8421",
   "metadata": {},
   "outputs": [],
   "source": [
    "# age.add(5)     not able to change the set"
   ]
  },
  {
   "cell_type": "code",
   "execution_count": 15,
   "id": "9db26f7b-b270-492d-af30-cb473937d45a",
   "metadata": {},
   "outputs": [],
   "source": [
    "age2=frozenset({10,20,30,40,50})"
   ]
  },
  {
   "cell_type": "code",
   "execution_count": 16,
   "id": "592ca74f-6163-4a27-b068-23a08fa9e51c",
   "metadata": {},
   "outputs": [
    {
     "data": {
      "text/plain": [
       "frozenset({10, 11, 15, 17, 19, 20, 30, 35, 40, 47, 50})"
      ]
     },
     "execution_count": 16,
     "metadata": {},
     "output_type": "execute_result"
    }
   ],
   "source": [
    "age.union(age2)"
   ]
  },
  {
   "cell_type": "code",
   "execution_count": null,
   "id": "964af036-21f7-46be-8901-f7237a4ae7c1",
   "metadata": {},
   "outputs": [],
   "source": []
  },
  {
   "cell_type": "code",
   "execution_count": 17,
   "id": "d9d0922c-f6bd-4823-90c1-4f6839bbbb56",
   "metadata": {},
   "outputs": [],
   "source": [
    "#python Random module"
   ]
  },
  {
   "cell_type": "code",
   "execution_count": 18,
   "id": "d4f36848-2c87-4165-9fb7-4d78a924443d",
   "metadata": {},
   "outputs": [],
   "source": [
    "import random"
   ]
  },
  {
   "cell_type": "code",
   "execution_count": 19,
   "id": "42b00b5a-dbab-4cf4-ac54-a741d838f1de",
   "metadata": {},
   "outputs": [
    {
     "name": "stdout",
     "output_type": "stream",
     "text": [
      "11\n"
     ]
    }
   ],
   "source": [
    "print(random.randrange(0,15))"
   ]
  },
  {
   "cell_type": "code",
   "execution_count": null,
   "id": "6a13ace3-a884-420f-b636-29b386ddcae7",
   "metadata": {},
   "outputs": [],
   "source": []
  },
  {
   "cell_type": "code",
   "execution_count": null,
   "id": "f7ec1eae-a652-4692-aff9-15afa615449e",
   "metadata": {},
   "outputs": [],
   "source": []
  }
 ],
 "metadata": {
  "kernelspec": {
   "display_name": "Python 3 (ipykernel)",
   "language": "python",
   "name": "python3"
  },
  "language_info": {
   "codemirror_mode": {
    "name": "ipython",
    "version": 3
   },
   "file_extension": ".py",
   "mimetype": "text/x-python",
   "name": "python",
   "nbconvert_exporter": "python",
   "pygments_lexer": "ipython3",
   "version": "3.12.3"
  }
 },
 "nbformat": 4,
 "nbformat_minor": 5
}
